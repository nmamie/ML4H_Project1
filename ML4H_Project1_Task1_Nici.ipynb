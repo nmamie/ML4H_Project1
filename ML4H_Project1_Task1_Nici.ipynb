{
  "nbformat": 4,
  "nbformat_minor": 0,
  "metadata": {
    "colab": {
      "provenance": [],
      "mount_file_id": "19FJ8nAwBIEtb-jcinl3y4FgqOTrI-hrx",
      "authorship_tag": "ABX9TyMQAVjr0Vz6GYY/9eovPY9I",
      "include_colab_link": true
    },
    "kernelspec": {
      "name": "python3",
      "display_name": "Python 3"
    },
    "language_info": {
      "name": "python"
    }
  },
  "cells": [
    {
      "cell_type": "markdown",
      "metadata": {
        "id": "view-in-github",
        "colab_type": "text"
      },
      "source": [
        "<a href=\"https://colab.research.google.com/github/nmamie/ML4H_Project1/blob/master/ML4H_Project1_Task1_Nici.ipynb\" target=\"_parent\"><img src=\"https://colab.research.google.com/assets/colab-badge.svg\" alt=\"Open In Colab\"/></a>"
      ]
    },
    {
      "cell_type": "markdown",
      "source": [
        "# **Part 1: Heart Disease Prediction**"
      ],
      "metadata": {
        "id": "TK2Dt7SVT_8N"
      }
    },
    {
      "cell_type": "markdown",
      "source": [
        "## Preparation"
      ],
      "metadata": {
        "id": "GRVbVTTFTyBH"
      }
    },
    {
      "cell_type": "code",
      "source": [
        "## basic packages\n",
        "import pandas as pd\n",
        "import numpy as np\n",
        "import math\n",
        "from IPython.display import display"
      ],
      "metadata": {
        "id": "xLNTfpfuRWnx"
      },
      "execution_count": 89,
      "outputs": []
    },
    {
      "cell_type": "code",
      "source": [
        "## setup\n",
        "import warnings\n",
        "warnings.filterwarnings(\"ignore\")\n",
        "\n",
        "path = \"/content/drive/MyDrive/1) ETH/3) ML in Healthcare/5) Assignments/Project 1/Data Heart Failure/\""
      ],
      "metadata": {
        "id": "QGJx9k5nRovi"
      },
      "execution_count": 90,
      "outputs": []
    },
    {
      "cell_type": "code",
      "execution_count": 91,
      "metadata": {
        "id": "5TJxcCzHPAcV"
      },
      "outputs": [],
      "source": [
        "## data import\n",
        "train_data = pd.read_csv(path + \"train_val_split.csv\")\n",
        "test_data = pd.read_csv(path + \"test_split.csv\")"
      ]
    },
    {
      "cell_type": "markdown",
      "source": [
        "## **Q1: Exploratory Data Analysis**"
      ],
      "metadata": {
        "id": "qG74Ts2UUJjj"
      }
    },
    {
      "cell_type": "markdown",
      "source": [
        "### Basic checks"
      ],
      "metadata": {
        "id": "IIvSw4onXKOy"
      }
    },
    {
      "cell_type": "code",
      "source": [
        "## examine head\n",
        "train_data.head()"
      ],
      "metadata": {
        "id": "5I-XFlb8nuCB"
      },
      "execution_count": null,
      "outputs": []
    },
    {
      "cell_type": "code",
      "source": [
        "## check dataset sample size & dimensionality\n",
        "n = len(train_data)\n",
        "p = len(train_data.columns) - 1\n",
        "print(\"No. of samples:  \", n)\n",
        "print(\"No. of features: \", p)"
      ],
      "metadata": {
        "id": "u8e83pbjfdJS"
      },
      "execution_count": null,
      "outputs": []
    },
    {
      "cell_type": "code",
      "source": [
        "## check for missing data\n",
        "train_data.isnull().sum()"
      ],
      "metadata": {
        "id": "BXqOE40SyJk5"
      },
      "execution_count": null,
      "outputs": []
    },
    {
      "cell_type": "markdown",
      "source": [
        "**Conclusions:**\n",
        "*   We have significantly more observations than variables. Hence, no further problems arise.\n",
        "*   There are no missing values.\n",
        "\n",
        "**Implications:**\n",
        "*   None"
      ],
      "metadata": {
        "id": "QrzewBu0yZ6Q"
      }
    },
    {
      "cell_type": "markdown",
      "source": [
        "### Data types and distributions of variables"
      ],
      "metadata": {
        "id": "gNt4CpBFXOFs"
      }
    },
    {
      "cell_type": "code",
      "source": [
        "## explore feature data types\n",
        "train_data.dtypes"
      ],
      "metadata": {
        "id": "oqtccc8WWnVi"
      },
      "execution_count": null,
      "outputs": []
    },
    {
      "cell_type": "markdown",
      "source": [
        "*FastingBS* and *HeartDisease* are binary, hence change to data type \"object\" for plotting."
      ],
      "metadata": {
        "id": "7Bja1Mxfm7GM"
      }
    },
    {
      "cell_type": "code",
      "source": [
        "## change data type of categorical variables to \"object\"\n",
        "train_data[\"FastingBS\"] = train_data[\"FastingBS\"].astype(\"object\")\n",
        "train_data[\"HeartDisease\"] = train_data[\"HeartDisease\"].astype(\"object\")"
      ],
      "metadata": {
        "id": "u7rJOKKdivoc"
      },
      "execution_count": 92,
      "outputs": []
    },
    {
      "cell_type": "code",
      "source": [
        "# save variable & names\n",
        "fts = train_data.drop(\"HeartDisease\", axis=1).columns.tolist()\n",
        "num_fts = train_data.drop(\"HeartDisease\", axis=1).select_dtypes(exclude=\"object\").columns.tolist()\n",
        "cat_fts = train_data.drop(\"HeartDisease\", axis=1).select_dtypes(include=\"object\").columns.tolist()\n",
        "num_vars = train_data.select_dtypes(include=\"int64\").columns.tolist()\n",
        "cat_vars = train_data.select_dtypes(include=\"object\").columns.tolist()"
      ],
      "metadata": {
        "id": "XWFLRWYypA3M"
      },
      "execution_count": 93,
      "outputs": []
    },
    {
      "cell_type": "code",
      "source": [
        "# summary statistics\n",
        "display(train_data[num_fts].round(2))\n",
        "display(train_data[cat_fts])"
      ],
      "metadata": {
        "colab": {
          "base_uri": "https://localhost:8080/",
          "height": 830
        },
        "id": "xgE5P0hOm1A3",
        "outputId": "300bb525-1d30-4839-d13d-6c56ce5398ea"
      },
      "execution_count": 10,
      "outputs": [
        {
          "output_type": "display_data",
          "data": {
            "text/plain": [
              "     Age  RestingBP  Cholesterol  MaxHR  Oldpeak\n",
              "0     40        140          289    172      0.0\n",
              "1     37        130          283     98      0.0\n",
              "2     48        138          214    108      1.5\n",
              "3     54        150          195    122      0.0\n",
              "4     39        120          339    170      0.0\n",
              "..   ...        ...          ...    ...      ...\n",
              "729   41        120          157    182      0.0\n",
              "730   57        140          241    123      0.2\n",
              "731   45        110          264    132      1.2\n",
              "732   68        144          193    141      3.4\n",
              "733   57        130          131    115      1.2\n",
              "\n",
              "[734 rows x 5 columns]"
            ],
            "text/html": [
              "\n",
              "  <div id=\"df-bcd8544e-fe81-4af5-b0b0-36a8d62928f3\">\n",
              "    <div class=\"colab-df-container\">\n",
              "      <div>\n",
              "<style scoped>\n",
              "    .dataframe tbody tr th:only-of-type {\n",
              "        vertical-align: middle;\n",
              "    }\n",
              "\n",
              "    .dataframe tbody tr th {\n",
              "        vertical-align: top;\n",
              "    }\n",
              "\n",
              "    .dataframe thead th {\n",
              "        text-align: right;\n",
              "    }\n",
              "</style>\n",
              "<table border=\"1\" class=\"dataframe\">\n",
              "  <thead>\n",
              "    <tr style=\"text-align: right;\">\n",
              "      <th></th>\n",
              "      <th>Age</th>\n",
              "      <th>RestingBP</th>\n",
              "      <th>Cholesterol</th>\n",
              "      <th>MaxHR</th>\n",
              "      <th>Oldpeak</th>\n",
              "    </tr>\n",
              "  </thead>\n",
              "  <tbody>\n",
              "    <tr>\n",
              "      <th>0</th>\n",
              "      <td>40</td>\n",
              "      <td>140</td>\n",
              "      <td>289</td>\n",
              "      <td>172</td>\n",
              "      <td>0.0</td>\n",
              "    </tr>\n",
              "    <tr>\n",
              "      <th>1</th>\n",
              "      <td>37</td>\n",
              "      <td>130</td>\n",
              "      <td>283</td>\n",
              "      <td>98</td>\n",
              "      <td>0.0</td>\n",
              "    </tr>\n",
              "    <tr>\n",
              "      <th>2</th>\n",
              "      <td>48</td>\n",
              "      <td>138</td>\n",
              "      <td>214</td>\n",
              "      <td>108</td>\n",
              "      <td>1.5</td>\n",
              "    </tr>\n",
              "    <tr>\n",
              "      <th>3</th>\n",
              "      <td>54</td>\n",
              "      <td>150</td>\n",
              "      <td>195</td>\n",
              "      <td>122</td>\n",
              "      <td>0.0</td>\n",
              "    </tr>\n",
              "    <tr>\n",
              "      <th>4</th>\n",
              "      <td>39</td>\n",
              "      <td>120</td>\n",
              "      <td>339</td>\n",
              "      <td>170</td>\n",
              "      <td>0.0</td>\n",
              "    </tr>\n",
              "    <tr>\n",
              "      <th>...</th>\n",
              "      <td>...</td>\n",
              "      <td>...</td>\n",
              "      <td>...</td>\n",
              "      <td>...</td>\n",
              "      <td>...</td>\n",
              "    </tr>\n",
              "    <tr>\n",
              "      <th>729</th>\n",
              "      <td>41</td>\n",
              "      <td>120</td>\n",
              "      <td>157</td>\n",
              "      <td>182</td>\n",
              "      <td>0.0</td>\n",
              "    </tr>\n",
              "    <tr>\n",
              "      <th>730</th>\n",
              "      <td>57</td>\n",
              "      <td>140</td>\n",
              "      <td>241</td>\n",
              "      <td>123</td>\n",
              "      <td>0.2</td>\n",
              "    </tr>\n",
              "    <tr>\n",
              "      <th>731</th>\n",
              "      <td>45</td>\n",
              "      <td>110</td>\n",
              "      <td>264</td>\n",
              "      <td>132</td>\n",
              "      <td>1.2</td>\n",
              "    </tr>\n",
              "    <tr>\n",
              "      <th>732</th>\n",
              "      <td>68</td>\n",
              "      <td>144</td>\n",
              "      <td>193</td>\n",
              "      <td>141</td>\n",
              "      <td>3.4</td>\n",
              "    </tr>\n",
              "    <tr>\n",
              "      <th>733</th>\n",
              "      <td>57</td>\n",
              "      <td>130</td>\n",
              "      <td>131</td>\n",
              "      <td>115</td>\n",
              "      <td>1.2</td>\n",
              "    </tr>\n",
              "  </tbody>\n",
              "</table>\n",
              "<p>734 rows × 5 columns</p>\n",
              "</div>\n",
              "      <button class=\"colab-df-convert\" onclick=\"convertToInteractive('df-bcd8544e-fe81-4af5-b0b0-36a8d62928f3')\"\n",
              "              title=\"Convert this dataframe to an interactive table.\"\n",
              "              style=\"display:none;\">\n",
              "        \n",
              "  <svg xmlns=\"http://www.w3.org/2000/svg\" height=\"24px\"viewBox=\"0 0 24 24\"\n",
              "       width=\"24px\">\n",
              "    <path d=\"M0 0h24v24H0V0z\" fill=\"none\"/>\n",
              "    <path d=\"M18.56 5.44l.94 2.06.94-2.06 2.06-.94-2.06-.94-.94-2.06-.94 2.06-2.06.94zm-11 1L8.5 8.5l.94-2.06 2.06-.94-2.06-.94L8.5 2.5l-.94 2.06-2.06.94zm10 10l.94 2.06.94-2.06 2.06-.94-2.06-.94-.94-2.06-.94 2.06-2.06.94z\"/><path d=\"M17.41 7.96l-1.37-1.37c-.4-.4-.92-.59-1.43-.59-.52 0-1.04.2-1.43.59L10.3 9.45l-7.72 7.72c-.78.78-.78 2.05 0 2.83L4 21.41c.39.39.9.59 1.41.59.51 0 1.02-.2 1.41-.59l7.78-7.78 2.81-2.81c.8-.78.8-2.07 0-2.86zM5.41 20L4 18.59l7.72-7.72 1.47 1.35L5.41 20z\"/>\n",
              "  </svg>\n",
              "      </button>\n",
              "      \n",
              "  <style>\n",
              "    .colab-df-container {\n",
              "      display:flex;\n",
              "      flex-wrap:wrap;\n",
              "      gap: 12px;\n",
              "    }\n",
              "\n",
              "    .colab-df-convert {\n",
              "      background-color: #E8F0FE;\n",
              "      border: none;\n",
              "      border-radius: 50%;\n",
              "      cursor: pointer;\n",
              "      display: none;\n",
              "      fill: #1967D2;\n",
              "      height: 32px;\n",
              "      padding: 0 0 0 0;\n",
              "      width: 32px;\n",
              "    }\n",
              "\n",
              "    .colab-df-convert:hover {\n",
              "      background-color: #E2EBFA;\n",
              "      box-shadow: 0px 1px 2px rgba(60, 64, 67, 0.3), 0px 1px 3px 1px rgba(60, 64, 67, 0.15);\n",
              "      fill: #174EA6;\n",
              "    }\n",
              "\n",
              "    [theme=dark] .colab-df-convert {\n",
              "      background-color: #3B4455;\n",
              "      fill: #D2E3FC;\n",
              "    }\n",
              "\n",
              "    [theme=dark] .colab-df-convert:hover {\n",
              "      background-color: #434B5C;\n",
              "      box-shadow: 0px 1px 3px 1px rgba(0, 0, 0, 0.15);\n",
              "      filter: drop-shadow(0px 1px 2px rgba(0, 0, 0, 0.3));\n",
              "      fill: #FFFFFF;\n",
              "    }\n",
              "  </style>\n",
              "\n",
              "      <script>\n",
              "        const buttonEl =\n",
              "          document.querySelector('#df-bcd8544e-fe81-4af5-b0b0-36a8d62928f3 button.colab-df-convert');\n",
              "        buttonEl.style.display =\n",
              "          google.colab.kernel.accessAllowed ? 'block' : 'none';\n",
              "\n",
              "        async function convertToInteractive(key) {\n",
              "          const element = document.querySelector('#df-bcd8544e-fe81-4af5-b0b0-36a8d62928f3');\n",
              "          const dataTable =\n",
              "            await google.colab.kernel.invokeFunction('convertToInteractive',\n",
              "                                                     [key], {});\n",
              "          if (!dataTable) return;\n",
              "\n",
              "          const docLinkHtml = 'Like what you see? Visit the ' +\n",
              "            '<a target=\"_blank\" href=https://colab.research.google.com/notebooks/data_table.ipynb>data table notebook</a>'\n",
              "            + ' to learn more about interactive tables.';\n",
              "          element.innerHTML = '';\n",
              "          dataTable['output_type'] = 'display_data';\n",
              "          await google.colab.output.renderOutput(dataTable, element);\n",
              "          const docLink = document.createElement('div');\n",
              "          docLink.innerHTML = docLinkHtml;\n",
              "          element.appendChild(docLink);\n",
              "        }\n",
              "      </script>\n",
              "    </div>\n",
              "  </div>\n",
              "  "
            ]
          },
          "metadata": {}
        },
        {
          "output_type": "display_data",
          "data": {
            "text/plain": [
              "    Sex ChestPainType FastingBS RestingECG ExerciseAngina ST_Slope\n",
              "0     M           ATA         0     Normal              N       Up\n",
              "1     M           ATA         0         ST              N       Up\n",
              "2     F           ASY         0     Normal              Y     Flat\n",
              "3     M           NAP         0     Normal              N       Up\n",
              "4     M           NAP         0     Normal              N       Up\n",
              "..   ..           ...       ...        ...            ...      ...\n",
              "729   M           ATA         0     Normal              N       Up\n",
              "730   F           ASY         0     Normal              Y     Flat\n",
              "731   M            TA         0     Normal              N     Flat\n",
              "732   M           ASY         1     Normal              N     Flat\n",
              "733   M           ASY         0     Normal              Y     Flat\n",
              "\n",
              "[734 rows x 6 columns]"
            ],
            "text/html": [
              "\n",
              "  <div id=\"df-1718ce0b-d3ae-44e5-b306-b0eab657c144\">\n",
              "    <div class=\"colab-df-container\">\n",
              "      <div>\n",
              "<style scoped>\n",
              "    .dataframe tbody tr th:only-of-type {\n",
              "        vertical-align: middle;\n",
              "    }\n",
              "\n",
              "    .dataframe tbody tr th {\n",
              "        vertical-align: top;\n",
              "    }\n",
              "\n",
              "    .dataframe thead th {\n",
              "        text-align: right;\n",
              "    }\n",
              "</style>\n",
              "<table border=\"1\" class=\"dataframe\">\n",
              "  <thead>\n",
              "    <tr style=\"text-align: right;\">\n",
              "      <th></th>\n",
              "      <th>Sex</th>\n",
              "      <th>ChestPainType</th>\n",
              "      <th>FastingBS</th>\n",
              "      <th>RestingECG</th>\n",
              "      <th>ExerciseAngina</th>\n",
              "      <th>ST_Slope</th>\n",
              "    </tr>\n",
              "  </thead>\n",
              "  <tbody>\n",
              "    <tr>\n",
              "      <th>0</th>\n",
              "      <td>M</td>\n",
              "      <td>ATA</td>\n",
              "      <td>0</td>\n",
              "      <td>Normal</td>\n",
              "      <td>N</td>\n",
              "      <td>Up</td>\n",
              "    </tr>\n",
              "    <tr>\n",
              "      <th>1</th>\n",
              "      <td>M</td>\n",
              "      <td>ATA</td>\n",
              "      <td>0</td>\n",
              "      <td>ST</td>\n",
              "      <td>N</td>\n",
              "      <td>Up</td>\n",
              "    </tr>\n",
              "    <tr>\n",
              "      <th>2</th>\n",
              "      <td>F</td>\n",
              "      <td>ASY</td>\n",
              "      <td>0</td>\n",
              "      <td>Normal</td>\n",
              "      <td>Y</td>\n",
              "      <td>Flat</td>\n",
              "    </tr>\n",
              "    <tr>\n",
              "      <th>3</th>\n",
              "      <td>M</td>\n",
              "      <td>NAP</td>\n",
              "      <td>0</td>\n",
              "      <td>Normal</td>\n",
              "      <td>N</td>\n",
              "      <td>Up</td>\n",
              "    </tr>\n",
              "    <tr>\n",
              "      <th>4</th>\n",
              "      <td>M</td>\n",
              "      <td>NAP</td>\n",
              "      <td>0</td>\n",
              "      <td>Normal</td>\n",
              "      <td>N</td>\n",
              "      <td>Up</td>\n",
              "    </tr>\n",
              "    <tr>\n",
              "      <th>...</th>\n",
              "      <td>...</td>\n",
              "      <td>...</td>\n",
              "      <td>...</td>\n",
              "      <td>...</td>\n",
              "      <td>...</td>\n",
              "      <td>...</td>\n",
              "    </tr>\n",
              "    <tr>\n",
              "      <th>729</th>\n",
              "      <td>M</td>\n",
              "      <td>ATA</td>\n",
              "      <td>0</td>\n",
              "      <td>Normal</td>\n",
              "      <td>N</td>\n",
              "      <td>Up</td>\n",
              "    </tr>\n",
              "    <tr>\n",
              "      <th>730</th>\n",
              "      <td>F</td>\n",
              "      <td>ASY</td>\n",
              "      <td>0</td>\n",
              "      <td>Normal</td>\n",
              "      <td>Y</td>\n",
              "      <td>Flat</td>\n",
              "    </tr>\n",
              "    <tr>\n",
              "      <th>731</th>\n",
              "      <td>M</td>\n",
              "      <td>TA</td>\n",
              "      <td>0</td>\n",
              "      <td>Normal</td>\n",
              "      <td>N</td>\n",
              "      <td>Flat</td>\n",
              "    </tr>\n",
              "    <tr>\n",
              "      <th>732</th>\n",
              "      <td>M</td>\n",
              "      <td>ASY</td>\n",
              "      <td>1</td>\n",
              "      <td>Normal</td>\n",
              "      <td>N</td>\n",
              "      <td>Flat</td>\n",
              "    </tr>\n",
              "    <tr>\n",
              "      <th>733</th>\n",
              "      <td>M</td>\n",
              "      <td>ASY</td>\n",
              "      <td>0</td>\n",
              "      <td>Normal</td>\n",
              "      <td>Y</td>\n",
              "      <td>Flat</td>\n",
              "    </tr>\n",
              "  </tbody>\n",
              "</table>\n",
              "<p>734 rows × 6 columns</p>\n",
              "</div>\n",
              "      <button class=\"colab-df-convert\" onclick=\"convertToInteractive('df-1718ce0b-d3ae-44e5-b306-b0eab657c144')\"\n",
              "              title=\"Convert this dataframe to an interactive table.\"\n",
              "              style=\"display:none;\">\n",
              "        \n",
              "  <svg xmlns=\"http://www.w3.org/2000/svg\" height=\"24px\"viewBox=\"0 0 24 24\"\n",
              "       width=\"24px\">\n",
              "    <path d=\"M0 0h24v24H0V0z\" fill=\"none\"/>\n",
              "    <path d=\"M18.56 5.44l.94 2.06.94-2.06 2.06-.94-2.06-.94-.94-2.06-.94 2.06-2.06.94zm-11 1L8.5 8.5l.94-2.06 2.06-.94-2.06-.94L8.5 2.5l-.94 2.06-2.06.94zm10 10l.94 2.06.94-2.06 2.06-.94-2.06-.94-.94-2.06-.94 2.06-2.06.94z\"/><path d=\"M17.41 7.96l-1.37-1.37c-.4-.4-.92-.59-1.43-.59-.52 0-1.04.2-1.43.59L10.3 9.45l-7.72 7.72c-.78.78-.78 2.05 0 2.83L4 21.41c.39.39.9.59 1.41.59.51 0 1.02-.2 1.41-.59l7.78-7.78 2.81-2.81c.8-.78.8-2.07 0-2.86zM5.41 20L4 18.59l7.72-7.72 1.47 1.35L5.41 20z\"/>\n",
              "  </svg>\n",
              "      </button>\n",
              "      \n",
              "  <style>\n",
              "    .colab-df-container {\n",
              "      display:flex;\n",
              "      flex-wrap:wrap;\n",
              "      gap: 12px;\n",
              "    }\n",
              "\n",
              "    .colab-df-convert {\n",
              "      background-color: #E8F0FE;\n",
              "      border: none;\n",
              "      border-radius: 50%;\n",
              "      cursor: pointer;\n",
              "      display: none;\n",
              "      fill: #1967D2;\n",
              "      height: 32px;\n",
              "      padding: 0 0 0 0;\n",
              "      width: 32px;\n",
              "    }\n",
              "\n",
              "    .colab-df-convert:hover {\n",
              "      background-color: #E2EBFA;\n",
              "      box-shadow: 0px 1px 2px rgba(60, 64, 67, 0.3), 0px 1px 3px 1px rgba(60, 64, 67, 0.15);\n",
              "      fill: #174EA6;\n",
              "    }\n",
              "\n",
              "    [theme=dark] .colab-df-convert {\n",
              "      background-color: #3B4455;\n",
              "      fill: #D2E3FC;\n",
              "    }\n",
              "\n",
              "    [theme=dark] .colab-df-convert:hover {\n",
              "      background-color: #434B5C;\n",
              "      box-shadow: 0px 1px 3px 1px rgba(0, 0, 0, 0.15);\n",
              "      filter: drop-shadow(0px 1px 2px rgba(0, 0, 0, 0.3));\n",
              "      fill: #FFFFFF;\n",
              "    }\n",
              "  </style>\n",
              "\n",
              "      <script>\n",
              "        const buttonEl =\n",
              "          document.querySelector('#df-1718ce0b-d3ae-44e5-b306-b0eab657c144 button.colab-df-convert');\n",
              "        buttonEl.style.display =\n",
              "          google.colab.kernel.accessAllowed ? 'block' : 'none';\n",
              "\n",
              "        async function convertToInteractive(key) {\n",
              "          const element = document.querySelector('#df-1718ce0b-d3ae-44e5-b306-b0eab657c144');\n",
              "          const dataTable =\n",
              "            await google.colab.kernel.invokeFunction('convertToInteractive',\n",
              "                                                     [key], {});\n",
              "          if (!dataTable) return;\n",
              "\n",
              "          const docLinkHtml = 'Like what you see? Visit the ' +\n",
              "            '<a target=\"_blank\" href=https://colab.research.google.com/notebooks/data_table.ipynb>data table notebook</a>'\n",
              "            + ' to learn more about interactive tables.';\n",
              "          element.innerHTML = '';\n",
              "          dataTable['output_type'] = 'display_data';\n",
              "          await google.colab.output.renderOutput(dataTable, element);\n",
              "          const docLink = document.createElement('div');\n",
              "          docLink.innerHTML = docLinkHtml;\n",
              "          element.appendChild(docLink);\n",
              "        }\n",
              "      </script>\n",
              "    </div>\n",
              "  </div>\n",
              "  "
            ]
          },
          "metadata": {}
        }
      ]
    },
    {
      "cell_type": "code",
      "source": [
        "import matplotlib.pyplot as plt\n",
        "import seaborn as sns\n",
        "\n",
        "# categorical features\n",
        "fig, axs = plt.subplots(2, math.ceil(len(cat_fts)/2), figsize=(15, 10))\n",
        "fig.suptitle('Categorical Features', fontsize=16)\n",
        "for i, col in enumerate(cat_fts):\n",
        "    ax = axs.reshape(-1)[i]\n",
        "    ax.set_title(col)\n",
        "    sns.countplot(x=col, data=train_data, ax=ax)\n",
        "\n",
        "# numerical features\n",
        "fig, axs = plt.subplots(2, math.ceil(len(num_fts)/2), figsize=(15, 10))\n",
        "fig.suptitle('Numerical Features', fontsize=16)\n",
        "for i, col in enumerate(num_fts):\n",
        "    ax = axs.reshape(-1)[i]\n",
        "    ax.set_title(col)\n",
        "    sns.histplot(x=col, data=train_data, ax=ax)"
      ],
      "metadata": {
        "id": "qz3Gn7sJX1pp"
      },
      "execution_count": null,
      "outputs": []
    },
    {
      "cell_type": "code",
      "source": [
        "print(\"0s in RestingBP:\")\n",
        "print(\" - Train Data: \", (train_data[\"RestingBP\"] == 0).sum())\n",
        "print(\" - Test Data:  \", (test_data[\"RestingBP\"] == 0).sum())\n",
        "\n",
        "print(\"\")\n",
        "print(\"0s in RestingBP:\")\n",
        "print(\" - Train Data: \", (train_data[\"Cholesterol\"] == 0).sum())\n",
        "print(\" - Test Data:  \", (test_data[\"Cholesterol\"] == 0).sum())"
      ],
      "metadata": {
        "id": "_MsQ9AOhqBUJ"
      },
      "execution_count": null,
      "outputs": []
    },
    {
      "cell_type": "markdown",
      "source": [
        "**Conclusions:**\n",
        "\n",
        "1.   Some features are categorical, i.e. lack interpretability of differences in or ordering of their values.\n",
        "2.   The dataset is imbalanced w.r.t. a couple of features, incl. *sex*, *chest pain type*, and *fasting blood sugar*. Importantly, however, the dataset is balanced w.r.t. the outcome variable, *heart disease*.\n",
        "3.   *Cholesterol:* Many values of are exactly 0. Since virtually all values above 0 are >100, this seems highly unrealistic. Instead, we interpret this as missing values.\n",
        "4.   *RestingBP:* There exist an observation with resting blood pressure of 0, which seems equally unrealistic. \n",
        "\n",
        "**Implications:**\n",
        "\n",
        "1.   Create dummy variables or use one-hot encoding for the respective features.\n",
        "2.  ...\n",
        "3.   Since there are many observations with this anomaly, create a dummy variable indicating whether a patient's cholesterol measurement is missing or not.\n",
        "4.   Since there is only 1 observation with this anomaly, ..."
      ],
      "metadata": {
        "id": "dJioDLSVkOGh"
      }
    },
    {
      "cell_type": "markdown",
      "source": [
        "## Preprocessing"
      ],
      "metadata": {
        "id": "PnvfFX0fX569"
      }
    },
    {
      "cell_type": "markdown",
      "source": [
        "For the purpose of the EDA, our preprocessing pipeline consists of the following steps:\n",
        "\n",
        "1.   Create dummy variable for *Cholesterol = 0*\n",
        "2.   Mark *Cholesterol* as *NA* whenever it is 0\n",
        "2.   Create dummy variables for categories"
      ],
      "metadata": {
        "id": "idcV8TkSrYRm"
      }
    },
    {
      "cell_type": "code",
      "source": [
        "## add dummy for cholesterol=0\n",
        "train_data[\"Cholesterol\"].replace(0, np.nan, inplace=True)\n",
        "test_data[\"Cholesterol\"].replace(0, np.nan, inplace=True)\n",
        "\n",
        "train_data.insert(loc=5, column=\"Chol_NA\", value=train_data[\"Cholesterol\"].isna()*1)\n",
        "test_data.insert(loc=5, column=\"Chol_NA\", value=test_data[\"Cholesterol\"].isna()*1)"
      ],
      "metadata": {
        "id": "D7zZjw3dPRKt"
      },
      "execution_count": 94,
      "outputs": []
    },
    {
      "cell_type": "code",
      "source": [
        "from sklearn.pipeline import Pipeline\n",
        "from sklearn.preprocessing import OneHotEncoder\n",
        "from sklearn.compose import ColumnTransformer\n",
        "\n",
        "# pipeline for categorical features\n",
        "cat_transformer = Pipeline(steps=[(\"encoder\", OneHotEncoder(drop=None))])\n",
        "\n",
        "# preprocessor\n",
        "preprocessing = ColumnTransformer(transformers = [(\"pass\", \"passthrough\", [\"HeartDisease\", \"Chol_NA\"] + num_fts),\n",
        "                                                  (\"drop\", \"drop\", fts),\n",
        "                                                  (\"cat\", cat_transformer, cat_fts)],\n",
        "                                      remainder = \"passthrough\")"
      ],
      "metadata": {
        "id": "66c48lMLXtmi"
      },
      "execution_count": 95,
      "outputs": []
    },
    {
      "cell_type": "code",
      "source": [
        "## apply preprocessing pipeline to data\n",
        "train_proc_1 = preprocessing.fit_transform(train_data)\n",
        "test_proc_1 = preprocessing.fit_transform(test_data)\n",
        "\n",
        "var_names = preprocessing.get_feature_names_out().tolist()\n",
        "var_names = [var_names[i].replace(\"pass__\", \"\").replace(\"num__\", \"\").replace(\"cat__\", \"\") for i in range(len(var_names))]\n",
        "ft_names = var_names.copy()\n",
        "ft_names.remove(\"HeartDisease\")\n",
        "\n",
        "train_proc_1 = pd.DataFrame(train_proc_1, columns=var_names)\n",
        "test_proc_1 = pd.DataFrame(test_proc_1, columns=var_names)\n",
        "\n",
        "ft_names = train_proc_1.columns"
      ],
      "metadata": {
        "id": "Jfo1LzC7vjVW"
      },
      "execution_count": 96,
      "outputs": []
    },
    {
      "cell_type": "code",
      "source": [
        "## set numerical features to float, categorical to int\n",
        "train_proc_1[num_fts] = train_proc_1[num_fts].astype(\"float64\")\n",
        "test_proc_1[num_fts] = test_proc_1[num_fts].astype(\"float64\")\n",
        "\n",
        "train_proc_1.loc[:, ~train_proc_1.columns.isin(num_fts)] = train_proc_1.loc[:, ~train_proc_1.columns.isin(num_fts)].astype(\"int64\")\n",
        "test_proc_1.loc[:, ~test_proc_1.columns.isin(num_fts)] = test_proc_1.loc[:, ~test_proc_1.columns.isin(num_fts)].astype(\"int64\")"
      ],
      "metadata": {
        "id": "ZZIf05oLFhmb"
      },
      "execution_count": 97,
      "outputs": []
    },
    {
      "cell_type": "markdown",
      "source": [
        "## Dependencies"
      ],
      "metadata": {
        "id": "XR2IjiGfbuDJ"
      }
    },
    {
      "cell_type": "markdown",
      "source": [
        "Following intermediate data processing for exploratory data analysis only:"
      ],
      "metadata": {
        "id": "mTVAYEfzv13V"
      }
    },
    {
      "cell_type": "code",
      "source": [
        "## \n",
        "\n",
        "# HeartDisease & categorical features\n",
        "fig, axs = plt.subplots(2, math.ceil(len(cat_fts)/2), figsize=(15, 10))\n",
        "fig.suptitle('Categorical Features', fontsize=16)\n",
        "for i, col in enumerate(cat_fts):\n",
        "    ax = axs.reshape(-1)[i]\n",
        "    ax.set_title(col)\n",
        "    sns.countplot(x=train_data[col], data=train_proc_1, ax=ax, hue=\"HeartDisease\")\n",
        "\n",
        "# HeartDisease & continuous features\n",
        "figure = plt.figure(figsize=(20,10))\n",
        "figure.suptitle('Continuous Features', fontsize=16)\n",
        "sns.pairplot(train_data[num_fts + [\"HeartDisease\"]], hue='HeartDisease', palette='Blues')"
      ],
      "metadata": {
        "id": "UIAFrvRzg3Kg"
      },
      "execution_count": null,
      "outputs": []
    },
    {
      "cell_type": "code",
      "source": [
        "## define default variables and drop their dummy\n",
        "\n",
        "default_vars = [\"Sex_M\",\n",
        "                \"ChestPainType_ASY\",\n",
        "                \"FastingBS_0\",\n",
        "                \"RestingECG_Normal\",\n",
        "                \"ExerciseAngina_N\",\n",
        "                \"ST_Slope_Flat\"]\n",
        "\n",
        "train_eda = train_proc_1.drop(default_vars, axis=1, inplace=False)"
      ],
      "metadata": {
        "id": "MVKp4xzoe64M"
      },
      "execution_count": 98,
      "outputs": []
    },
    {
      "cell_type": "markdown",
      "source": [
        "To examine dependencies, we remove the collinearity and drop one category of each categorical variable. Note the definition of the \"default\" values of categorical features:\n",
        "*   *HeartDisease:* 0\n",
        "*   *Sex*: M\n",
        "*   *ChestPainType:* ASY\n",
        "*   *FastingBS:* 0\n",
        "*   *RestingECG:* Normal\n",
        "*   *ExerciseAngina:* N\n",
        "*   *ST_Slope:* Flat"
      ],
      "metadata": {
        "id": "q4K0s-Ol3Lwc"
      }
    },
    {
      "cell_type": "markdown",
      "source": [
        "We compute rank correlations between non-categorical variables, since these can capture also non-linear (monotonic) dependence structures. In case of binary variables (which includes the outcome variable *HeartDisease*), it corresponds to linear correlation."
      ],
      "metadata": {
        "id": "MQcx7cLPb6y7"
      }
    },
    {
      "cell_type": "code",
      "source": [
        "## compute rank correlations\n",
        "rk_corr = train_eda.corr(method=\"spearman\")\n",
        "print(\"Rank correlation:\")\n",
        "plt.figure(figsize=(10, 10))\n",
        "sns.heatmap(rk_corr, cmap=\"YlGnBu\")"
      ],
      "metadata": {
        "id": "Y3cKuVeXzej5"
      },
      "execution_count": null,
      "outputs": []
    },
    {
      "cell_type": "code",
      "source": [
        "## significant rank correlations (|r|>0.4)\n",
        "sig_corr = rk_corr[abs(rk_corr)>0.4]\n",
        "sig_corr.replace(np.nan, \"-\", inplace=True)\n",
        "sig_corr"
      ],
      "metadata": {
        "id": "yA7w9KQu6FcO"
      },
      "execution_count": null,
      "outputs": []
    },
    {
      "cell_type": "markdown",
      "source": [
        "**Conclusions**:\n",
        "*   The plots and rank correlations suggest *HeartDisease* has a  strong positive association with *ExerciseAngina = \"Y\"*, *Oldpeak*, and *ChestPainType = \"ASY\".\n",
        "*    Strong negative associations can be seen with *MaxHR*, *ChestPainType = \"ATA\"*, and *ST_Slope = \"Up\"*.\n",
        "*   Some features are also highly correlated. For example, *ExerciseAngina* & *Oldpeak* are significantly positively associated, while *ExerciseAngina* & *MaxHR*, *Oldpeak* & *ST_Slope = \"Up\"*, and *ExerciseAngina = \"Y\"* & *ST_Slope = \"Up\"* are significantly negatively correlated.\n",
        "*   Hence, among the observed variables, ...\n",
        "\n",
        "**Conclusions**:\n",
        "*    When interpreting feature selection outputs, one needs to be cautious due to correlated predictors."
      ],
      "metadata": {
        "id": "5IzZHDoY4OKQ"
      }
    },
    {
      "cell_type": "markdown",
      "source": [
        "## **Q2: Logistic Lasso Regression**"
      ],
      "metadata": {
        "id": "azYQaxOREGgg"
      }
    },
    {
      "cell_type": "markdown",
      "source": [
        "For the purposes of modelling, the further preprocessing pipeline consists of the following steps:\n",
        "\n",
        "*   For categorical features:\n",
        "  1.  Get back dummy variables for *each* category (justification later)\n",
        "\n",
        "*  For continuous features\n",
        "  1.   Impute missing values (incl. unrealistic 0 values) with the mean\n",
        "  2.   Standardize to mean 0 and standard deviation 1\n",
        "  3.   Create dummy variable for *Cholesterol = 0*\n",
        "\n",
        "Standardization usually improves accuracy and variable selection."
      ],
      "metadata": {
        "id": "oK0L3-4IMZ9h"
      }
    },
    {
      "cell_type": "code",
      "source": [
        "from sklearn.preprocessing import StandardScaler\n",
        "from sklearn.impute import SimpleImputer\n",
        "\n",
        "# copy df\n",
        "train_proc_2 = train_proc_1.copy()\n",
        "test_proc_2 = test_proc_1.copy()\n",
        "\n",
        "# determine scaling & imputation strategy\n",
        "scaler = StandardScaler(with_mean=False)\n",
        "imputer = SimpleImputer(strategy=\"mean\")\n",
        "\n",
        "# standardize features (according to training set)\n",
        "scaler.fit(train_proc_1.drop(\"HeartDisease\", axis=1))\n",
        "train_proc_2 = scaler.transform(train_proc_1.drop(\"HeartDisease\", axis=1))\n",
        "test_proc_2 = scaler.transform(test_proc_1.drop(\"HeartDisease\", axis=1))\n",
        "\n",
        "# impute missing values\n",
        "train_proc_2 = imputer.fit_transform(train_proc_2)\n",
        "test_proc_2 = imputer.fit_transform(test_proc_2)\n",
        "\n",
        "# put back to pandas\n",
        "train_proc_2 = pd.DataFrame(train_proc_2, columns=ft_names)\n",
        "test_proc_2 = pd.DataFrame(test_proc_2, columns=ft_names)\n",
        "\n",
        "# add back label column\n",
        "train_proc_2 = pd.concat([train_data[\"HeartDisease\"], train_proc_2], axis=1)\n",
        "test_proc_2 = pd.concat([test_data[\"HeartDisease\"], test_proc_2], axis=1)\n",
        "\n",
        "# make HeartDisease integer\n",
        "train_proc_2[\"HeartDisease\"] = train_proc_2[\"HeartDisease\"].astype(\"int64\")\n",
        "test_proc_2[\"HeartDisease\"] = test_proc_2[\"HeartDisease\"].astype(\"int64\")"
      ],
      "metadata": {
        "id": "mP4NiwY8Z3ww"
      },
      "execution_count": 129,
      "outputs": []
    },
    {
      "cell_type": "code",
      "source": [
        "X_train = train_proc_2.drop(\"HeartDisease\", axis=1)\n",
        "X_test = test_proc_2.drop(\"HeartDisease\", axis=1)\n",
        "\n",
        "y_train = train_proc_2[\"HeartDisease\"]\n",
        "y_test = test_proc_2[\"HeartDisease\"]"
      ],
      "metadata": {
        "id": "CnZ9KIluzPsd"
      },
      "execution_count": 130,
      "outputs": []
    },
    {
      "cell_type": "markdown",
      "source": [
        "When using regularization, we need to account for the fact that we introduced dummy variables. Specifically, we want to regularize the inclusion of entire variables, e.g. \"Sex\", and not certain categories, e.g. \"Female\", as this would introduce bias depending on the default category. To tackle this, we purposefully introduce all categories of categorical variables again and use **Group Lasso**. Altough this usually introduces multicollinearity, regularization serves to deal with this.\n",
        "\n",
        "We fix \"l1_reg\" at 0 and choose \"group_reg\" through cross-validation, since we want to do selection of *groups* of variables, but do not want to encourage sparsity within groups."
      ],
      "metadata": {
        "id": "5Oag3CSu2Hsz"
      }
    },
    {
      "cell_type": "code",
      "source": [
        "#!pip install group-lasso  # has to be uncommented if not installed\n",
        "from group_lasso import LogisticGroupLasso\n",
        "\n",
        "group_names = [\"Chol_NA\", \"Age\", \"RestingBP\", \"Cholesterol\", \"MaxHR\", \"Oldpeak\",\n",
        "               \"Sex\", \"ChestPain\", \"FastingBS\", \"RestingECG\", \"ExerciseAngina\",\n",
        "               \"ST_Slope\"]\n",
        "group_sizes = [1, 1, 1, 1, 1, 1,\n",
        "               2, 4, 2, 3, 2, 3]\n",
        "n_groups = len(group_sizes)\n",
        "groups = np.concatenate([size * [i] for i, size in enumerate(group_sizes)])"
      ],
      "metadata": {
        "id": "EJqDdBtU5xTC"
      },
      "execution_count": 131,
      "outputs": []
    },
    {
      "cell_type": "code",
      "source": [
        "from sklearn.model_selection import cross_validate\n",
        "from sklearn.metrics import f1_score\n",
        "\n",
        "p1_vals = 2.0**np.arange(-10, 0)\n",
        "scores = []\n",
        "\n",
        "for i in range(len(p1_vals)):\n",
        "  lgl = LogisticGroupLasso(\n",
        "      groups = groups,\n",
        "      group_reg = p1_vals[i],\n",
        "      l1_reg = 0.0,\n",
        "      scale_reg = \"inverse_group_size\",\n",
        "      subsampling_scheme = 1,\n",
        "      supress_warning = True)\n",
        "\n",
        "  result = cross_validate(lgl, X_train, y_train, scoring=\"f1\", cv=5)\n",
        "  score = result[\"test_score\"].mean()\n",
        "  scores.append(score)\n",
        "\n",
        "p1_opt = p1_vals[np.argmax(scores)]\n",
        "print(\"Optimal group penalty:\", p1_opt)"
      ],
      "metadata": {
        "colab": {
          "base_uri": "https://localhost:8080/"
        },
        "id": "Nrd8pAPgM7V3",
        "outputId": "722786a4-4379-4bb7-c41e-1619e3f25b50"
      },
      "execution_count": 132,
      "outputs": [
        {
          "output_type": "stream",
          "name": "stdout",
          "text": [
            "Optimal group penalty: 0.015625\n"
          ]
        }
      ]
    },
    {
      "cell_type": "code",
      "source": [
        "## fit model\n",
        "\n",
        "lgl = LogisticGroupLasso(\n",
        "    groups = groups,\n",
        "    group_reg = p1_opt,\n",
        "    l1_reg = 0.0,\n",
        "    scale_reg = \"inverse_group_size\",\n",
        "    subsampling_scheme = 1,\n",
        "    supress_warning = True)\n",
        "\n",
        "lgl.fit(X_train, y_train)"
      ],
      "metadata": {
        "id": "BN-fA3BUOo7Y",
        "colab": {
          "base_uri": "https://localhost:8080/",
          "height": 144
        },
        "outputId": "be2c1c6d-86d5-416d-8f84-4795960c6149"
      },
      "execution_count": 133,
      "outputs": [
        {
          "output_type": "execute_result",
          "data": {
            "text/plain": [
              "LogisticGroupLasso(group_reg=0.015625,\n",
              "                   groups=array([ 0,  1,  2,  3,  4,  5,  6,  6,  7,  7,  7,  7,  8,  8,  9,  9,  9,\n",
              "       10, 10, 11, 11, 11]),\n",
              "                   l1_reg=0.0, scale_reg='inverse_group_size',\n",
              "                   subsampling_scheme=1, supress_warning=True)"
            ],
            "text/html": [
              "<style>#sk-container-id-6 {color: black;background-color: white;}#sk-container-id-6 pre{padding: 0;}#sk-container-id-6 div.sk-toggleable {background-color: white;}#sk-container-id-6 label.sk-toggleable__label {cursor: pointer;display: block;width: 100%;margin-bottom: 0;padding: 0.3em;box-sizing: border-box;text-align: center;}#sk-container-id-6 label.sk-toggleable__label-arrow:before {content: \"▸\";float: left;margin-right: 0.25em;color: #696969;}#sk-container-id-6 label.sk-toggleable__label-arrow:hover:before {color: black;}#sk-container-id-6 div.sk-estimator:hover label.sk-toggleable__label-arrow:before {color: black;}#sk-container-id-6 div.sk-toggleable__content {max-height: 0;max-width: 0;overflow: hidden;text-align: left;background-color: #f0f8ff;}#sk-container-id-6 div.sk-toggleable__content pre {margin: 0.2em;color: black;border-radius: 0.25em;background-color: #f0f8ff;}#sk-container-id-6 input.sk-toggleable__control:checked~div.sk-toggleable__content {max-height: 200px;max-width: 100%;overflow: auto;}#sk-container-id-6 input.sk-toggleable__control:checked~label.sk-toggleable__label-arrow:before {content: \"▾\";}#sk-container-id-6 div.sk-estimator input.sk-toggleable__control:checked~label.sk-toggleable__label {background-color: #d4ebff;}#sk-container-id-6 div.sk-label input.sk-toggleable__control:checked~label.sk-toggleable__label {background-color: #d4ebff;}#sk-container-id-6 input.sk-hidden--visually {border: 0;clip: rect(1px 1px 1px 1px);clip: rect(1px, 1px, 1px, 1px);height: 1px;margin: -1px;overflow: hidden;padding: 0;position: absolute;width: 1px;}#sk-container-id-6 div.sk-estimator {font-family: monospace;background-color: #f0f8ff;border: 1px dotted black;border-radius: 0.25em;box-sizing: border-box;margin-bottom: 0.5em;}#sk-container-id-6 div.sk-estimator:hover {background-color: #d4ebff;}#sk-container-id-6 div.sk-parallel-item::after {content: \"\";width: 100%;border-bottom: 1px solid gray;flex-grow: 1;}#sk-container-id-6 div.sk-label:hover label.sk-toggleable__label {background-color: #d4ebff;}#sk-container-id-6 div.sk-serial::before {content: \"\";position: absolute;border-left: 1px solid gray;box-sizing: border-box;top: 0;bottom: 0;left: 50%;z-index: 0;}#sk-container-id-6 div.sk-serial {display: flex;flex-direction: column;align-items: center;background-color: white;padding-right: 0.2em;padding-left: 0.2em;position: relative;}#sk-container-id-6 div.sk-item {position: relative;z-index: 1;}#sk-container-id-6 div.sk-parallel {display: flex;align-items: stretch;justify-content: center;background-color: white;position: relative;}#sk-container-id-6 div.sk-item::before, #sk-container-id-6 div.sk-parallel-item::before {content: \"\";position: absolute;border-left: 1px solid gray;box-sizing: border-box;top: 0;bottom: 0;left: 50%;z-index: -1;}#sk-container-id-6 div.sk-parallel-item {display: flex;flex-direction: column;z-index: 1;position: relative;background-color: white;}#sk-container-id-6 div.sk-parallel-item:first-child::after {align-self: flex-end;width: 50%;}#sk-container-id-6 div.sk-parallel-item:last-child::after {align-self: flex-start;width: 50%;}#sk-container-id-6 div.sk-parallel-item:only-child::after {width: 0;}#sk-container-id-6 div.sk-dashed-wrapped {border: 1px dashed gray;margin: 0 0.4em 0.5em 0.4em;box-sizing: border-box;padding-bottom: 0.4em;background-color: white;}#sk-container-id-6 div.sk-label label {font-family: monospace;font-weight: bold;display: inline-block;line-height: 1.2em;}#sk-container-id-6 div.sk-label-container {text-align: center;}#sk-container-id-6 div.sk-container {/* jupyter's `normalize.less` sets `[hidden] { display: none; }` but bootstrap.min.css set `[hidden] { display: none !important; }` so we also need the `!important` here to be able to override the default hidden behavior on the sphinx rendered scikit-learn.org. See: https://github.com/scikit-learn/scikit-learn/issues/21755 */display: inline-block !important;position: relative;}#sk-container-id-6 div.sk-text-repr-fallback {display: none;}</style><div id=\"sk-container-id-6\" class=\"sk-top-container\"><div class=\"sk-text-repr-fallback\"><pre>LogisticGroupLasso(group_reg=0.015625,\n",
              "                   groups=array([ 0,  1,  2,  3,  4,  5,  6,  6,  7,  7,  7,  7,  8,  8,  9,  9,  9,\n",
              "       10, 10, 11, 11, 11]),\n",
              "                   l1_reg=0.0, scale_reg=&#x27;inverse_group_size&#x27;,\n",
              "                   subsampling_scheme=1, supress_warning=True)</pre><b>In a Jupyter environment, please rerun this cell to show the HTML representation or trust the notebook. <br />On GitHub, the HTML representation is unable to render, please try loading this page with nbviewer.org.</b></div><div class=\"sk-container\" hidden><div class=\"sk-item\"><div class=\"sk-estimator sk-toggleable\"><input class=\"sk-toggleable__control sk-hidden--visually\" id=\"sk-estimator-id-8\" type=\"checkbox\" checked><label for=\"sk-estimator-id-8\" class=\"sk-toggleable__label sk-toggleable__label-arrow\">LogisticGroupLasso</label><div class=\"sk-toggleable__content\"><pre>LogisticGroupLasso(group_reg=0.015625,\n",
              "                   groups=array([ 0,  1,  2,  3,  4,  5,  6,  6,  7,  7,  7,  7,  8,  8,  9,  9,  9,\n",
              "       10, 10, 11, 11, 11]),\n",
              "                   l1_reg=0.0, scale_reg=&#x27;inverse_group_size&#x27;,\n",
              "                   subsampling_scheme=1, supress_warning=True)</pre></div></div></div></div></div>"
            ]
          },
          "metadata": {},
          "execution_count": 133
        }
      ]
    },
    {
      "cell_type": "markdown",
      "source": [
        "Model summary"
      ],
      "metadata": {
        "id": "KXLz4b3eXSCZ"
      }
    },
    {
      "cell_type": "code",
      "source": [
        "# get estimated coefficients\n",
        "coeffs_std = lgl.coef_[:, 1] - lgl.coef_[:, 0]\n",
        "\n",
        "# scale back to original scales\n",
        "coeffs_org = np.reshape(coeffs_std, (1,len(coeffs_std)))\n",
        "coeffs_org = scaler.inverse_transform(coeffs_org)\n",
        "coeffs_org = np.reshape(coeffs_org, coeffs_std.shape)\n",
        "\n",
        "# group norms\n",
        "group_norms = np.array([[np.nan]]*n_groups)\n",
        "for i in range(n_groups):\n",
        "  group_coeffs = coeffs_std[groups==i]\n",
        "  group_norms[i,:] = np.linalg.norm(group_coeffs, ord=1)\n",
        "group_norms = np.reshape(group_norms, (12,))\n",
        "\n",
        "# make pretty & plot\n",
        "group_norms = pd.DataFrame({\"Group Norm\": group_norms},\n",
        "                           index=group_names)\n",
        "coeffs_std = pd.DataFrame({\"Coeff's (std.)\": coeffs_std},\n",
        "                          index = ft_names)\n",
        "coeffs_org = pd.DataFrame({\"Coeff's (org.)\": coeffs_org},\n",
        "                          index = ft_names)\n",
        "group_norms = group_norms.sort_values(by=\"Group Norm\")\n",
        "coeffs_std = coeffs_std.sort_values(by=\"Coeff's (std.)\")\n",
        "coeffs_org = coeffs_org.sort_values(by=\"Coeff's (org.)\")\n",
        "\n",
        "group_norms.plot.barh()\n",
        "plt.title(\"Group Norms\")\n",
        "coeffs_std.plot.barh()\n",
        "plt.title(\"(Dummy) Variable Coefficients (standardized)\")\n",
        "coeffs_org.plot.barh()\n",
        "plt.title(\"(Dummy) Variable Coefficients (original scale)\")"
      ],
      "metadata": {
        "colab": {
          "base_uri": "https://localhost:8080/",
          "height": 826
        },
        "id": "7tXnJcz1XQlv",
        "outputId": "ca64fa5e-84b9-4248-936d-d9c38964bfa3"
      },
      "execution_count": 134,
      "outputs": [
        {
          "output_type": "execute_result",
          "data": {
            "text/plain": [
              "Text(0.5, 1.0, '(Dummy) Variable Coefficients (original scale)')"
            ]
          },
          "metadata": {},
          "execution_count": 134
        },
        {
          "output_type": "display_data",
          "data": {
            "text/plain": [
              "<Figure size 432x288 with 1 Axes>"
            ],
            "image/png": "[encoded data removed]"
          },
          "metadata": {
            "needs_background": "light"
          }
        },
        {
          "output_type": "display_data",
          "data": {
            "text/plain": [
              "<Figure size 432x288 with 1 Axes>"
            ],
            "image/png": "[encoded data removed]"
          },
          "metadata": {
            "needs_background": "light"
          }
        },
        {
          "output_type": "display_data",
          "data": {
            "text/plain": [
              "<Figure size 432x288 with 1 Axes>"
            ],
            "image/png": "[encoded data removed]"
          },
          "metadata": {
            "needs_background": "light"
          }
        }
      ]
    },
    {
      "cell_type": "markdown",
      "source": [
        "Group norms (of standardized coefficients) indicate importances of groups of features. In this case, *ST_Slope* and *ChestPain* offered the most predictive value for *HeartDisease*. After cross-validation, group lasso de-selected *RestingBP*, *Cholesterol*, *MaxHR*, and *RestingECG*.\n",
        "\n",
        "The standardized coefficient estimates allow us to compare importances of variables. For example, asymmetric chest pain shows high positive association with heart disease, while it is negatively associated with an upward ST slope. Interestingly, also whether the cholesterol value was originally 0 had high predictive power.\n",
        "\n",
        "The original coefficient estimates allow us to infer the association between risk of heart disease and the features. For example, we would expect the log-odds of *HeartDisease* to increase by $\\approx 1.0$ for every additional year of age. Note that coefficients of dummy variables need to be interpreted *relative* to the other dummies. For example, *ST_Slope = \"Flat\"* increases the log-odds of *HeartDisease* by $\\approx 0.3$, while *ST_Slope = \"Up\"* *decreases* it by $\\approx 0.3$, and hence the log-odds of a patient with *ST_Slope = \"Flat\"* are about 0.6 higher than those of a patient with *ST_Slope = \"Up\"*.\n",
        "\n",
        "We note that Lasso only selects variables relevant for prediction, and there is no guarantee of it identifying the *causal* variables. In our case, for example, although the estimate for *ST_Slope = \"Up\"* is significant, we saw above that it is significantly correlated with *ExerciseAngina*, and hence the latter might explain *HeartDisease* nearly as well."
      ],
      "metadata": {
        "id": "Okg2gDbS9MjJ"
      }
    },
    {
      "cell_type": "markdown",
      "source": [],
      "metadata": {
        "id": "Et9LFzxh2xTi"
      }
    },
    {
      "cell_type": "markdown",
      "source": [
        "Model performance"
      ],
      "metadata": {
        "id": "QWP-qpsNW7Pn"
      }
    },
    {
      "cell_type": "code",
      "source": [
        "## get predicted probabilities and labels of HeartDisease\n",
        "\n",
        "y_pred_prob = lgl.predict_proba(X_test)[:,1]\n",
        "y_pred = lgl.predict(X_test)"
      ],
      "metadata": {
        "id": "tWGxMiSaXrwe"
      },
      "execution_count": 135,
      "outputs": []
    },
    {
      "cell_type": "code",
      "source": [
        "from sklearn.metrics import classification_report\n",
        "from sklearn.metrics import confusion_matrix\n",
        "from sklearn.metrics import RocCurveDisplay\n",
        "\n",
        "# precision, recall, f1, ...\n",
        "print(classification_report(y_true = y_test,\n",
        "                            y_pred = y_pred,\n",
        "                            target_names=[\"HD=0\", \"HD=1\"]))\n",
        "\n",
        "# confusion matrix\n",
        "conf_mat = confusion_matrix(y_true=y_test, y_pred=y_pred)\n",
        "sns.heatmap(conf_mat, annot=True)\n",
        "plt.xlabel(\"Pred. Label\")\n",
        "plt.ylabel(\"True Label\")\n",
        "\n",
        "# ROC curve\n",
        "RocCurveDisplay.from_predictions(\n",
        "    y_true = y_test,\n",
        "    y_pred = y_pred_prob,\n",
        "    color = \"darkorange\",)\n",
        "plt.plot([0, 1], [0, 1], \"k--\")\n",
        "plt.xlabel(\"False Positive Rate\")\n",
        "plt.ylabel(\"True Positive Rate\")"
      ],
      "metadata": {
        "colab": {
          "base_uri": "https://localhost:8080/",
          "height": 719
        },
        "id": "TFy-ZHDIXACf",
        "outputId": "1d4cffad-edce-440e-8864-053fca9f6c46"
      },
      "execution_count": 136,
      "outputs": [
        {
          "output_type": "stream",
          "name": "stdout",
          "text": [
            "              precision    recall  f1-score   support\n",
            "\n",
            "        HD=0       0.85      0.74      0.79        74\n",
            "        HD=1       0.84      0.91      0.87       110\n",
            "\n",
            "    accuracy                           0.84       184\n",
            "   macro avg       0.84      0.83      0.83       184\n",
            "weighted avg       0.84      0.84      0.84       184\n",
            "\n"
          ]
        },
        {
          "output_type": "execute_result",
          "data": {
            "text/plain": [
              "Text(0, 0.5, 'True Positive Rate')"
            ]
          },
          "metadata": {},
          "execution_count": 136
        },
        {
          "output_type": "display_data",
          "data": {
            "text/plain": [
              "<Figure size 432x288 with 2 Axes>"
            ],
            "image/png": "[encoded data removed]"
          },
          "metadata": {
            "needs_background": "light"
          }
        },
        {
          "output_type": "display_data",
          "data": {
            "text/plain": [
              "<Figure size 432x288 with 1 Axes>"
            ],
            "image/png": "[encoded data removed]"
          },
          "metadata": {
            "needs_background": "light"
          }
        }
      ]
    },
    {
      "cell_type": "markdown",
      "source": [
        "Our logistic regression classifier for heart disease prediction with group lasso regularization achieved an overall accuracy of 83%. Precision is 83% and recall/sensitivity is 90%, yielding an F1-score of 86%, while specificity is 73%. The AUC of the classifier is 0.90, which is well above the uninformed level of 0.50."
      ],
      "metadata": {
        "id": "9z8hmybo5NLF"
      }
    },
    {
      "cell_type": "markdown",
      "source": [
        "## **Q3: Decision Tree**"
      ],
      "metadata": {
        "id": "UcpPehUV9C2m"
      }
    },
    {
      "cell_type": "code",
      "source": [
        "from sklearn.tree import DecisionTreeClassifier\n",
        "from sklearn.model_selection import GridSearchCV\n",
        "\n",
        "tree = DecisionTreeClassifier(criterion=\"gini\",\n",
        "                                random_state=1)\n",
        "\n",
        "grid = {\"max_depth\": np.arange(1,8),\n",
        "        \"min_samples_leaf\": 2**np.arange(0,7)\n",
        "        }\n",
        "\n",
        "cv = GridSearchCV(estimator=tree, param_grid=grid, scoring=\"f1\", cv=5)\n",
        "cv.fit(X_train, y_train)\n",
        "\n",
        "opt_tree = cv.best_estimator_"
      ],
      "metadata": {
        "id": "Aj02GtvGM1-E"
      },
      "execution_count": 72,
      "outputs": []
    },
    {
      "cell_type": "code",
      "source": [
        "## feature importances\n",
        "\n",
        "ft_importances = pd.DataFrame({\"Importance\": opt_tree.feature_importances_},\n",
        "                              index = ft_names)\n",
        "\n",
        "ft_importances = ft_importances.sort_values(by=\"Importance\")\n",
        "ft_importances = ft_importances.round(2)\n",
        "ft_importances.plot.barh()\n",
        "plt.title(\"Feature Importance Scores (Gini): Decision Tree\")"
      ],
      "metadata": {
        "colab": {
          "base_uri": "https://localhost:8080/",
          "height": 298
        },
        "id": "4JYQ_amkODgy",
        "outputId": "61346431-c7e3-4d25-e29a-70e1c43a1a04"
      },
      "execution_count": 74,
      "outputs": [
        {
          "output_type": "execute_result",
          "data": {
            "text/plain": [
              "Text(0.5, 1.0, 'Feature Importance Scores (Gini): Decision Tree')"
            ]
          },
          "metadata": {},
          "execution_count": 74
        },
        {
          "output_type": "display_data",
          "data": {
            "text/plain": [
              "<Figure size 432x288 with 1 Axes>"
            ],
            "image/png": "[encoded data removed]"
          },
          "metadata": {
            "needs_background": "light"
          }
        }
      ]
    },
    {
      "cell_type": "code",
      "source": [
        "## inspect tree structure\n",
        "from sklearn.tree import plot_tree\n",
        "\n",
        "plt.figure(figsize=(20, 20))\n",
        "plot_tree(opt_tree, feature_names=ft_names, class_names=[\"HD=0\", \"HD=1\"],\n",
        "          label=\"none\", impurity=False,\n",
        "          rounded=True)"
      ],
      "metadata": {
        "colab": {
          "base_uri": "https://localhost:8080/",
          "height": 1000
        },
        "id": "UDX_GX7z9MKe",
        "outputId": "8f55be88-d9f9-4be3-ad00-f0a5a6eabf5f"
      },
      "execution_count": 75,
      "outputs": [
        {
          "output_type": "execute_result",
          "data": {
            "text/plain": [
              "[Text(0.5, 0.875, 'ST_Slope_Up <= 1.008\\n734\\n[336, 398]\\nHD=1'),\n",
              " Text(0.25, 0.625, 'Sex_M <= 1.208\\n412\\n[74, 338]\\nHD=1'),\n",
              " Text(0.125, 0.375, 'ChestPainType_ASY <= 1.001\\n68\\n[34, 34]\\nHD=0'),\n",
              " Text(0.0625, 0.125, '29\\n[23, 6]\\nHD=0'),\n",
              " Text(0.1875, 0.125, '39\\n[11, 28]\\nHD=1'),\n",
              " Text(0.375, 0.375, 'ChestPainType_ASY <= 1.001\\n344\\n[40, 304]\\nHD=1'),\n",
              " Text(0.3125, 0.125, '101\\n[26, 75]\\nHD=1'),\n",
              " Text(0.4375, 0.125, '243\\n[14, 229]\\nHD=1'),\n",
              " Text(0.75, 0.625, 'ChestPainType_ASY <= 1.001\\n322\\n[262, 60]\\nHD=0'),\n",
              " Text(0.625, 0.375, 'Oldpeak <= 1.711\\n223\\n[210, 13]\\nHD=0'),\n",
              " Text(0.5625, 0.125, '215\\n[207, 8]\\nHD=0'),\n",
              " Text(0.6875, 0.125, '8\\n[3, 5]\\nHD=1'),\n",
              " Text(0.875, 0.375, 'Oldpeak <= 0.416\\n99\\n[52, 47]\\nHD=0'),\n",
              " Text(0.8125, 0.125, '66\\n[47, 19]\\nHD=0'),\n",
              " Text(0.9375, 0.125, '33\\n[5, 28]\\nHD=1')]"
            ]
          },
          "metadata": {},
          "execution_count": 75
        },
        {
          "output_type": "display_data",
          "data": {
            "text/plain": [
              "<Figure size 1440x1440 with 1 Axes>"
            ],
            "image/png": "[encoded data removed]"
          },
          "metadata": {
            "needs_background": "light"
          }
        }
      ]
    },
    {
      "cell_type": "markdown",
      "source": [
        "Similar to the case of Lasso, the automatic feature selection of decision trees becomes arbitrary if two or more features are highly correlated."
      ],
      "metadata": {
        "id": "G2CyD7SXARp3"
      }
    },
    {
      "cell_type": "markdown",
      "source": [
        "Model performance"
      ],
      "metadata": {
        "id": "3KbxIv-d7WXV"
      }
    },
    {
      "cell_type": "code",
      "source": [
        "y_pred_prob = opt_tree.predict_proba(X_test)[:,1]\n",
        "y_pred = opt_tree.predict(X_test)"
      ],
      "metadata": {
        "id": "qJAZhGdr5en0"
      },
      "execution_count": 76,
      "outputs": []
    },
    {
      "cell_type": "code",
      "source": [
        "# precision, recall, f1, ...\n",
        "print(classification_report(y_true = y_test,\n",
        "                            y_pred = y_pred,\n",
        "                            target_names=[\"HD=0\", \"HD=1\"]))\n",
        "\n",
        "# confusion matrix\n",
        "conf_mat = confusion_matrix(y_true=y_test, y_pred=y_pred)\n",
        "sns.heatmap(conf_mat, annot=True)\n",
        "plt.xlabel(\"Pred. Label\")\n",
        "plt.ylabel(\"True Label\")\n",
        "\n",
        "# ROC curve\n",
        "RocCurveDisplay.from_predictions(\n",
        "    y_true = y_test,\n",
        "    y_pred = y_pred_prob,\n",
        "    color = \"darkorange\",)\n",
        "plt.plot([0, 1], [0, 1], \"k--\")\n",
        "plt.xlabel(\"False Positive Rate\")\n",
        "plt.ylabel(\"True Positive Rate\")"
      ],
      "metadata": {
        "colab": {
          "base_uri": "https://localhost:8080/",
          "height": 715
        },
        "id": "1NipuJS77d_w",
        "outputId": "1b56ead8-88ae-41c0-ac14-78995d0a23c8"
      },
      "execution_count": 77,
      "outputs": [
        {
          "output_type": "stream",
          "name": "stdout",
          "text": [
            "              precision    recall  f1-score   support\n",
            "\n",
            "        HD=0       0.79      0.65      0.71        74\n",
            "        HD=1       0.79      0.88      0.83       110\n",
            "\n",
            "    accuracy                           0.79       184\n",
            "   macro avg       0.79      0.77      0.77       184\n",
            "weighted avg       0.79      0.79      0.78       184\n",
            "\n"
          ]
        },
        {
          "output_type": "execute_result",
          "data": {
            "text/plain": [
              "Text(0, 0.5, 'True Positive Rate')"
            ]
          },
          "metadata": {},
          "execution_count": 77
        },
        {
          "output_type": "display_data",
          "data": {
            "text/plain": [
              "<Figure size 432x288 with 2 Axes>"
            ],
            "image/png": "[encoded data removed]"
          },
          "metadata": {
            "needs_background": "light"
          }
        },
        {
          "output_type": "display_data",
          "data": {
            "text/plain": [
              "<Figure size 432x288 with 1 Axes>"
            ],
            "image/png": "[encoded data removed]"
          },
          "metadata": {
            "needs_background": "light"
          }
        }
      ]
    },
    {
      "cell_type": "markdown",
      "source": [
        "Overall, the decision tree only performs slightly worse than group lasso, despite it arguably being significantly more restricted (piecewise constant decision boundaries vs linear; 7 features used vs 16)."
      ],
      "metadata": {
        "id": "MA-O1LtyFlbn"
      }
    },
    {
      "cell_type": "markdown",
      "source": [
        "## **Challenge 1: Neural Additive Models**"
      ],
      "metadata": {
        "id": "tPRGhZhQJk9X"
      }
    },
    {
      "cell_type": "markdown",
      "source": [
        "https://pypi.org/project/nam/"
      ],
      "metadata": {
        "id": "GSeub5DLKSko"
      }
    },
    {
      "cell_type": "code",
      "source": [
        "!pip install nam\n",
        "from nam.config import defaults\n",
        "from nam.data import FoldedDataset, NAMDataset\n",
        "from nam.models import NAM, get_num_units\n",
        "from nam.trainer import LitNAM\n",
        "from nam.utils import *"
      ],
      "metadata": {
        "id": "rhWU4zCw7yxY"
      },
      "execution_count": 202,
      "outputs": []
    },
    {
      "cell_type": "code",
      "source": [
        "config = defaults()"
      ],
      "metadata": {
        "id": "PSwx7Vxkl5Bs"
      },
      "execution_count": 197,
      "outputs": []
    },
    {
      "cell_type": "code",
      "source": [
        "import sklearn\n",
        "housing = sklearn.datasets.fetch_california_housing()\n",
        "\n",
        "dataset = pd.DataFrame(data=housing.data, columns=housing.feature_names)\n",
        "dataset['target'] = housing.target\n",
        "\n",
        "config.regression = True\n",
        "\n",
        "dataset = NAMDataset(config,\n",
        "                      data_path=dataset,\n",
        "                      features_columns=dataset.columns[:-1],\n",
        "                      targets_column=dataset.columns[-1])\n",
        "\n",
        "\n",
        "## Getting the training dataloaders\n",
        "dataloaders = dataset.train_dataloaders()"
      ],
      "metadata": {
        "id": "kqB1Ixw_l2jF"
      },
      "execution_count": 198,
      "outputs": []
    },
    {
      "cell_type": "code",
      "source": [
        "model = NAM(\n",
        "  config=config,\n",
        "  name=\"NAM_GALLUP\",\n",
        "  num_inputs=len(dataset[0][0]),\n",
        "  num_units=get_num_units(config, dataset.features),\n",
        ")"
      ],
      "metadata": {
        "id": "iBGTFc0Cl7Yt"
      },
      "execution_count": 199,
      "outputs": []
    },
    {
      "cell_type": "code",
      "source": [
        "for fold, (trainloader, valloader) in enumerate(dataloaders):\n",
        "\n",
        "    tb_logger = TensorBoardLogger(save_dir=config.logdir,\n",
        "                                name=f'{model.name}',\n",
        "                                version=f'fold_{fold + 1}')\n",
        "\n",
        "    checkpoint_callback = ModelCheckpoint(filename=tb_logger.log_dir +\n",
        "                                        \"/{epoch:02d}-{val_loss:.4f}\",\n",
        "                                        monitor='val_loss',\n",
        "                                        save_top_k=config.save_top_k,\n",
        "                                        mode='min')\n",
        "\n",
        "    litmodel = LitNAM(config, model)\n",
        "    trainer = pl.Trainer(logger=tb_logger,\n",
        "                       max_epochs=config.num_epochs,\n",
        "                       checkpoint_callback=checkpoint_callback)\n",
        "    trainer.fit(litmodel,\n",
        "              train_dataloader=trainloader,\n",
        "              val_dataloaders=valloader)\n",
        "\n",
        "\n",
        "## Testing the trained model\n",
        "trainer.test(test_dataloaders=dataset.test_dataloaders())"
      ],
      "metadata": {
        "colab": {
          "base_uri": "https://localhost:8080/",
          "height": 201
        },
        "id": "LzxMpr7hl_Bb",
        "outputId": "f358212d-d5a1-40ee-aec3-1b922532dd45"
      },
      "execution_count": 201,
      "outputs": [
        {
          "output_type": "error",
          "ename": "NameError",
          "evalue": "ignored",
          "traceback": [
            "\u001b[0;31m---------------------------------------------------------------------------\u001b[0m",
            "\u001b[0;31mNameError\u001b[0m                                 Traceback (most recent call last)",
            "\u001b[0;32m<ipython-input-201-12970fa493a2>\u001b[0m in \u001b[0;36m<module>\u001b[0;34m\u001b[0m\n\u001b[1;32m     21\u001b[0m \u001b[0;34m\u001b[0m\u001b[0m\n\u001b[1;32m     22\u001b[0m \u001b[0;31m## Testing the trained model\u001b[0m\u001b[0;34m\u001b[0m\u001b[0;34m\u001b[0m\u001b[0m\n\u001b[0;32m---> 23\u001b[0;31m \u001b[0mtrainer\u001b[0m\u001b[0;34m.\u001b[0m\u001b[0mtest\u001b[0m\u001b[0;34m(\u001b[0m\u001b[0mtest_dataloaders\u001b[0m\u001b[0;34m=\u001b[0m\u001b[0mdataset\u001b[0m\u001b[0;34m.\u001b[0m\u001b[0mtest_dataloaders\u001b[0m\u001b[0;34m(\u001b[0m\u001b[0;34m)\u001b[0m\u001b[0;34m)\u001b[0m\u001b[0;34m\u001b[0m\u001b[0;34m\u001b[0m\u001b[0m\n\u001b[0m",
            "\u001b[0;31mNameError\u001b[0m: name 'trainer' is not defined"
          ]
        }
      ]
    },
    {
      "cell_type": "markdown",
      "source": [
        "Mar's Code"
      ],
      "metadata": {
        "id": "_NqUnwQphAlb"
      }
    },
    {
      "cell_type": "code",
      "source": [
        "#!/usr/bin/env python3\n",
        "# -*- coding: utf-8 -*-\n",
        "\"\"\"\n",
        "Created on Mon Mar 20 11:35:06 2023\n",
        "\n",
        "@author: marvazquezrabunal\n",
        "\"\"\"\n",
        "\n",
        "import torch\n",
        "from torch import nn\n",
        "from sklearn.preprocessing import StandardScaler\n",
        "from sklearn.datasets import fetch_california_housing\n",
        "import pandas as pd\n",
        "import torch.nn.functional as F\n",
        "import torch.optim as optim\n",
        "import matplotlib.pyplot as plt\n",
        "import matplotlib.cm as cm\n",
        "import numpy\n",
        "\n",
        "#------------------------------------------------------------------------------\n",
        "\n",
        "### Load the data set\n",
        "\n",
        "X = X_train\n",
        "y = y_train\n",
        "\n",
        "\n",
        "#------------------------------------------------------------------------------\n",
        "\n",
        "### Create a Dataset object for the data\n",
        "\n",
        "class CaliforniaDataset(torch.utils.data.Dataset):\n",
        "    def __init__(self, X, y, scale_data=True):\n",
        "      if not torch.is_tensor(X) and not torch.is_tensor(y):\n",
        "        if scale_data:\n",
        "            X = StandardScaler().fit_transform(X)\n",
        "        self.X = torch.from_numpy(X)\n",
        "        self.y = torch.from_numpy(y)\n",
        "    def __len__(self):\n",
        "        return len(self.X)\n",
        "\n",
        "    def __getitem__(self, i):\n",
        "        return self.X[i], self.y[i]\n",
        "  \n",
        "dataset = CaliforniaDataset(X.to_numpy(), y.to_numpy())\n",
        "\n",
        "\n",
        "#------------------------------------------------------------------------------\n",
        "\n",
        "### Create small neural network for each one of the features\n",
        "\n",
        "class INTER(nn.Module):\n",
        "  def __init__(self):\n",
        "    super(INTER, self).__init__()\n",
        "    self.fc1 = nn.Linear(1, 100)\n",
        "    self.fc2 = nn.Linear(100, 50)\n",
        "    self.fc3 = nn.Linear(50, 1)\n",
        "    #self.dropout = nn.Dropout(0.25)\n",
        "\n",
        "  def forward(self, x):\n",
        "    x = x.to(torch.float32)\n",
        "    out = F.relu(self.fc1(x))\n",
        "    #out = self.dropout(out)\n",
        "    out = F.relu(self.fc2(out))\n",
        "    out = self.fc3(out)\n",
        "    return out\n",
        "\n",
        "\n",
        "### Create the NAM \n",
        "\n",
        "class NAM_reg(nn.Module):\n",
        "  def __init__(self):\n",
        "    super(NAM_reg, self).__init__()\n",
        "    self.interm = torch.nn.ModuleList([\n",
        "        INTER()\n",
        "        for i in range(8)\n",
        "    ])\n",
        "    self.fc4 = nn.Linear(8, 1)\n",
        "\n",
        "  def forward(self, x):\n",
        "    x = x.to(torch.float32)\n",
        "    residual = x\n",
        "    f_out = torch.cat(self._feature_nns(x), dim=-1)\n",
        "    res2 = self.fc4(residual)\n",
        "    output = f_out.sum(axis=-1)+res2.reshape(x.shape[0])\n",
        "    return output, f_out\n",
        "\n",
        "  def _feature_nns(self, x):\n",
        "    return [self.interm[i](x[:, i].reshape(x.shape[0],1)) for i in range(8)]\n",
        "  \n",
        "\n",
        "nam1_reg = NAM_reg()\n",
        "\n",
        "#------------------------------------------------------------------------------\n",
        "\n",
        "### Choose optimizer\n",
        "\n",
        "optimizer = optim.AdamW(nam1_reg.parameters(), lr = 0.01)\n",
        "\n",
        "#------------------------------------------------------------------------------\n",
        "\n",
        "### Set batch size and obtain data loader \n",
        "\n",
        "batch_size = 500\n",
        "train_data_loader = torch.utils.data.DataLoader(dataset,\n",
        "                                                batch_size = batch_size,\n",
        "                                                shuffle = True)\n",
        "\n",
        "#------------------------------------------------------------------------------\n",
        "\n",
        "### Define training loop\n",
        "\n",
        "def train(model, optimizer, loss_fn, train_loader, val_loader, epochs = 20):\n",
        "  for epoch in range(epochs):\n",
        "    training_loss = 0.0\n",
        "    valid_loss = 0.0\n",
        "    model.train()\n",
        "    for batch in train_loader:\n",
        "      optimizer.zero_grad()\n",
        "      inputs, target = batch\n",
        "      output, interm = model(inputs)\n",
        "      #print(output.shape)\n",
        "      target = target.to(torch.float32)\n",
        "      #print(target.shape)\n",
        "      loss = loss_fn(output, target)\n",
        "      loss.backward()\n",
        "      optimizer.step()\n",
        "      training_loss += loss.data.item()\n",
        "    training_loss /= len(train_loader)\n",
        "\n",
        "    model.eval()\n",
        "    for batch in val_loader:\n",
        "      inputs, target = batch\n",
        "      target = target.to(torch.float32)\n",
        "      #target.reshape((target.shape[0], 1))\n",
        "      output, interm = model(inputs)\n",
        "      val_loss = loss_fn(output, target)\n",
        "      valid_loss += val_loss.data.item()\n",
        "    valid_loss /= len(val_loader)\n",
        "    print(\"Epoch: {}, Training Loss: {:.2f}, Validation Loss: {:.2f}\".format(epoch, training_loss, valid_loss))\n",
        "\n",
        "#------------------------------------------------------------------------------\n",
        "\n",
        "### Fit the model to the data (we are not including any real validation set)\n",
        "\n",
        "train(nam1_reg, optimizer, nn.MSELoss(), train_data_loader, train_data_loader, 20)\n",
        "\n",
        "#------------------------------------------------------------------------------\n",
        "\n",
        "### Prediction of the model and quality of fit (coef of determination)\n",
        "\n",
        "pred = nam1_reg(dataset.X)[0].detach().numpy()\n",
        "real_y = dataset.y.numpy()\n",
        "\n",
        "SS_res = ((pred.reshape(20640,1)-real_y.reshape(20640,1))**2).sum()/(pred.shape[0])\n",
        "SS_tot = ((real_y-real_y.mean())**2).mean()\n",
        "\n",
        "1-SS_res/SS_tot\n",
        "\n",
        "#------------------------------------------------------------------------------\n",
        "\n",
        "### Plot non linear behaviour features\n",
        "\n",
        "### For each batch obtain the individual feature prediction and the features\n",
        "out = torch.empty(0,8)\n",
        "x_shuff = torch.empty(0,8)\n",
        "for batch in train_data_loader:\n",
        "  x1, y1 = batch\n",
        "  interm_res = nam1_reg(x1)[1]\n",
        "  #print(interm_res.shape)\n",
        "  x_shuff = torch.cat((x_shuff, x1), 0)\n",
        "  out = torch.cat((out, interm_res), 0)\n",
        "\n",
        "\n",
        "### Plot\n",
        "plt.rcParams[\"figure.figsize\"] = (18,9) \n",
        "colors = cm.rainbow(numpy.linspace(0, 1, 8))\n",
        "for i in range(8):\n",
        "  axis_x = x_shuff[:, i]\n",
        "  axis_y = out[:, i]\n",
        "  plt.subplot(2,4,i+1)\n",
        "  plt.scatter(axis_x.detach().numpy(), axis_y.detach().numpy(), color = colors[i])\n",
        "  plt.title(\"Feature \"+str(i+1))\n",
        "fig1 = plt.gcf()\n",
        "\n",
        "### Save plot\n",
        "fig1.savefig(\"Nam3\")\n",
        "\n",
        "#------------------------------------------------------------------------------\n",
        "\n",
        "### Using skorch (we will have to install it first)\n",
        "from skorch import NeuralNet\n",
        "\n",
        "### We create the NAM (a bit different from before because we just want one output)\n",
        "class NAM_reg2(nn.Module):\n",
        "  def __init__(self):\n",
        "    super(NAM_reg2, self).__init__()\n",
        "    self.interm = torch.nn.ModuleList([\n",
        "        INTER()\n",
        "        for i in range(8)\n",
        "    ])\n",
        "    self.fc4 = nn.Linear(8, 1)\n",
        "\n",
        "  def forward(self, x):\n",
        "    x = x.to(torch.float32)\n",
        "    residual = x\n",
        "    f_out = torch.cat(self._feature_nns(x), dim=-1)\n",
        "    res2 = self.fc4(residual)\n",
        "    output = f_out.sum(axis=-1)+res2.reshape(x.shape[0])\n",
        "    output = output.reshape(output.shape[0],1)\n",
        "    return output\n",
        "\n",
        "  def _feature_nns(self, x):\n",
        "    return [self.interm[i](x[:, i].reshape(x.shape[0],1)) for i in range(8)]\n",
        "\n",
        "\n",
        "### We fit the NAM\n",
        "net = NeuralNet(\n",
        "    NAM_reg2,\n",
        "    max_epochs= 20,\n",
        "    criterion=torch.nn.MSELoss,\n",
        "    lr = 0.01,\n",
        "    train_split = None,\n",
        "    optimizer = torch.optim.AdamW,\n",
        "    iterator_train__shuffle=True)\n",
        "\n",
        "X2 = dataset.X.numpy().astype(numpy.float32)\n",
        "y2 = dataset.y.numpy().astype(numpy.float32)\n",
        "y2 = y2.reshape(-1, 1)\n",
        "\n",
        "net.fit(X2, y2)\n",
        "\n",
        "### Prediction and quality of fit\n",
        "y_pred = net.predict(X2)\n",
        "y_pred2 = y_pred.reshape(20640,1)\n",
        "real_y = y2\n",
        "real_y2 = real_y.reshape(20640,1)\n",
        "\n",
        "SS_res = ((y_pred2-real_y2)**2).sum()/(y_pred2.shape[0])\n",
        "SS_tot = ((real_y2-real_y2.mean())**2).mean()\n",
        "\n",
        "1-SS_res/SS_tot"
      ],
      "metadata": {
        "colab": {
          "base_uri": "https://localhost:8080/",
          "height": 381
        },
        "id": "BYuTl-K-hBav",
        "outputId": "0813c874-23db-4249-c7b7-8910bece237a"
      },
      "execution_count": 143,
      "outputs": [
        {
          "output_type": "error",
          "ename": "RuntimeError",
          "evalue": "ignored",
          "traceback": [
            "\u001b[0;31m---------------------------------------------------------------------------\u001b[0m",
            "\u001b[0;31mRuntimeError\u001b[0m                              Traceback (most recent call last)",
            "\u001b[0;32m<ipython-input-143-3d500e9a2231>\u001b[0m in \u001b[0;36m<module>\u001b[0;34m\u001b[0m\n\u001b[1;32m    144\u001b[0m \u001b[0;31m### Fit the model to the data (we are not including any real validation set)\u001b[0m\u001b[0;34m\u001b[0m\u001b[0;34m\u001b[0m\u001b[0m\n\u001b[1;32m    145\u001b[0m \u001b[0;34m\u001b[0m\u001b[0m\n\u001b[0;32m--> 146\u001b[0;31m \u001b[0mtrain\u001b[0m\u001b[0;34m(\u001b[0m\u001b[0mnam1_reg\u001b[0m\u001b[0;34m,\u001b[0m \u001b[0moptimizer\u001b[0m\u001b[0;34m,\u001b[0m \u001b[0mnn\u001b[0m\u001b[0;34m.\u001b[0m\u001b[0mMSELoss\u001b[0m\u001b[0;34m(\u001b[0m\u001b[0;34m)\u001b[0m\u001b[0;34m,\u001b[0m \u001b[0mtrain_data_loader\u001b[0m\u001b[0;34m,\u001b[0m \u001b[0mtrain_data_loader\u001b[0m\u001b[0;34m,\u001b[0m \u001b[0;36m20\u001b[0m\u001b[0;34m)\u001b[0m\u001b[0;34m\u001b[0m\u001b[0;34m\u001b[0m\u001b[0m\n\u001b[0m\u001b[1;32m    147\u001b[0m \u001b[0;34m\u001b[0m\u001b[0m\n\u001b[1;32m    148\u001b[0m \u001b[0;31m#------------------------------------------------------------------------------\u001b[0m\u001b[0;34m\u001b[0m\u001b[0;34m\u001b[0m\u001b[0m\n",
            "\u001b[0;32m<ipython-input-143-3d500e9a2231>\u001b[0m in \u001b[0;36mtrain\u001b[0;34m(model, optimizer, loss_fn, train_loader, val_loader, epochs)\u001b[0m\n\u001b[1;32m    119\u001b[0m       \u001b[0moptimizer\u001b[0m\u001b[0;34m.\u001b[0m\u001b[0mzero_grad\u001b[0m\u001b[0;34m(\u001b[0m\u001b[0;34m)\u001b[0m\u001b[0;34m\u001b[0m\u001b[0;34m\u001b[0m\u001b[0m\n\u001b[1;32m    120\u001b[0m       \u001b[0minputs\u001b[0m\u001b[0;34m,\u001b[0m \u001b[0mtarget\u001b[0m \u001b[0;34m=\u001b[0m \u001b[0mbatch\u001b[0m\u001b[0;34m\u001b[0m\u001b[0;34m\u001b[0m\u001b[0m\n\u001b[0;32m--> 121\u001b[0;31m       \u001b[0moutput\u001b[0m\u001b[0;34m,\u001b[0m \u001b[0minterm\u001b[0m \u001b[0;34m=\u001b[0m \u001b[0mmodel\u001b[0m\u001b[0;34m(\u001b[0m\u001b[0minputs\u001b[0m\u001b[0;34m)\u001b[0m\u001b[0;34m\u001b[0m\u001b[0;34m\u001b[0m\u001b[0m\n\u001b[0m\u001b[1;32m    122\u001b[0m       \u001b[0;31m#print(output.shape)\u001b[0m\u001b[0;34m\u001b[0m\u001b[0;34m\u001b[0m\u001b[0m\n\u001b[1;32m    123\u001b[0m       \u001b[0mtarget\u001b[0m \u001b[0;34m=\u001b[0m \u001b[0mtarget\u001b[0m\u001b[0;34m.\u001b[0m\u001b[0mto\u001b[0m\u001b[0;34m(\u001b[0m\u001b[0mtorch\u001b[0m\u001b[0;34m.\u001b[0m\u001b[0mfloat32\u001b[0m\u001b[0;34m)\u001b[0m\u001b[0;34m\u001b[0m\u001b[0;34m\u001b[0m\u001b[0m\n",
            "\u001b[0;32m/usr/local/lib/python3.9/dist-packages/torch/nn/modules/module.py\u001b[0m in \u001b[0;36m_call_impl\u001b[0;34m(self, *input, **kwargs)\u001b[0m\n\u001b[1;32m   1192\u001b[0m         if not (self._backward_hooks or self._forward_hooks or self._forward_pre_hooks or _global_backward_hooks\n\u001b[1;32m   1193\u001b[0m                 or _global_forward_hooks or _global_forward_pre_hooks):\n\u001b[0;32m-> 1194\u001b[0;31m             \u001b[0;32mreturn\u001b[0m \u001b[0mforward_call\u001b[0m\u001b[0;34m(\u001b[0m\u001b[0;34m*\u001b[0m\u001b[0minput\u001b[0m\u001b[0;34m,\u001b[0m \u001b[0;34m**\u001b[0m\u001b[0mkwargs\u001b[0m\u001b[0;34m)\u001b[0m\u001b[0;34m\u001b[0m\u001b[0;34m\u001b[0m\u001b[0m\n\u001b[0m\u001b[1;32m   1195\u001b[0m         \u001b[0;31m# Do not call functions when jit is used\u001b[0m\u001b[0;34m\u001b[0m\u001b[0;34m\u001b[0m\u001b[0m\n\u001b[1;32m   1196\u001b[0m         \u001b[0mfull_backward_hooks\u001b[0m\u001b[0;34m,\u001b[0m \u001b[0mnon_full_backward_hooks\u001b[0m \u001b[0;34m=\u001b[0m \u001b[0;34m[\u001b[0m\u001b[0;34m]\u001b[0m\u001b[0;34m,\u001b[0m \u001b[0;34m[\u001b[0m\u001b[0;34m]\u001b[0m\u001b[0;34m\u001b[0m\u001b[0;34m\u001b[0m\u001b[0m\n",
            "\u001b[0;32m<ipython-input-143-3d500e9a2231>\u001b[0m in \u001b[0;36mforward\u001b[0;34m(self, x)\u001b[0m\n\u001b[1;32m     82\u001b[0m     \u001b[0mresidual\u001b[0m \u001b[0;34m=\u001b[0m \u001b[0mx\u001b[0m\u001b[0;34m\u001b[0m\u001b[0;34m\u001b[0m\u001b[0m\n\u001b[1;32m     83\u001b[0m     \u001b[0mf_out\u001b[0m \u001b[0;34m=\u001b[0m \u001b[0mtorch\u001b[0m\u001b[0;34m.\u001b[0m\u001b[0mcat\u001b[0m\u001b[0;34m(\u001b[0m\u001b[0mself\u001b[0m\u001b[0;34m.\u001b[0m\u001b[0m_feature_nns\u001b[0m\u001b[0;34m(\u001b[0m\u001b[0mx\u001b[0m\u001b[0;34m)\u001b[0m\u001b[0;34m,\u001b[0m \u001b[0mdim\u001b[0m\u001b[0;34m=\u001b[0m\u001b[0;34m-\u001b[0m\u001b[0;36m1\u001b[0m\u001b[0;34m)\u001b[0m\u001b[0;34m\u001b[0m\u001b[0;34m\u001b[0m\u001b[0m\n\u001b[0;32m---> 84\u001b[0;31m     \u001b[0mres2\u001b[0m \u001b[0;34m=\u001b[0m \u001b[0mself\u001b[0m\u001b[0;34m.\u001b[0m\u001b[0mfc4\u001b[0m\u001b[0;34m(\u001b[0m\u001b[0mresidual\u001b[0m\u001b[0;34m)\u001b[0m\u001b[0;34m\u001b[0m\u001b[0;34m\u001b[0m\u001b[0m\n\u001b[0m\u001b[1;32m     85\u001b[0m     \u001b[0moutput\u001b[0m \u001b[0;34m=\u001b[0m \u001b[0mf_out\u001b[0m\u001b[0;34m.\u001b[0m\u001b[0msum\u001b[0m\u001b[0;34m(\u001b[0m\u001b[0maxis\u001b[0m\u001b[0;34m=\u001b[0m\u001b[0;34m-\u001b[0m\u001b[0;36m1\u001b[0m\u001b[0;34m)\u001b[0m\u001b[0;34m+\u001b[0m\u001b[0mres2\u001b[0m\u001b[0;34m.\u001b[0m\u001b[0mreshape\u001b[0m\u001b[0;34m(\u001b[0m\u001b[0mx\u001b[0m\u001b[0;34m.\u001b[0m\u001b[0mshape\u001b[0m\u001b[0;34m[\u001b[0m\u001b[0;36m0\u001b[0m\u001b[0;34m]\u001b[0m\u001b[0;34m)\u001b[0m\u001b[0;34m\u001b[0m\u001b[0;34m\u001b[0m\u001b[0m\n\u001b[1;32m     86\u001b[0m     \u001b[0;32mreturn\u001b[0m \u001b[0moutput\u001b[0m\u001b[0;34m,\u001b[0m \u001b[0mf_out\u001b[0m\u001b[0;34m\u001b[0m\u001b[0;34m\u001b[0m\u001b[0m\n",
            "\u001b[0;32m/usr/local/lib/python3.9/dist-packages/torch/nn/modules/module.py\u001b[0m in \u001b[0;36m_call_impl\u001b[0;34m(self, *input, **kwargs)\u001b[0m\n\u001b[1;32m   1192\u001b[0m         if not (self._backward_hooks or self._forward_hooks or self._forward_pre_hooks or _global_backward_hooks\n\u001b[1;32m   1193\u001b[0m                 or _global_forward_hooks or _global_forward_pre_hooks):\n\u001b[0;32m-> 1194\u001b[0;31m             \u001b[0;32mreturn\u001b[0m \u001b[0mforward_call\u001b[0m\u001b[0;34m(\u001b[0m\u001b[0;34m*\u001b[0m\u001b[0minput\u001b[0m\u001b[0;34m,\u001b[0m \u001b[0;34m**\u001b[0m\u001b[0mkwargs\u001b[0m\u001b[0;34m)\u001b[0m\u001b[0;34m\u001b[0m\u001b[0;34m\u001b[0m\u001b[0m\n\u001b[0m\u001b[1;32m   1195\u001b[0m         \u001b[0;31m# Do not call functions when jit is used\u001b[0m\u001b[0;34m\u001b[0m\u001b[0;34m\u001b[0m\u001b[0m\n\u001b[1;32m   1196\u001b[0m         \u001b[0mfull_backward_hooks\u001b[0m\u001b[0;34m,\u001b[0m \u001b[0mnon_full_backward_hooks\u001b[0m \u001b[0;34m=\u001b[0m \u001b[0;34m[\u001b[0m\u001b[0;34m]\u001b[0m\u001b[0;34m,\u001b[0m \u001b[0;34m[\u001b[0m\u001b[0;34m]\u001b[0m\u001b[0;34m\u001b[0m\u001b[0;34m\u001b[0m\u001b[0m\n",
            "\u001b[0;32m/usr/local/lib/python3.9/dist-packages/torch/nn/modules/linear.py\u001b[0m in \u001b[0;36mforward\u001b[0;34m(self, input)\u001b[0m\n\u001b[1;32m    112\u001b[0m \u001b[0;34m\u001b[0m\u001b[0m\n\u001b[1;32m    113\u001b[0m     \u001b[0;32mdef\u001b[0m \u001b[0mforward\u001b[0m\u001b[0;34m(\u001b[0m\u001b[0mself\u001b[0m\u001b[0;34m,\u001b[0m \u001b[0minput\u001b[0m\u001b[0;34m:\u001b[0m \u001b[0mTensor\u001b[0m\u001b[0;34m)\u001b[0m \u001b[0;34m->\u001b[0m \u001b[0mTensor\u001b[0m\u001b[0;34m:\u001b[0m\u001b[0;34m\u001b[0m\u001b[0;34m\u001b[0m\u001b[0m\n\u001b[0;32m--> 114\u001b[0;31m         \u001b[0;32mreturn\u001b[0m \u001b[0mF\u001b[0m\u001b[0;34m.\u001b[0m\u001b[0mlinear\u001b[0m\u001b[0;34m(\u001b[0m\u001b[0minput\u001b[0m\u001b[0;34m,\u001b[0m \u001b[0mself\u001b[0m\u001b[0;34m.\u001b[0m\u001b[0mweight\u001b[0m\u001b[0;34m,\u001b[0m \u001b[0mself\u001b[0m\u001b[0;34m.\u001b[0m\u001b[0mbias\u001b[0m\u001b[0;34m)\u001b[0m\u001b[0;34m\u001b[0m\u001b[0;34m\u001b[0m\u001b[0m\n\u001b[0m\u001b[1;32m    115\u001b[0m \u001b[0;34m\u001b[0m\u001b[0m\n\u001b[1;32m    116\u001b[0m     \u001b[0;32mdef\u001b[0m \u001b[0mextra_repr\u001b[0m\u001b[0;34m(\u001b[0m\u001b[0mself\u001b[0m\u001b[0;34m)\u001b[0m \u001b[0;34m->\u001b[0m \u001b[0mstr\u001b[0m\u001b[0;34m:\u001b[0m\u001b[0;34m\u001b[0m\u001b[0;34m\u001b[0m\u001b[0m\n",
            "\u001b[0;31mRuntimeError\u001b[0m: mat1 and mat2 shapes cannot be multiplied (500x22 and 8x1)"
          ]
        }
      ]
    }
  ]
}