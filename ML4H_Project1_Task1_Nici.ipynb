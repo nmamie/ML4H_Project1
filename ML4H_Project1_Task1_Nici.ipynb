{
  "cells": [
    {
      "cell_type": "markdown",
      "metadata": {
        "id": "view-in-github",
        "colab_type": "text"
      },
      "source": [
        "<a href=\"https://colab.research.google.com/github/nmamie/ML4H_Project1/blob/master/ML4H_Project1_Task1_Nici.ipynb\" target=\"_parent\"><img src=\"https://colab.research.google.com/assets/colab-badge.svg\" alt=\"Open In Colab\"/></a>"
      ]
    },
    {
      "cell_type": "markdown",
      "metadata": {
        "id": "TK2Dt7SVT_8N"
      },
      "source": [
        "# **Part 1: Heart Disease Prediction**"
      ]
    },
    {
      "cell_type": "markdown",
      "metadata": {
        "id": "GRVbVTTFTyBH"
      },
      "source": [
        "## Preparation"
      ]
    },
    {
      "cell_type": "code",
      "execution_count": 2,
      "metadata": {
        "id": "xLNTfpfuRWnx"
      },
      "outputs": [],
      "source": [
        "## basic packages\n",
        "import pandas as pd\n",
        "import numpy as np\n",
        "import math\n",
        "from IPython.display import display"
      ]
    },
    {
      "cell_type": "code",
      "execution_count": 3,
      "metadata": {
        "id": "QGJx9k5nRovi"
      },
      "outputs": [],
      "source": [
        "## setup\n",
        "import warnings\n",
        "warnings.filterwarnings(\"ignore\")\n",
        "\n",
        "path = \"/content/drive/MyDrive/1) ETH/3) ML in Healthcare/5) Assignments/Project 1/Data Heart Failure/\""
      ]
    },
    {
      "cell_type": "code",
      "source": [
        "#from google.colab import drive\n",
        "#drive.mount('/content/drive')"
      ],
      "metadata": {
        "id": "OMYoL-AJt3nT",
        "outputId": "7fc3343a-7cdb-4ed2-c3de-1c94d2e5be14",
        "colab": {
          "base_uri": "https://localhost:8080/"
        }
      },
      "execution_count": 4,
      "outputs": [
        {
          "output_type": "stream",
          "name": "stdout",
          "text": [
            "Mounted at /content/drive\n"
          ]
        }
      ]
    },
    {
      "cell_type": "code",
      "execution_count": 5,
      "metadata": {
        "id": "5TJxcCzHPAcV"
      },
      "outputs": [],
      "source": [
        "## data import\n",
        "train_data = pd.read_csv(path + \"train_val_split.csv\")\n",
        "test_data = pd.read_csv(path + \"test_split.csv\")"
      ]
    },
    {
      "cell_type": "markdown",
      "metadata": {
        "id": "qG74Ts2UUJjj"
      },
      "source": [
        "## **Q1: Exploratory Data Analysis**"
      ]
    },
    {
      "cell_type": "markdown",
      "metadata": {
        "id": "IIvSw4onXKOy"
      },
      "source": [
        "### Basic checks"
      ]
    },
    {
      "cell_type": "code",
      "execution_count": null,
      "metadata": {
        "id": "5I-XFlb8nuCB"
      },
      "outputs": [],
      "source": [
        "## examine head\n",
        "train_data.head()"
      ]
    },
    {
      "cell_type": "code",
      "execution_count": null,
      "metadata": {
        "id": "u8e83pbjfdJS"
      },
      "outputs": [],
      "source": [
        "## check dataset sample size & dimensionality\n",
        "n = len(train_data)\n",
        "p = len(train_data.columns) - 1\n",
        "print(\"No. of samples:  \", n)\n",
        "print(\"No. of features: \", p)"
      ]
    },
    {
      "cell_type": "code",
      "execution_count": null,
      "metadata": {
        "id": "BXqOE40SyJk5"
      },
      "outputs": [],
      "source": [
        "## check for missing data\n",
        "missing_values=train_data.isnull().sum()"
      ]
    },
    {
      "cell_type": "code",
      "execution_count": null,
      "metadata": {
        "id": "BbvVLVOctqxB"
      },
      "outputs": [],
      "source": [
        "# Export to latex\n",
        "missing_values.to_latex(\"tables/missing_values.txt\")"
      ]
    },
    {
      "cell_type": "markdown",
      "metadata": {
        "id": "QrzewBu0yZ6Q"
      },
      "source": [
        "**Conclusions:**\n",
        "*   We have significantly more observations than variables. Hence, no further problems arise.\n",
        "*   There are no missing values.\n",
        "\n",
        "**Implications:**\n",
        "*   None"
      ]
    },
    {
      "cell_type": "markdown",
      "metadata": {
        "id": "gNt4CpBFXOFs"
      },
      "source": [
        "### Data types and distributions of variables"
      ]
    },
    {
      "cell_type": "code",
      "execution_count": null,
      "metadata": {
        "id": "oqtccc8WWnVi"
      },
      "outputs": [],
      "source": [
        "## explore feature data types\n",
        "train_data.dtypes"
      ]
    },
    {
      "cell_type": "markdown",
      "metadata": {
        "id": "7Bja1Mxfm7GM"
      },
      "source": [
        "*FastingBS* and *HeartDisease* are binary, hence change to data type \"object\" for plotting."
      ]
    },
    {
      "cell_type": "code",
      "execution_count": 6,
      "metadata": {
        "id": "u7rJOKKdivoc"
      },
      "outputs": [],
      "source": [
        "## change data type of categorical variables to \"object\"\n",
        "train_data[\"FastingBS\"] = train_data[\"FastingBS\"].astype(\"object\")\n",
        "train_data[\"HeartDisease\"] = train_data[\"HeartDisease\"].astype(\"object\")"
      ]
    },
    {
      "cell_type": "code",
      "execution_count": 7,
      "metadata": {
        "id": "XWFLRWYypA3M"
      },
      "outputs": [],
      "source": [
        "# save variable & names\n",
        "var_names = train_data.columns.tolist()\n",
        "fts_names = train_data.drop(\"HeartDisease\", axis=1).columns.tolist()\n",
        "num_fts = train_data.drop(\"HeartDisease\", axis=1).select_dtypes(exclude=\"object\").columns.tolist()\n",
        "cat_fts = train_data.drop(\"HeartDisease\", axis=1).select_dtypes(include=\"object\").columns.tolist()\n",
        "num_vars = train_data.select_dtypes(include=\"int64\").columns.tolist()\n",
        "cat_vars = train_data.select_dtypes(include=\"object\").columns.tolist()"
      ]
    },
    {
      "cell_type": "code",
      "execution_count": null,
      "metadata": {
        "id": "xgE5P0hOm1A3"
      },
      "outputs": [],
      "source": [
        "# summary statistics\n",
        "num_summary = train_data[num_fts].describe().round(2)\n",
        "cat_summary = train_data[cat_fts].describe()\n",
        "display(num_summary)\n",
        "display(cat_summary)"
      ]
    },
    {
      "cell_type": "code",
      "execution_count": null,
      "metadata": {
        "id": "DQUlyp0ZtqxE"
      },
      "outputs": [],
      "source": [
        "# Export to latex\n",
        "num_summary.to_latex(\"tables/num_summary.txt\")\n",
        "cat_summary.to_latex(\"tables/cat_summary.txt\")"
      ]
    },
    {
      "cell_type": "code",
      "execution_count": 8,
      "metadata": {
        "id": "qz3Gn7sJX1pp",
        "colab": {
          "base_uri": "https://localhost:8080/",
          "height": 1000
        },
        "outputId": "3f68f006-0b20-4a31-ced7-43546afec42a"
      },
      "outputs": [
        {
          "output_type": "execute_result",
          "data": {
            "text/plain": [
              "<Axes: xlabel='HeartDisease', ylabel='count'>"
            ]
          },
          "metadata": {},
          "execution_count": 8
        },
        {
          "output_type": "display_data",
          "data": {
            "text/plain": [
              "<Figure size 1500x1000 with 6 Axes>"
            ],
            "image/png": "[encoded data removed]"
          },
          "metadata": {}
        },
        {
          "output_type": "display_data",
          "data": {
            "text/plain": [
              "<Figure size 1500x1000 with 6 Axes>"
            ],
            "image/png": "[encoded data removed]"
          },
          "metadata": {}
        },
        {
          "output_type": "display_data",
          "data": {
            "text/plain": [
              "<Figure size 1500x1000 with 1 Axes>"
            ],
            "image/png": "[encoded data removed]"
          },
          "metadata": {}
        }
      ],
      "source": [
        "import matplotlib.pyplot as plt\n",
        "import seaborn as sns\n",
        "\n",
        "plt.style.use('default')\n",
        "\n",
        "# categorical features\n",
        "fig, axs = plt.subplots(2, math.ceil(len(cat_fts)/2), figsize=(15, 10))\n",
        "fig.suptitle('Categorical Features', fontsize=16)\n",
        "for i, col in enumerate(cat_fts):\n",
        "    ax = axs.reshape(-1)[i]\n",
        "    ax.set_title(col)\n",
        "    sns.countplot(x=col, data=train_data, ax=ax)\n",
        "\n",
        "# numerical features\n",
        "fig, axs = plt.subplots(2, math.ceil(len(num_fts)/2), figsize=(15, 10))\n",
        "fig.suptitle('Numerical Features', fontsize=16)\n",
        "for i, col in enumerate(num_fts):\n",
        "    ax = axs.reshape(-1)[i]\n",
        "    ax.set_title(col)\n",
        "    sns.histplot(x=col, data=train_data, ax=ax)\n",
        "\n",
        "# HeartDisease Plot\n",
        "fig, axs = plt.subplots(1, 1, figsize=(15, 10))\n",
        "ax = axs\n",
        "sns.countplot(x=\"HeartDisease\", data=train_data, ax=ax)"
      ]
    },
    {
      "cell_type": "code",
      "execution_count": null,
      "metadata": {
        "id": "_MsQ9AOhqBUJ"
      },
      "outputs": [],
      "source": [
        "print(\"0s in RestingBP:\")\n",
        "print(\" - Train Data: \", (train_data[\"RestingBP\"] == 0).sum())\n",
        "print(\" - Test Data:  \", (test_data[\"RestingBP\"] == 0).sum())\n",
        "\n",
        "print(\"\")\n",
        "print(\"0s in RestingBP:\")\n",
        "print(\" - Train Data: \", (train_data[\"Cholesterol\"] == 0).sum())\n",
        "print(\" - Test Data:  \", (test_data[\"Cholesterol\"] == 0).sum())"
      ]
    },
    {
      "cell_type": "markdown",
      "metadata": {
        "id": "dJioDLSVkOGh"
      },
      "source": [
        "**Conclusions:**\n",
        "\n",
        "1.   Some features are categorical, i.e. lack interpretability of differences in or ordering of their values.\n",
        "2.   The dataset is imbalanced w.r.t. a couple of features, incl. *sex*, *chest pain type*, and *fasting blood sugar*. Importantly, however, the dataset is balanced w.r.t. the outcome variable, *heart disease*.\n",
        "3.   *Cholesterol:* Many values of are exactly 0. Since virtually all values above 0 are >100, this seems highly unrealistic. Instead, we interpret this as missing values.\n",
        "4.   *RestingBP:* There exist an observation with resting blood pressure of 0, which seems equally unrealistic. \n",
        "\n",
        "**Implications:**\n",
        "\n",
        "1.   Create dummy variables or use one-hot encoding for the respective features.\n",
        "2.  ...\n",
        "3.   Since there are many observations with this anomaly, create a dummy variable indicating whether a patient's cholesterol measurement is missing or not.\n",
        "4.   Since there is only 1 observation with this anomaly, ..."
      ]
    },
    {
      "cell_type": "markdown",
      "metadata": {
        "id": "PnvfFX0fX569"
      },
      "source": [
        "## EDA Preprocessing"
      ]
    },
    {
      "cell_type": "markdown",
      "metadata": {
        "id": "idcV8TkSrYRm"
      },
      "source": [
        "For the purpose of EDA, our preprocessing pipeline consists of the following steps:\n",
        "\n",
        "1.   Create dummy variable for *Cholesterol = 0*\n",
        "2.   Mark *Cholesterol* as *NA* whenever it is 0\n",
        "2.   Create dummy variables for categories\n",
        "\n",
        "The corresponding dataset is called \"train_proc_1\"/\"test_proc_1\""
      ]
    },
    {
      "cell_type": "code",
      "execution_count": 9,
      "metadata": {
        "id": "D7zZjw3dPRKt"
      },
      "outputs": [],
      "source": [
        "## add dummy for cholesterol=0\n",
        "train_data[\"Cholesterol\"].replace(0, np.nan, inplace=True)\n",
        "test_data[\"Cholesterol\"].replace(0, np.nan, inplace=True)\n",
        "\n",
        "train_data.insert(loc=5, column=\"Chol_NA\", value=train_data[\"Cholesterol\"].isna()*1)\n",
        "test_data.insert(loc=5, column=\"Chol_NA\", value=test_data[\"Cholesterol\"].isna()*1)"
      ]
    },
    {
      "cell_type": "code",
      "execution_count": 10,
      "metadata": {
        "id": "66c48lMLXtmi"
      },
      "outputs": [],
      "source": [
        "from sklearn.pipeline import Pipeline\n",
        "from sklearn.preprocessing import OneHotEncoder\n",
        "from sklearn.compose import ColumnTransformer\n",
        "\n",
        "# pipeline for categorical features\n",
        "cat_transformer = Pipeline(steps=[(\"encoder\", OneHotEncoder(drop=None))])\n",
        "\n",
        "# preprocessor\n",
        "preprocessing = ColumnTransformer(transformers = [(\"pass\", \"passthrough\", [\"HeartDisease\", \"Chol_NA\"] + num_fts),\n",
        "                                                  (\"drop\", \"drop\", fts_names),\n",
        "                                                  (\"cat\", cat_transformer, cat_fts)],\n",
        "                                  remainder = \"passthrough\")"
      ]
    },
    {
      "cell_type": "code",
      "execution_count": 11,
      "metadata": {
        "id": "Jfo1LzC7vjVW"
      },
      "outputs": [],
      "source": [
        "## apply preprocessing pipeline to data\n",
        "train_proc_1 = preprocessing.fit_transform(train_data)\n",
        "test_proc_1 = preprocessing.fit_transform(test_data)\n",
        "\n",
        "var_names = preprocessing.get_feature_names_out().tolist()\n",
        "var_names = [var_names[i].replace(\"pass__\", \"\").replace(\"num__\", \"\").replace(\"cat__\", \"\") for i in range(len(var_names))]\n",
        "ft_names = var_names.copy()\n",
        "ft_names.remove(\"HeartDisease\")\n",
        "\n",
        "train_proc_1 = pd.DataFrame(train_proc_1, columns=var_names)\n",
        "test_proc_1 = pd.DataFrame(test_proc_1, columns=var_names)"
      ]
    },
    {
      "cell_type": "code",
      "execution_count": 12,
      "metadata": {
        "id": "ZZIf05oLFhmb"
      },
      "outputs": [],
      "source": [
        "## set numerical features to float, categorical to int\n",
        "train_proc_1[num_fts] = train_proc_1[num_fts].astype(\"float64\")\n",
        "test_proc_1[num_fts] = test_proc_1[num_fts].astype(\"float64\")\n",
        "\n",
        "train_proc_1.loc[:, ~train_proc_1.columns.isin(num_fts)] = train_proc_1.loc[:, ~train_proc_1.columns.isin(num_fts)].astype(\"int64\")\n",
        "test_proc_1.loc[:, ~test_proc_1.columns.isin(num_fts)] = test_proc_1.loc[:, ~test_proc_1.columns.isin(num_fts)].astype(\"int64\")"
      ]
    },
    {
      "cell_type": "markdown",
      "metadata": {
        "id": "XR2IjiGfbuDJ"
      },
      "source": [
        "## Dependencies"
      ]
    },
    {
      "cell_type": "markdown",
      "metadata": {
        "id": "mTVAYEfzv13V"
      },
      "source": [
        "Following intermediate data processing for exploratory data analysis only:"
      ]
    },
    {
      "cell_type": "code",
      "execution_count": null,
      "metadata": {
        "id": "UIAFrvRzg3Kg"
      },
      "outputs": [],
      "source": [
        "## \n",
        "\n",
        "# HeartDisease & categorical features\n",
        "fig, axs = plt.subplots(2, math.ceil(len(cat_fts)/2), figsize=(15, 10))\n",
        "fig.suptitle('Categorical Features', fontsize=16)\n",
        "for i, col in enumerate(cat_fts):\n",
        "    ax = axs.reshape(-1)[i]\n",
        "    ax.set_title(col)\n",
        "    sns.countplot(x=train_data[col], data=train_proc_1, ax=ax, hue=\"HeartDisease\")\n",
        "\n",
        "# HeartDisease & continuous features\n",
        "figure = plt.figure(figsize=(20,10))\n",
        "figure.suptitle('Continuous Features', fontsize=16)\n",
        "sns.pairplot(train_data[num_fts + [\"HeartDisease\"]], hue='HeartDisease', palette='Blues')"
      ]
    },
    {
      "cell_type": "code",
      "execution_count": null,
      "metadata": {
        "id": "MVKp4xzoe64M"
      },
      "outputs": [],
      "source": [
        "## define default variables and drop their dummy\n",
        "\n",
        "default_vars = [\"Sex_M\",\n",
        "                \"ChestPainType_ASY\",\n",
        "                \"FastingBS_0\",\n",
        "                \"RestingECG_Normal\",\n",
        "                \"ExerciseAngina_N\",\n",
        "                \"ST_Slope_Flat\"]\n",
        "\n",
        "train_eda = train_proc_1.drop(default_vars, axis=1, inplace=False)"
      ]
    },
    {
      "cell_type": "markdown",
      "metadata": {
        "id": "q4K0s-Ol3Lwc"
      },
      "source": [
        "To examine dependencies, we remove the collinearity and drop one category of each categorical variable. Note the definition of the \"default\" values of categorical features:\n",
        "*   *HeartDisease:* 0\n",
        "*   *Sex*: M\n",
        "*   *ChestPainType:* ASY\n",
        "*   *FastingBS:* 0\n",
        "*   *RestingECG:* Normal\n",
        "*   *ExerciseAngina:* N\n",
        "*   *ST_Slope:* Flat"
      ]
    },
    {
      "cell_type": "markdown",
      "metadata": {
        "id": "MQcx7cLPb6y7"
      },
      "source": [
        "We compute rank correlations between non-categorical variables, since these can capture also non-linear (monotonic) dependence structures. In case of binary variables (which includes the outcome variable *HeartDisease*), it corresponds to linear correlation."
      ]
    },
    {
      "cell_type": "code",
      "execution_count": null,
      "metadata": {
        "id": "Y3cKuVeXzej5"
      },
      "outputs": [],
      "source": [
        "## compute rank correlations\n",
        "rk_corr = train_eda.corr(method=\"spearman\")\n",
        "print(\"Rank correlation:\")\n",
        "plt.figure(figsize=(10, 10))\n",
        "sns.heatmap(rk_corr, cmap=\"YlGnBu\")"
      ]
    },
    {
      "cell_type": "code",
      "execution_count": null,
      "metadata": {
        "id": "yA7w9KQu6FcO"
      },
      "outputs": [],
      "source": [
        "## significant rank correlations (|r|>0.4)\n",
        "sig_corr = rk_corr[abs(rk_corr)>0.4]\n",
        "sig_corr.replace(np.nan, \"-\", inplace=True)\n",
        "sig_corr"
      ]
    },
    {
      "cell_type": "markdown",
      "metadata": {
        "id": "5IzZHDoY4OKQ"
      },
      "source": [
        "**Conclusions**:\n",
        "*   The plots and rank correlations suggest *HeartDisease* has a  strong positive association with *ExerciseAngina = \"Y\"*, *Oldpeak*, and *ChestPainType = \"ASY\".\n",
        "*    Strong negative associations can be seen with *MaxHR*, *ChestPainType = \"ATA\"*, and *ST_Slope = \"Up\"*.\n",
        "*   Some features are also highly correlated. For example, *ExerciseAngina* & *Oldpeak* are significantly positively associated, while *ExerciseAngina* & *MaxHR*, *Oldpeak* & *ST_Slope = \"Up\"*, and *ExerciseAngina = \"Y\"* & *ST_Slope = \"Up\"* are significantly negatively correlated.\n",
        "*   Hence, among the observed variables, ...\n",
        "\n",
        "**Conclusions**:\n",
        "*    When interpreting feature selection outputs, one needs to be cautious due to correlated predictors."
      ]
    },
    {
      "cell_type": "markdown",
      "metadata": {
        "id": "azYQaxOREGgg"
      },
      "source": [
        "## **Q2: Logistic Lasso Regression**"
      ]
    },
    {
      "cell_type": "markdown",
      "metadata": {
        "id": "oK0L3-4IMZ9h"
      },
      "source": [
        "For the purposes of modelling, the further preprocessing pipeline consists of the following steps:\n",
        "\n",
        "*   For categorical features:\n",
        "  1.  Get back dummy variables for *each* category\n",
        "\n",
        "*  For continuous features\n",
        "  2.   Impute missing values (incl. unrealistic 0 values) with the mean\n",
        "  3.   Standardize to mean 0 and standard deviation 1\n",
        "  4.   Create dummy variable for *Cholesterol = 0*\n",
        "\n",
        "Justification:\n",
        " 1.   Below, we use group lasso to penalize the inclusion of entire variables, not specific dummies.\n",
        " 1.   Avoids having to throw away data; Mean imputation is simple, understandable, and for the current purposes likely sufficient\n",
        " 2.   Standardization usually improves accuracy and variable selection.\n",
        " 3.   The fact of a data point missing migh itself be informative."
      ]
    },
    {
      "cell_type": "code",
      "execution_count": 13,
      "metadata": {
        "id": "mP4NiwY8Z3ww"
      },
      "outputs": [],
      "source": [
        "from sklearn.preprocessing import StandardScaler\n",
        "from sklearn.impute import SimpleImputer\n",
        "\n",
        "# copy df\n",
        "train_proc_2 = train_proc_1.copy()\n",
        "test_proc_2 = test_proc_1.copy()\n",
        "\n",
        "dummy_ft_names = train_proc_2.drop(\"HeartDisease\", axis=1).columns.tolist()\n",
        "\n",
        "# determine scaling & imputation strategy\n",
        "scaler = StandardScaler()\n",
        "imputer = SimpleImputer(strategy=\"mean\")\n",
        "\n",
        "# standardize features (according to training set)\n",
        "train_proc_2 = scaler.fit_transform(train_proc_1.drop(\"HeartDisease\", axis=1))\n",
        "test_proc_2 = scaler.transform(test_proc_1.drop(\"HeartDisease\", axis=1))\n",
        "\n",
        "# impute missing values\n",
        "train_proc_2 = imputer.fit_transform(train_proc_2)\n",
        "test_proc_2 = imputer.transform(test_proc_2)\n",
        "\n",
        "# put back to pandas\n",
        "train_proc_2 = pd.DataFrame(train_proc_2, columns=dummy_ft_names)\n",
        "test_proc_2 = pd.DataFrame(test_proc_2, columns=dummy_ft_names)\n",
        "\n",
        "# add back label column\n",
        "train_proc_2 = pd.concat([train_data[\"HeartDisease\"], train_proc_2], axis=1)\n",
        "test_proc_2 = pd.concat([test_data[\"HeartDisease\"], test_proc_2], axis=1)\n",
        "\n",
        "# make HeartDisease integer\n",
        "train_proc_2[\"HeartDisease\"] = train_proc_2[\"HeartDisease\"].astype(\"int64\")\n",
        "test_proc_2[\"HeartDisease\"] = test_proc_2[\"HeartDisease\"].astype(\"int64\")"
      ]
    },
    {
      "cell_type": "code",
      "execution_count": 14,
      "metadata": {
        "id": "CnZ9KIluzPsd"
      },
      "outputs": [],
      "source": [
        "X_train = train_proc_2.drop(\"HeartDisease\", axis=1)\n",
        "X_test = test_proc_2.drop(\"HeartDisease\", axis=1)\n",
        "\n",
        "y_train = train_proc_2[\"HeartDisease\"]\n",
        "y_test = test_proc_2[\"HeartDisease\"]"
      ]
    },
    {
      "cell_type": "markdown",
      "metadata": {
        "id": "5Oag3CSu2Hsz"
      },
      "source": [
        "When using regularization, we need to account for the fact that we introduced dummy variables. Specifically, we want to regularize the inclusion of entire variables, e.g. \"Sex\", and not certain categories, e.g. \"Female\", as this would introduce bias depending on the default category. To tackle this, we purposefully introduce all categories of categorical variables again and use **Group Lasso**. Altough this usually introduces multicollinearity, regularization serves to deal with this.\n",
        "\n",
        "We fix \"l1_reg\" at 0 and choose \"group_reg\" through cross-validation, since we want to do selection of *groups* of variables, but do not want to encourage sparsity within groups."
      ]
    },
    {
      "cell_type": "code",
      "execution_count": null,
      "metadata": {
        "id": "EJqDdBtU5xTC"
      },
      "outputs": [],
      "source": [
        "#!pip install group-lasso  # has to be uncommented if not installed\n",
        "from group_lasso import LogisticGroupLasso\n",
        "\n",
        "group_names = [\"Chol_NA\", \"Age\", \"RestingBP\", \"Cholesterol\", \"MaxHR\", \"Oldpeak\",\n",
        "               \"Sex\", \"ChestPain\", \"FastingBS\", \"RestingECG\", \"ExerciseAngina\",\n",
        "               \"ST_Slope\"]\n",
        "group_sizes = [1, 1, 1, 1, 1, 1,\n",
        "               2, 4, 2, 3, 2, 3]\n",
        "n_groups = len(group_sizes)\n",
        "groups = np.concatenate([size * [i] for i, size in enumerate(group_sizes)])"
      ]
    },
    {
      "cell_type": "code",
      "execution_count": null,
      "metadata": {
        "id": "Nrd8pAPgM7V3"
      },
      "outputs": [],
      "source": [
        "from sklearn.model_selection import cross_validate\n",
        "from sklearn.metrics import f1_score\n",
        "\n",
        "p1_vals = 2.0**np.arange(-10, 0)\n",
        "scores = []\n",
        "\n",
        "for i in range(len(p1_vals)):\n",
        "  lgl = LogisticGroupLasso(\n",
        "      groups = groups,\n",
        "      group_reg = p1_vals[i],\n",
        "      l1_reg = 0.0,\n",
        "      scale_reg = \"inverse_group_size\",\n",
        "      subsampling_scheme = 1,\n",
        "      supress_warning = True)\n",
        "\n",
        "  result = cross_validate(lgl, X_train, y_train, scoring=\"f1\", cv=5)\n",
        "  score = result[\"test_score\"].mean()\n",
        "  scores.append(score)\n",
        "\n",
        "p1_opt = p1_vals[np.argmax(scores)]\n",
        "print(\"Optimal group penalty:\", p1_opt)"
      ]
    },
    {
      "cell_type": "code",
      "execution_count": null,
      "metadata": {
        "id": "BN-fA3BUOo7Y"
      },
      "outputs": [],
      "source": [
        "## fit model\n",
        "\n",
        "lgl = LogisticGroupLasso(\n",
        "    groups = groups,\n",
        "    group_reg = p1_opt,\n",
        "    l1_reg = 0.0,\n",
        "    scale_reg = \"inverse_group_size\",\n",
        "    subsampling_scheme = 1,\n",
        "    supress_warning = True)\n",
        "\n",
        "lgl.fit(X_train, y_train)"
      ]
    },
    {
      "cell_type": "markdown",
      "metadata": {
        "id": "KXLz4b3eXSCZ"
      },
      "source": [
        "## Model summary"
      ]
    },
    {
      "cell_type": "code",
      "execution_count": null,
      "metadata": {
        "id": "7tXnJcz1XQlv"
      },
      "outputs": [],
      "source": [
        "# get estimated coefficients\n",
        "coeffs_std = lgl.coef_[:, 1] - lgl.coef_[:, 0]\n",
        "\n",
        "# scale back to original scales\n",
        "# (scale w/ sd but don't add mean)\n",
        "scaler = StandardScaler(with_mean=False, with_std=True)\n",
        "scaler.fit(train_proc_1.drop(\"HeartDisease\", axis=1))\n",
        "\n",
        "coeffs_org = np.reshape(coeffs_std, (1,len(coeffs_std)))\n",
        "coeffs_org = scaler.transform(coeffs_org)\n",
        "coeffs_org = np.reshape(coeffs_org, coeffs_std.shape)\n",
        "\n",
        "# group norms\n",
        "group_norms = np.array([[np.nan]]*n_groups)\n",
        "for i in range(n_groups):\n",
        "  group_coeffs = coeffs_std[groups==i]\n",
        "  group_norms[i,:] = np.linalg.norm(group_coeffs, ord=1)\n",
        "group_norms = np.reshape(group_norms, (12,))\n",
        "\n",
        "# make pretty & plot\n",
        "group_norms = pd.DataFrame({\"Group Norm\": group_norms},\n",
        "                           index=group_names)\n",
        "coeffs_std = pd.DataFrame({\"Coeff's (std.)\": coeffs_std},\n",
        "                          index = ft_names)\n",
        "coeffs_org = pd.DataFrame({\"Coeff's (org.)\": coeffs_org},\n",
        "                          index = ft_names)\n",
        "group_norms = group_norms.sort_values(by=\"Group Norm\")\n",
        "coeffs_std = coeffs_std.sort_values(by=\"Coeff's (std.)\")\n",
        "coeffs_org = coeffs_org.sort_values(by=\"Coeff's (org.)\")\n",
        "\n",
        "group_norms.plot.barh()\n",
        "plt.title(\"Group Norms\")\n",
        "coeffs_std.plot.barh()\n",
        "plt.title(\"(Dummy) Variable Coefficients (standardized)\")\n",
        "coeffs_org.plot.barh()\n",
        "plt.title(\"(Dummy) Variable Coefficients (original scale)\")"
      ]
    },
    {
      "cell_type": "markdown",
      "metadata": {
        "id": "Okg2gDbS9MjJ"
      },
      "source": [
        "Group norms (of standardized coefficients) indicate (relative) **importance of variables**. In this case, *ST_Slope* and *ChestPain* offered the most predictive value for *HeartDisease*. After cross-validation, group lasso de-selected *RestingBP*, *Cholesterol*, *MaxHR*, and *RestingECG*, indicating that these offer no further predictive information about heart disease after accounting for the other variables.\n",
        "\n",
        "The standardized coefficient estimates allow us to compare the **importance of specific categories**. For example, *ChestPain = \"ATA\"* and *ST_Slope = \"Up\"* seem to be strongly associated with heart disease than e.g. *ChestPain = \"TA\"* or *ST_Slope = \"Down\"*. We also find evidence that whether *Cholesterol* was 0 originally had predictive value for heart disease.\n",
        "\n",
        "The original coefficient estimates allow us to infer the association between risk of heart disease and the variables in the *intuitive scales*. For example, we would expect the log-odds of *HeartDisease* to increase by $\\approx 1.0$ for every additional year of age. Note that coefficients of dummy variables need to be interpreted *relative* to the other dummies. For example, *ST_Slope = \"Flat\"* increases the log-odds of *HeartDisease* by $\\approx 0.3$, while *ST_Slope = \"Up\"* *decreases* it by $\\approx 0.3$, and hence the log-odds of a patient with *ST_Slope = \"Flat\"* are about 0.6 higher than those of a patient with *ST_Slope = \"Up\"*.\n",
        "\n",
        "We note that Lasso only selects variables relevant for prediction, and there is no guarantee of it identifying the *causal* variables. In our case, for example, although the estimate for *ST_Slope = \"Up\"* is significant, we saw above that it is significantly correlated with *ExerciseAngina*, and hence the latter might explain *HeartDisease* nearly as well."
      ]
    },
    {
      "cell_type": "markdown",
      "metadata": {
        "id": "Et9LFzxh2xTi"
      },
      "source": []
    },
    {
      "cell_type": "markdown",
      "metadata": {
        "id": "QWP-qpsNW7Pn"
      },
      "source": [
        "### Model performance"
      ]
    },
    {
      "cell_type": "code",
      "execution_count": 20,
      "metadata": {
        "id": "tWGxMiSaXrwe"
      },
      "outputs": [],
      "source": [
        "## get predicted probabilities and labels of HeartDisease\n",
        "\n",
        "y_pred_prob = lgl.predict_proba(X_test)[:,1]\n",
        "y_pred = lgl.predict(X_test)"
      ]
    },
    {
      "cell_type": "code",
      "execution_count": null,
      "metadata": {
        "id": "TFy-ZHDIXACf"
      },
      "outputs": [],
      "source": [
        "from sklearn.metrics import classification_report\n",
        "from sklearn.metrics import confusion_matrix\n",
        "from sklearn.metrics import RocCurveDisplay\n",
        "\n",
        "# precision, recall, f1, ...\n",
        "print(classification_report(y_true = y_test,\n",
        "                            y_pred = y_pred,\n",
        "                            target_names=[\"HD=0\", \"HD=1\"]))\n",
        "\n",
        "# confusion matrix\n",
        "conf_mat = confusion_matrix(y_true=y_test, y_pred=y_pred)\n",
        "sns.heatmap(conf_mat, annot=True)\n",
        "plt.xlabel(\"Pred. Label\")\n",
        "plt.ylabel(\"True Label\")\n",
        "\n",
        "# ROC curve\n",
        "RocCurveDisplay.from_predictions(\n",
        "    y_true = y_test,\n",
        "    y_pred = y_pred_prob,\n",
        "    color = \"darkorange\",)\n",
        "plt.plot([0, 1], [0, 1], \"k--\")\n",
        "plt.xlabel(\"False Positive Rate\")\n",
        "plt.ylabel(\"True Positive Rate\")"
      ]
    },
    {
      "cell_type": "markdown",
      "metadata": {
        "id": "9z8hmybo5NLF"
      },
      "source": [
        "Our logistic regression classifier for heart disease prediction with group lasso regularization achieved an overall accuracy of 83%. Precision is 83% and recall/sensitivity is 90%, yielding an F1-score of 86%, while specificity is 73%. The AUC of the classifier is 0.90, which is well above the uninformed level of 0.50."
      ]
    },
    {
      "cell_type": "markdown",
      "metadata": {
        "id": "UcpPehUV9C2m"
      },
      "source": [
        "## **Q3: Decision Tree**"
      ]
    },
    {
      "cell_type": "markdown",
      "source": [
        "For the remaining models, we do not need standardized features."
      ],
      "metadata": {
        "id": "w20YJwGvvcE0"
      }
    },
    {
      "cell_type": "code",
      "source": [
        "# copy df\n",
        "train_proc_3 = train_proc_1.copy()\n",
        "test_proc_3 = test_proc_1.copy()\n",
        "\n",
        "dummy_var_names = train_proc_3.columns.tolist()\n",
        "\n",
        "imputer = SimpleImputer(strategy=\"mean\")\n",
        "\n",
        "# impute missing values\n",
        "train_proc_3 = imputer.fit_transform(train_proc_3)\n",
        "test_proc_3 = imputer.transform(test_proc_3)\n",
        "\n",
        "# put back to pandas\n",
        "train_proc_3 = pd.DataFrame(train_proc_3, columns=dummy_var_names)\n",
        "test_proc_3 = pd.DataFrame(test_proc_3, columns=dummy_var_names)\n",
        "\n",
        "# make HeartDisease integer\n",
        "train_proc_3[\"HeartDisease\"] = train_proc_3[\"HeartDisease\"].astype(\"int64\")\n",
        "test_proc_3[\"HeartDisease\"] = test_proc_3[\"HeartDisease\"].astype(\"int64\")"
      ],
      "metadata": {
        "id": "CfZrNa9gvbrr"
      },
      "execution_count": 15,
      "outputs": []
    },
    {
      "cell_type": "code",
      "source": [
        "X_train = train_proc_3.drop(\"HeartDisease\", axis=1)\n",
        "X_test = test_proc_3.drop(\"HeartDisease\", axis=1)\n",
        "\n",
        "y_train = train_proc_3[\"HeartDisease\"]\n",
        "y_test = test_proc_3[\"HeartDisease\"]"
      ],
      "metadata": {
        "id": "Oe0YSH4vw1WB"
      },
      "execution_count": 16,
      "outputs": []
    },
    {
      "cell_type": "code",
      "execution_count": 17,
      "metadata": {
        "id": "Aj02GtvGM1-E"
      },
      "outputs": [],
      "source": [
        "from sklearn.tree import DecisionTreeClassifier\n",
        "from sklearn.model_selection import GridSearchCV\n",
        "\n",
        "tree = DecisionTreeClassifier(criterion=\"gini\",\n",
        "                                random_state=1)\n",
        "\n",
        "grid = {\"max_depth\": np.arange(1,8),\n",
        "        \"min_samples_leaf\": 2**np.arange(0,7)\n",
        "        }\n",
        "\n",
        "cv = GridSearchCV(estimator=tree, param_grid=grid, scoring=\"f1\", cv=5)\n",
        "cv.fit(X_train, y_train)\n",
        "\n",
        "opt_tree = cv.best_estimator_"
      ]
    },
    {
      "cell_type": "code",
      "execution_count": null,
      "metadata": {
        "id": "4TPidY_htqxO"
      },
      "outputs": [],
      "source": [
        "print(\"Max depth: \", opt_tree.max_depth)\n",
        "print(\"Min Samples per leaf: \", opt_tree.min_samples_leaf)"
      ]
    },
    {
      "cell_type": "code",
      "execution_count": null,
      "metadata": {
        "id": "4JYQ_amkODgy"
      },
      "outputs": [],
      "source": [
        "## feature importances\n",
        "\n",
        "ft_importances = pd.DataFrame({\"Importance\": opt_tree.feature_importances_},\n",
        "                              index = ft_names)\n",
        "\n",
        "ft_importances = ft_importances.sort_values(by=\"Importance\")\n",
        "ft_importances = ft_importances.round(2)\n",
        "ft_importances.plot.barh()\n",
        "plt.title(\"Feature Importance Scores (Gini): Decision Tree\")"
      ]
    },
    {
      "cell_type": "code",
      "execution_count": null,
      "metadata": {
        "id": "UDX_GX7z9MKe"
      },
      "outputs": [],
      "source": [
        "## inspect tree structure\n",
        "from sklearn.tree import plot_tree\n",
        "\n",
        "plt.figure(figsize=(20, 20))\n",
        "plot_tree(opt_tree, feature_names=ft_names, class_names=[\"HD=0\", \"HD=1\"],\n",
        "          rounded=True, filled=True)"
      ]
    },
    {
      "cell_type": "markdown",
      "metadata": {
        "id": "G2CyD7SXARp3"
      },
      "source": [
        "Similar to the case of Lasso, the automatic feature selection of decision trees becomes arbitrary if two or more features are highly correlated."
      ]
    },
    {
      "cell_type": "markdown",
      "metadata": {
        "id": "3KbxIv-d7WXV"
      },
      "source": [
        "### Model performance"
      ]
    },
    {
      "cell_type": "code",
      "execution_count": 28,
      "metadata": {
        "id": "qJAZhGdr5en0"
      },
      "outputs": [],
      "source": [
        "y_pred_prob = opt_tree.predict_proba(X_test)[:,1]\n",
        "y_pred = opt_tree.predict(X_test)"
      ]
    },
    {
      "cell_type": "code",
      "execution_count": null,
      "metadata": {
        "id": "1NipuJS77d_w"
      },
      "outputs": [],
      "source": [
        "# precision, recall, f1, ...\n",
        "print(classification_report(y_true = y_test,\n",
        "                            y_pred = y_pred,\n",
        "                            target_names=[\"HD=0\", \"HD=1\"]))\n",
        "\n",
        "# Export to latex\n",
        "report = classification_report(y_true = y_test,\n",
        "                            y_pred = y_pred,\n",
        "                            target_names=[\"HD=0\", \"HD=1\"], output_dict=True)\n",
        "#report_df = pd.DataFrame(report).transpose()\n",
        "#report_df.to_latex(\"tables/tree_report.tex\")\n",
        "\n",
        "\n",
        "# confusion matrix\n",
        "conf_mat = confusion_matrix(y_true=y_test, y_pred=y_pred)\n",
        "sns.heatmap(conf_mat, annot=True)\n",
        "plt.xlabel(\"Pred. Label\")\n",
        "plt.ylabel(\"True Label\")\n",
        "\n",
        "# ROC curve\n",
        "RocCurveDisplay.from_predictions(\n",
        "    y_true = y_test,\n",
        "    y_pred = y_pred_prob,\n",
        "    color = \"darkorange\",)\n",
        "plt.plot([0, 1], [0, 1], \"k--\")\n",
        "plt.xlabel(\"False Positive Rate\")\n",
        "plt.ylabel(\"True Positive Rate\")"
      ]
    },
    {
      "cell_type": "markdown",
      "metadata": {
        "id": "MA-O1LtyFlbn"
      },
      "source": [
        "Overall, the decision tree only performs slightly worse than group lasso, despite it arguably being significantly more restricted (piecewise constant decision boundaries vs linear; 7 features used vs 16)."
      ]
    },
    {
      "cell_type": "markdown",
      "metadata": {
        "id": "_8IREf2okywU"
      },
      "source": [
        "# **Q4: Multilayer Perception**"
      ]
    },
    {
      "cell_type": "code",
      "execution_count": 19,
      "metadata": {
        "id": "vrtvBj7fk8WI"
      },
      "outputs": [],
      "source": [
        "import torch\n",
        "import torch.nn as nn\n",
        "import torch.nn.functional as F\n",
        "import torch.optim as optim\n",
        "from torch.utils.data import Dataset, DataLoader\n",
        "from tqdm import tqdm, trange"
      ]
    },
    {
      "cell_type": "code",
      "execution_count": 31,
      "metadata": {
        "id": "iF2o0jIYlAVK"
      },
      "outputs": [],
      "source": [
        "#Device\n",
        "device = torch.device(\"cuda\" if torch.cuda.is_available() else \"cpu\")\n",
        "\n",
        "# Defining Dataset\n",
        "class HeartDiseaseDataset(Dataset):\n",
        "    def __init__(self, X, y):\n",
        "        self.X = X\n",
        "        self.y = y\n",
        "\n",
        "    def __len__(self):\n",
        "        return len(self.y)\n",
        "\n",
        "    def __getitem__(self, idx):\n",
        "        return self.X[idx], self.y[idx]\n",
        "\n",
        "# Defining Model\n",
        "class HeartDiseaseModel(nn.Module):\n",
        "    def __init__(self, input_size, hidden_size, output_size):\n",
        "        super().__init__()\n",
        "        self.fc1 = nn.Linear(input_size, hidden_size)\n",
        "        self.fc2 = nn.Linear(hidden_size, hidden_size)\n",
        "        self.fc3 = nn.Linear(hidden_size, output_size)\n",
        "        self.sm = nn.Sigmoid()\n",
        "\n",
        "    def forward(self, x):\n",
        "        x = F.relu(self.fc1(x))\n",
        "        x = F.relu(self.fc2(x))\n",
        "        x = self.fc3(x)\n",
        "        x = self.sm(x)\n",
        "        return x"
      ]
    },
    {
      "cell_type": "code",
      "execution_count": 32,
      "metadata": {
        "id": "9vk2sfqvlDhk"
      },
      "outputs": [],
      "source": [
        "# Defining Hyperparameters\n",
        "input_size = X_train.shape[1]\n",
        "hidden_size = 10\n",
        "output_size = 1\n",
        "batch_size = 32\n",
        "num_epochs = 100\n",
        "\n",
        "# Defining Dataloader\n",
        "X = torch.tensor(X_train.values, dtype=torch.float)\n",
        "y = torch.tensor(y_train.values, dtype=torch.float)\n",
        "y = y.reshape(-1, 1)\n",
        "\n",
        "dataset = HeartDiseaseDataset(X, y)\n",
        "dataloader = DataLoader(dataset, batch_size=batch_size, shuffle=True)\n",
        "\n",
        "# Defining Model\n",
        "model = HeartDiseaseModel(input_size, hidden_size, output_size)"
      ]
    },
    {
      "cell_type": "code",
      "execution_count": null,
      "metadata": {
        "id": "Qkau1R4HljNz"
      },
      "outputs": [],
      "source": [
        "# Defining Loss Function and Optimizer\n",
        "criterion = nn.BCELoss()\n",
        "optimizer = optim.Adam(model.parameters())\n",
        "\n",
        "# Training\n",
        "model.train()\n",
        "for epoch in range(num_epochs+1):\n",
        "  for batch_idx, (data, targets) in enumerate(dataloader):\n",
        "    # Get data to cuda if possible\n",
        "    data = data.to(device)\n",
        "    targets = targets.to(device)\n",
        "\n",
        "    # forward\n",
        "    scores = model(data)\n",
        "    loss = criterion(scores, targets)\n",
        "\n",
        "    # backward\n",
        "    optimizer.zero_grad()\n",
        "    loss.backward()\n",
        "\n",
        "    # gradient descent or adam step\n",
        "    optimizer.step()\n",
        "\n",
        "  if epoch % 10 == 0:\n",
        "    y_pred = model(X)\n",
        "    acc = np.mean(np.round(y_pred.detach().numpy())==y.detach().numpy())\n",
        "    print(\"Ep.\", epoch, \"; Train Acc =\", np.round(100*acc, 1), \"%\")"
      ]
    },
    {
      "cell_type": "markdown",
      "metadata": {
        "id": "-ydXdvY9lI6R"
      },
      "source": [
        "## Model Performance"
      ]
    },
    {
      "cell_type": "code",
      "execution_count": null,
      "metadata": {
        "id": "AEGIAqC-lK_H"
      },
      "outputs": [],
      "source": [
        "# Predicting\n",
        "y_pred_prob = model(torch.tensor(X_test.values, dtype=torch.float)).detach().numpy()\n",
        "y_pred = np.round(y_pred_prob)\n",
        "\n",
        "# precision, recall, f1, ...\n",
        "print(classification_report(y_true = y_test,\n",
        "                            y_pred = y_pred,\n",
        "                            target_names=[\"HD=0\", \"HD=1\"]))\n",
        "\n",
        "# confusion matrix\n",
        "conf_mat = confusion_matrix(y_true=y_test, y_pred=y_pred)\n",
        "sns.heatmap(conf_mat, annot=True)\n",
        "plt.xlabel(\"Pred. Label\")\n",
        "plt.ylabel(\"True Label\")\n",
        "\n",
        "# ROC curve\n",
        "RocCurveDisplay.from_predictions(\n",
        "    y_true = y_test,\n",
        "    y_pred = y_pred_prob,\n",
        "    color = \"darkorange\",)\n",
        "plt.plot([0, 1], [0, 1], \"k--\")\n",
        "plt.xlabel(\"False Positive Rate\")\n",
        "plt.ylabel(\"True Positive Rate\")"
      ]
    },
    {
      "cell_type": "markdown",
      "metadata": {
        "id": "7sFjLxDHtqxR"
      },
      "source": [
        "#### Notes on the SHAP library and SHAP Values\n",
        "\n",
        "- The calculation of the shap values is based on Monte Carlo sampling. You have to provide a \"background dataset\" from which the algorithm can take a random subsample to fill in the missing values that are not used in your coalition.\n",
        "- The calculation works as follows: for a point x and feature of interest j do M iterations of\n",
        "    1. Choose a random subset of features you want to have for coalition (in practice you can do this by random permutation of feature, then taking all features before j as fixed, replace the others)\n",
        "\t2. Randomly sample a datapoint z from the provided background dataset\n",
        "\t3. Replace all feature value in x that are not in coalition with values from z. \n",
        "\t4. j+ the jth value from x, j- has value of j-th feature from z. $\\phi^m_j = \\hat{f}(x_{j+}) - \\hat{f}(x_{j-})$ is unbiased estimator of shapley value of j the \"additional contribution\" of j-th feature.\n",
        "    6. Repeat this M times to get an estimate of shapley value. $\\phi_j = \\frac{1}{M} \\sum_{i=1}^M \\phi^m_j$\n",
        "\n",
        "- The input is a bit weird. You have to read in the docs (https://shap-lrjball.readthedocs.io/en/latest/generated/shap.DeepExplainer.html) what it expects. I went with the DeepExplainer because it was built for pytorch/tensorflow models and was faster than the standard KernelExplainer. Also the docsite is not that good, not every API reference is linked so for newer ones like DeepKernel need to search in Google. But DeepExplainer has some weird bug as it does not give you the same output you get from your model, this post here explained the issue: https://github.com/slundberg/shap/issues/1678\n",
        "\n",
        "\n",
        "#### Notes on Plots:\n",
        "\n",
        "- To make the plots readable I had to construct another \"classifier\" that outputs the probability, because output of shap with DeepKernel is just model output, which was logit for us. If you use others like Tree Based stuff you can specify probability. So basically with this \"probability classifier\" we get the average shap values for the probabilities not the logits. \n",
        "\n",
        "- The plots take an \"expected value\" as reference. This is basically how the outcome of a prediction is changed from the expected outcome because of a specific feature input. We get an expected value for each output of our model, which is 2 in our case (because two classes). This provides a good sanity check because the plots for class 0 and 1 should be \"reversed\" in some sense.\n",
        "\n",
        "- To get a better sense of what a feature does I chose a test case that was not as clearly classified to one class.\n"
      ]
    },
    {
      "cell_type": "code",
      "execution_count": null,
      "metadata": {
        "id": "WDRuH6AatqxR"
      },
      "outputs": [],
      "source": [
        "import shap\n",
        "# Shap Values\n",
        "\n",
        "# Model\n",
        "#f = lambda x: F.softmax(mlp(torch.from_numpy(x).float().to(device)), dim = 1).detach().numpy()\n",
        "f = lambda x: model(torch.from_numpy(x).float()).detach().numpy()\n",
        "\n",
        "# Explainer\n",
        "explainer = shap.KernelExplainer(model, X_train[:100])\n",
        "shap_values = explainer.shap_values(X_test.values[:100])"
      ]
    },
    {
      "cell_type": "code",
      "execution_count": null,
      "metadata": {
        "id": "zV0BKCfytqxS",
        "outputId": "76cb0510-235d-4b1f-f583-9e3304a06bf2"
      },
      "outputs": [
        {
          "name": "stdout",
          "output_type": "stream",
          "text": [
            "Expected Values:  [0.46784327 0.53215672]\n"
          ]
        }
      ],
      "source": [
        "# Expected Values (= Base Probabilities of classes 0 and 1)\n",
        "print(\"Expected Values: \", explainer.expected_value)"
      ]
    },
    {
      "cell_type": "code",
      "execution_count": null,
      "metadata": {
        "id": "e39Y7ZcLtqxS"
      },
      "outputs": [],
      "source": [
        "# Prediction for obs 0\n",
        "logs_0 = mlp(torch.from_numpy(X_val[0].reshape(1, -1)).float().to(device))\n",
        "probs_0 = F.softmax(logs_0, dim = 1)\n",
        "print(\"Prediction for obs 0: \", probs_0)\n",
        "print(\"Actual for obs 0: \", y_val[0])\n",
        "\n",
        "# Plotting individual Shap Values of obs 0 class 0\n",
        "shap.initjs()\n",
        "shap.force_plot(explainer.expected_value[0], shap_values[0][0], X_val[0], link=\"identity\", feature_names=preprocessor.get_feature_names_out())\n",
        "\n"
      ]
    },
    {
      "cell_type": "code",
      "execution_count": null,
      "metadata": {
        "id": "xw6hNo78tqxS"
      },
      "outputs": [],
      "source": [
        "# Plotting individual Shap Values of obs 0 class 1\n",
        "shap.initjs()\n",
        "shap.force_plot(explainer.expected_value[1], shap_values[1][0], X_val[0], link=\"identity\", feature_names=preprocessor.get_feature_names_out())"
      ]
    },
    {
      "cell_type": "code",
      "execution_count": null,
      "metadata": {
        "id": "KYQwX66atqxS"
      },
      "outputs": [],
      "source": [
        "# Plotting Shap Values for class 1 for first 100 obs (calculation of values takes a long time)\n",
        "shap.summary_plot(shap_values[1], X_val[:100], feature_names=preprocessor.get_feature_names_out())"
      ]
    },
    {
      "cell_type": "markdown",
      "metadata": {
        "id": "1WfduA3ntqxT"
      },
      "source": [
        "### Interpretation\n",
        "\n",
        "From the expected value of the class (averaged probability of belonging to that class) we see how each feature of an observation contributes to the end prediction in PLot 1. For example for the first observation it seems that the feature cat_ST_Slope_Up = 1 drove the probability for class 1 down, and for class 0 up. This is also reflected in the second summary plot, where we see that over all observations for which we calculated shapley values (first 100) the feature cat_ST_Slope_Up = 1 drove the prediction of class 1 down and the feature cat_ST_Slope_Up = 0 drove the prediction of class 1 up.\n",
        "\n",
        "These things are line with the tree and LASSO fit we have produced earlier. As we have given the shap values to explain probabilites this could be a problem in NNs that are not well calibrated. So we'll display a calibration plot."
      ]
    },
    {
      "cell_type": "code",
      "execution_count": null,
      "metadata": {
        "id": "r4EQZjiNtqxT"
      },
      "outputs": [],
      "source": [
        "# Most uncertain instance\n",
        "logits = mlp(torch.from_numpy(X_val).float().to(device))\n",
        "probs = F.softmax(logits, dim=1)\n",
        "\n",
        "# Minimum index\n",
        "uncertain_case = torch.argmin(abs(probs[:, 0] - probs[:, 1]))\n",
        "\n",
        "# Plotting Shap Values for uncertain instance\n",
        "shap.force_plot(explainer.expected_value[1], shap_values[1][uncertain_case], X_val[uncertain_case], link=\"identity\", feature_names=preprocessor.get_feature_names_out())"
      ]
    },
    {
      "cell_type": "code",
      "execution_count": null,
      "metadata": {
        "id": "y88sb_jEtqxT"
      },
      "outputs": [],
      "source": [
        "# Plots for calibration: https://github.com/hollance/reliability-diagrams/blob/master/reliability_diagrams.py\n",
        "import os\n",
        "import numpy as np\n",
        "import matplotlib.pyplot as plt\n",
        "\n",
        "\n",
        "def compute_calibration(true_labels, pred_labels, confidences, num_bins=10):\n",
        "    \"\"\"Collects predictions into bins used to draw a reliability diagram.\n",
        "\n",
        "    Arguments:\n",
        "        true_labels: the true labels for the test examples\n",
        "        pred_labels: the predicted labels for the test examples\n",
        "        confidences: the predicted confidences for the test examples\n",
        "        num_bins: number of bins\n",
        "\n",
        "    The true_labels, pred_labels, confidences arguments must be NumPy arrays;\n",
        "    pred_labels and true_labels may contain numeric or string labels.\n",
        "\n",
        "    For a multi-class model, the predicted label and confidence should be those\n",
        "    of the highest scoring class.\n",
        "\n",
        "    Returns a dictionary containing the following NumPy arrays:\n",
        "        accuracies: the average accuracy for each bin\n",
        "        confidences: the average confidence for each bin\n",
        "        counts: the number of examples in each bin\n",
        "        bins: the confidence thresholds for each bin\n",
        "        avg_accuracy: the accuracy over the entire test set\n",
        "        avg_confidence: the average confidence over the entire test set\n",
        "        expected_calibration_error: a weighted average of all calibration gaps\n",
        "        max_calibration_error: the largest calibration gap across all bins\n",
        "    \"\"\"\n",
        "    assert(len(confidences) == len(pred_labels))\n",
        "    assert(len(confidences) == len(true_labels))\n",
        "    assert(num_bins > 0)\n",
        "\n",
        "    bin_size = 1.0 / num_bins\n",
        "    bins = np.linspace(0.0, 1.0, num_bins + 1)\n",
        "    indices = np.digitize(confidences, bins, right=True)\n",
        "\n",
        "    bin_accuracies = np.zeros(num_bins, dtype=np.float)\n",
        "    bin_confidences = np.zeros(num_bins, dtype=np.float)\n",
        "    bin_counts = np.zeros(num_bins, dtype=np.int)\n",
        "\n",
        "    for b in range(num_bins):\n",
        "        selected = np.where(indices == b + 1)[0]\n",
        "        if len(selected) > 0:\n",
        "            bin_accuracies[b] = np.mean(true_labels[selected] == pred_labels[selected])\n",
        "            bin_confidences[b] = np.mean(confidences[selected])\n",
        "            bin_counts[b] = len(selected)\n",
        "\n",
        "    avg_acc = np.sum(bin_accuracies * bin_counts) / np.sum(bin_counts)\n",
        "    avg_conf = np.sum(bin_confidences * bin_counts) / np.sum(bin_counts)\n",
        "\n",
        "    gaps = np.abs(bin_accuracies - bin_confidences)\n",
        "    ece = np.sum(gaps * bin_counts) / np.sum(bin_counts)\n",
        "    mce = np.max(gaps)\n",
        "\n",
        "    return { \"accuracies\": bin_accuracies, \n",
        "             \"confidences\": bin_confidences, \n",
        "             \"counts\": bin_counts, \n",
        "             \"bins\": bins,\n",
        "             \"avg_accuracy\": avg_acc,\n",
        "             \"avg_confidence\": avg_conf,\n",
        "             \"expected_calibration_error\": ece,\n",
        "             \"max_calibration_error\": mce }\n",
        "\n",
        "\n",
        "def _reliability_diagram_subplot(ax, bin_data, \n",
        "                                 draw_ece=True, \n",
        "                                 draw_bin_importance=False,\n",
        "                                 title=\"Reliability Diagram\", \n",
        "                                 xlabel=\"Confidence\", \n",
        "                                 ylabel=\"Expected Accuracy\"):\n",
        "    \"\"\"Draws a reliability diagram into a subplot.\"\"\"\n",
        "    accuracies = bin_data[\"accuracies\"]\n",
        "    confidences = bin_data[\"confidences\"]\n",
        "    counts = bin_data[\"counts\"]\n",
        "    bins = bin_data[\"bins\"]\n",
        "\n",
        "    bin_size = 1.0 / len(counts)\n",
        "    positions = bins[:-1] + bin_size/2.0\n",
        "\n",
        "    widths = bin_size\n",
        "    alphas = 0.3\n",
        "    min_count = np.min(counts)\n",
        "    max_count = np.max(counts)\n",
        "    normalized_counts = (counts - min_count) / (max_count - min_count)\n",
        "\n",
        "    if draw_bin_importance == \"alpha\":\n",
        "        alphas = 0.2 + 0.8*normalized_counts\n",
        "    elif draw_bin_importance == \"width\":\n",
        "        widths = 0.1*bin_size + 0.9*bin_size*normalized_counts\n",
        "\n",
        "    colors = np.zeros((len(counts), 4))\n",
        "    colors[:, 0] = 240 / 255.\n",
        "    colors[:, 1] = 60 / 255.\n",
        "    colors[:, 2] = 60 / 255.\n",
        "    colors[:, 3] = alphas\n",
        "\n",
        "    gap_plt = ax.bar(positions, np.abs(accuracies - confidences), \n",
        "                     bottom=np.minimum(accuracies, confidences), width=widths,\n",
        "                     edgecolor=colors, color=colors, linewidth=1, label=\"Gap\")\n",
        "\n",
        "    acc_plt = ax.bar(positions, 0, bottom=accuracies, width=widths,\n",
        "                     edgecolor=\"black\", color=\"black\", alpha=1.0, linewidth=3,\n",
        "                     label=\"Accuracy\")\n",
        "\n",
        "    ax.set_aspect(\"equal\")\n",
        "    ax.plot([0,1], [0,1], linestyle = \"--\", color=\"gray\")\n",
        "    \n",
        "    if draw_ece:\n",
        "        ece = (bin_data[\"expected_calibration_error\"] * 100)\n",
        "        ax.text(0.98, 0.02, \"ECE=%.2f\" % ece, color=\"black\", \n",
        "                ha=\"right\", va=\"bottom\", transform=ax.transAxes)\n",
        "\n",
        "    ax.set_xlim(0, 1)\n",
        "    ax.set_ylim(0, 1)\n",
        "    #ax.set_xticks(bins)\n",
        "\n",
        "    ax.set_title(title)\n",
        "    ax.set_xlabel(xlabel)\n",
        "    ax.set_ylabel(ylabel)\n",
        "\n",
        "    ax.legend(handles=[gap_plt, acc_plt])\n",
        "\n",
        "\n",
        "def _confidence_histogram_subplot(ax, bin_data, \n",
        "                                  draw_averages=True,\n",
        "                                  title=\"Examples per bin\", \n",
        "                                  xlabel=\"Confidence\",\n",
        "                                  ylabel=\"Count\"):\n",
        "    \"\"\"Draws a confidence histogram into a subplot.\"\"\"\n",
        "    counts = bin_data[\"counts\"]\n",
        "    bins = bin_data[\"bins\"]\n",
        "\n",
        "    bin_size = 1.0 / len(counts)\n",
        "    positions = bins[:-1] + bin_size/2.0\n",
        "\n",
        "    ax.bar(positions, counts, width=bin_size * 0.9)\n",
        "   \n",
        "    ax.set_xlim(0, 1)\n",
        "    ax.set_title(title)\n",
        "    ax.set_xlabel(xlabel)\n",
        "    ax.set_ylabel(ylabel)\n",
        "\n",
        "    if draw_averages:\n",
        "        acc_plt = ax.axvline(x=bin_data[\"avg_accuracy\"], ls=\"solid\", lw=3, \n",
        "                             c=\"black\", label=\"Accuracy\")\n",
        "        conf_plt = ax.axvline(x=bin_data[\"avg_confidence\"], ls=\"dotted\", lw=3, \n",
        "                              c=\"#444\", label=\"Avg. confidence\")\n",
        "        ax.legend(handles=[acc_plt, conf_plt])\n",
        "\n",
        "\n",
        "def _reliability_diagram_combined(bin_data, \n",
        "                                  draw_ece, draw_bin_importance, draw_averages, \n",
        "                                  title, figsize, dpi, return_fig):\n",
        "    \"\"\"Draws a reliability diagram and confidence histogram using the output\n",
        "    from compute_calibration().\"\"\"\n",
        "    figsize = (figsize[0], figsize[0] * 1.4)\n",
        "\n",
        "    fig, ax = plt.subplots(nrows=2, ncols=1, sharex=True, figsize=figsize, dpi=dpi, \n",
        "                           gridspec_kw={\"height_ratios\": [4, 1]})\n",
        "\n",
        "    plt.tight_layout()\n",
        "    plt.subplots_adjust(hspace=-0.1)\n",
        "\n",
        "    _reliability_diagram_subplot(ax[0], bin_data, draw_ece, draw_bin_importance, \n",
        "                                 title=title, xlabel=\"\")\n",
        "\n",
        "    # Draw the confidence histogram upside down.\n",
        "    orig_counts = bin_data[\"counts\"]\n",
        "    bin_data[\"counts\"] = -bin_data[\"counts\"]\n",
        "    _confidence_histogram_subplot(ax[1], bin_data, draw_averages, title=\"\")\n",
        "    bin_data[\"counts\"] = orig_counts\n",
        "\n",
        "    # Also negate the ticks for the upside-down histogram.\n",
        "    new_ticks = np.abs(ax[1].get_yticks()).astype(np.int)\n",
        "    ax[1].set_yticklabels(new_ticks)    \n",
        "\n",
        "    plt.show()\n",
        "\n",
        "    if return_fig: return fig\n",
        "\n",
        "\n",
        "def reliability_diagram(true_labels, pred_labels, confidences, num_bins=10,\n",
        "                        draw_ece=True, draw_bin_importance=False, \n",
        "                        draw_averages=True, title=\"Reliability Diagram\", \n",
        "                        figsize=(6, 6), dpi=72, return_fig=False):\n",
        "    \"\"\"Draws a reliability diagram and confidence histogram in a single plot.\n",
        "    \n",
        "    First, the model's predictions are divided up into bins based on their\n",
        "    confidence scores.\n",
        "\n",
        "    The reliability diagram shows the gap between average accuracy and average \n",
        "    confidence in each bin. These are the red bars.\n",
        "\n",
        "    The black line is the accuracy, the other end of the bar is the confidence.\n",
        "\n",
        "    Ideally, there is no gap and the black line is on the dotted diagonal.\n",
        "    In that case, the model is properly calibrated and we can interpret the\n",
        "    confidence scores as probabilities.\n",
        "\n",
        "    The confidence histogram visualizes how many examples are in each bin. \n",
        "    This is useful for judging how much each bin contributes to the calibration\n",
        "    error.\n",
        "\n",
        "    The confidence histogram also shows the overall accuracy and confidence. \n",
        "    The closer these two lines are together, the better the calibration.\n",
        "    \n",
        "    The ECE or Expected Calibration Error is a summary statistic that gives the\n",
        "    difference in expectation between confidence and accuracy. In other words,\n",
        "    it's a weighted average of the gaps across all bins. A lower ECE is better.\n",
        "\n",
        "    Arguments:\n",
        "        true_labels: the true labels for the test examples\n",
        "        pred_labels: the predicted labels for the test examples\n",
        "        confidences: the predicted confidences for the test examples\n",
        "        num_bins: number of bins\n",
        "        draw_ece: whether to include the Expected Calibration Error\n",
        "        draw_bin_importance: whether to represent how much each bin contributes\n",
        "            to the total accuracy: False, \"alpha\", \"widths\"\n",
        "        draw_averages: whether to draw the overall accuracy and confidence in\n",
        "            the confidence histogram\n",
        "        title: optional title for the plot\n",
        "        figsize: setting for matplotlib; height is ignored\n",
        "        dpi: setting for matplotlib\n",
        "        return_fig: if True, returns the matplotlib Figure object\n",
        "    \"\"\"\n",
        "    bin_data = compute_calibration(true_labels, pred_labels, confidences, num_bins)\n",
        "    return _reliability_diagram_combined(bin_data, draw_ece, draw_bin_importance,\n",
        "                                         draw_averages, title, figsize=figsize, \n",
        "                                         dpi=dpi, return_fig=return_fig)\n",
        "\n",
        "\n",
        "def reliability_diagrams(results, num_bins=10,\n",
        "                         draw_ece=True, draw_bin_importance=False, \n",
        "                         num_cols=4, dpi=72, return_fig=False):\n",
        "    \"\"\"Draws reliability diagrams for one or more models.\n",
        "    \n",
        "    Arguments:\n",
        "        results: dictionary where the key is the model name and the value is\n",
        "            a dictionary containing the true labels, predicated labels, and\n",
        "            confidences for this model\n",
        "        num_bins: number of bins\n",
        "        draw_ece: whether to include the Expected Calibration Error\n",
        "        draw_bin_importance: whether to represent how much each bin contributes\n",
        "            to the total accuracy: False, \"alpha\", \"widths\"\n",
        "        num_cols: how wide to make the plot\n",
        "        dpi: setting for matplotlib\n",
        "        return_fig: if True, returns the matplotlib Figure object\n",
        "    \"\"\"\n",
        "    ncols = num_cols\n",
        "    nrows = (len(results) + ncols - 1) // ncols\n",
        "    figsize = (ncols * 4, nrows * 4)\n",
        "\n",
        "    fig, ax = plt.subplots(nrows=nrows, ncols=ncols, sharex=True, sharey=True, \n",
        "                           figsize=figsize, dpi=dpi, constrained_layout=True)\n",
        "\n",
        "    for i, (plot_name, data) in enumerate(results.items()):\n",
        "        y_true = data[\"true_labels\"]\n",
        "        y_pred = data[\"pred_labels\"]\n",
        "        y_conf = data[\"confidences\"]\n",
        "        \n",
        "        bin_data = compute_calibration(y_true, y_pred, y_conf, num_bins)\n",
        "        \n",
        "        row = i // ncols\n",
        "        col = i % ncols\n",
        "        _reliability_diagram_subplot(ax[row, col], bin_data, draw_ece, \n",
        "                                     draw_bin_importance, \n",
        "                                     title=\"\\n\".join(plot_name.split()),\n",
        "                                     xlabel=\"Confidence\" if row == nrows - 1 else \"\",\n",
        "                                     ylabel=\"Expected Accuracy\" if col == 0 else \"\")\n",
        "\n",
        "    for i in range(i + 1, nrows * ncols):\n",
        "        row = i // ncols\n",
        "        col = i % ncols        \n",
        "        ax[row, col].axis(\"off\")\n",
        "        \n",
        "    plt.show()\n",
        "\n",
        "    if return_fig: return fig"
      ]
    },
    {
      "cell_type": "code",
      "execution_count": null,
      "metadata": {
        "id": "L17gC44jtqxU"
      },
      "outputs": [],
      "source": [
        "# Plotting reliability of test set\n",
        "y_true = y_test\n",
        "# Predicting on Test Data\n",
        "mlp.eval()\n",
        "with torch.no_grad():\n",
        "    logits = mlp(torch.from_numpy(X_test).float().to(device))\n",
        "    y_conf = F.softmax(logits, dim=1).max(1)[0].numpy()\n",
        "    _, y_pred = logits.max(1)\n",
        "    y_pred = y_pred.cpu().numpy()\n",
        "reliability_diagram(y_true, y_pred, y_conf, num_bins=10, draw_ece=True,\n",
        "                          draw_bin_importance=\"alpha\", draw_averages=True,\n",
        "                          title=\"Reliability\", figsize=(6, 6), dpi=100, \n",
        "                          return_fig=True)"
      ]
    },
    {
      "cell_type": "markdown",
      "metadata": {
        "id": "jU5-ZHl0tqxV"
      },
      "source": [
        "Model might be a bit underconfident? But with the colors hard to tell atm."
      ]
    },
    {
      "cell_type": "markdown",
      "metadata": {
        "id": "tPRGhZhQJk9X"
      },
      "source": [
        "## **Challenge 1: Neural Additive Models**"
      ]
    },
    {
      "cell_type": "markdown",
      "metadata": {
        "id": "GSeub5DLKSko"
      },
      "source": [
        "The following was adapted from the following tutorial:\n",
        "\n",
        "https://towardsdatascience.com/interpretable-neural-networks-with-pytorch-76f1c31260fe"
      ]
    },
    {
      "cell_type": "markdown",
      "metadata": {
        "id": "zCDIUOyFzar_"
      },
      "source": [
        "***Step 1:*** we define a so called \"block layer\", which creates \"n_blocks\" different *unconnected* blocks. Since we want to keep all features fully separate, we intend to set *n_blocks* to the no. of features."
      ]
    },
    {
      "cell_type": "code",
      "execution_count": 20,
      "metadata": {
        "id": "5BHDmGql3dJX"
      },
      "outputs": [],
      "source": [
        "class BlockLinear(torch.nn.Module):\n",
        "    def __init__(self, n_blocks, in_features, out_features):\n",
        "        super().__init__()\n",
        "        self.n_blocks = n_blocks\n",
        "        self.in_features = in_features\n",
        "        self.out_features = out_features\n",
        "        self.block_weights = []\n",
        "        self.block_biases = []\n",
        "        for i in range(n_blocks):\n",
        "            block_weight = torch.Tensor(out_features, in_features)\n",
        "            block_weight = torch.nn.Parameter(block_weight)\n",
        "            torch.nn.init.kaiming_uniform_(block_weight)\n",
        "            self.register_parameter(\n",
        "                f'block_weight_{i}',\n",
        "                block_weight\n",
        "            )\n",
        "            self.block_weights.append(block_weight)\n",
        "            block_bias = torch.Tensor(out_features)\n",
        "            block_bias = torch.nn.Parameter(block_bias)\n",
        "            bound = 1 / math.sqrt(in_features)\n",
        "            torch.nn.init.uniform_(block_bias, -bound, bound)\n",
        "            self.register_parameter(\n",
        "                f'block_bias_{i}',\n",
        "                block_bias\n",
        "            )\n",
        "            self.block_biases.append(block_bias)\n",
        "\n",
        "    def forward(self, x):\n",
        "        block_size = x.size(1) // self.n_blocks\n",
        "        x_blocks = torch.split(\n",
        "            x,\n",
        "            split_size_or_sections=block_size,\n",
        "            dim=1\n",
        "        )\n",
        "        block_outputs = []\n",
        "        for block_id in range(self.n_blocks):\n",
        "            block_outputs.append(\n",
        "                x_blocks[block_id] @ self.block_weights[block_id].t() + self.block_biases[block_id]\n",
        "            )\n",
        "        return torch.cat(block_outputs, dim=1)"
      ]
    },
    {
      "cell_type": "markdown",
      "metadata": {
        "id": "KHLq2BQr0E8_"
      },
      "source": [
        "***Step 2:*** define model"
      ]
    },
    {
      "cell_type": "code",
      "execution_count": 21,
      "metadata": {
        "id": "7qC3VnsW3huH"
      },
      "outputs": [],
      "source": [
        "class Model(torch.nn.Module):\n",
        "    def __init__(self, width, p_drop):\n",
        "        super().__init__()\n",
        "        \n",
        "        self.features = torch.nn.Sequential(\n",
        "            BlockLinear(22, 1, width),\n",
        "            torch.nn.LeakyReLU(),\n",
        "            torch.nn.Dropout(p=p_drop),\n",
        "            BlockLinear(22, width, width),\n",
        "            torch.nn.LeakyReLU(),\n",
        "            torch.nn.Dropout(p=p_drop),\n",
        "            BlockLinear(22, width, 1),\n",
        "        )\n",
        "        \n",
        "        self.lr = torch.nn.Linear(22, 1)\n",
        "        self.sm = torch.nn.Sigmoid()\n",
        "        \n",
        "    def forward(self, x):\n",
        "        x = self.features(x)\n",
        "        x = self.lr(x)\n",
        "        x = self.sm(x)\n",
        "        return x"
      ]
    },
    {
      "cell_type": "markdown",
      "metadata": {
        "id": "hpIgMi8v0NGv"
      },
      "source": [
        "***Step 3:*** train the model"
      ]
    },
    {
      "cell_type": "code",
      "execution_count": 75,
      "metadata": {
        "id": "1rIkyMoD13Z4"
      },
      "outputs": [],
      "source": [
        "width = 5\n",
        "p_drop = 0.1\n",
        "\n",
        "model = Model(width, p_drop)"
      ]
    },
    {
      "cell_type": "code",
      "execution_count": 76,
      "metadata": {
        "id": "acNCRa123f7I"
      },
      "outputs": [],
      "source": [
        "X = torch.tensor(X_train.values, dtype=torch.float)\n",
        "y = torch.tensor(y_train.values, dtype=torch.float)\n",
        "y = y.reshape(-1, 1)"
      ]
    },
    {
      "cell_type": "code",
      "execution_count": 77,
      "metadata": {
        "id": "wSVxlkfd3kms",
        "colab": {
          "base_uri": "https://localhost:8080/"
        },
        "outputId": "6f53b92b-110a-429b-c191-6b52231e2ec8"
      },
      "outputs": [
        {
          "output_type": "stream",
          "name": "stdout",
          "text": [
            "Ep. 0 ; Train Acc = 53.7 %\n",
            "Ep. 100 ; Train Acc = 64.7 %\n",
            "Ep. 200 ; Train Acc = 85.0 %\n",
            "Ep. 300 ; Train Acc = 86.8 %\n",
            "Ep. 400 ; Train Acc = 86.0 %\n",
            "Ep. 500 ; Train Acc = 86.2 %\n",
            "Ep. 600 ; Train Acc = 86.6 %\n",
            "Ep. 700 ; Train Acc = 87.6 %\n",
            "Ep. 800 ; Train Acc = 86.9 %\n",
            "Ep. 900 ; Train Acc = 86.9 %\n",
            "Ep. 1000 ; Train Acc = 88.6 %\n"
          ]
        }
      ],
      "source": [
        "model.train()\n",
        "torch.manual_seed(0)\n",
        "\n",
        "optimizer = torch.optim.Adam(model.parameters())\n",
        "criterion = torch.nn.BCELoss()\n",
        "\n",
        "for i in range(1001):\n",
        "    optimizer.zero_grad()\n",
        "    y_pred = model(X)\n",
        "    loss = criterion(y_pred+1e-10, y)\n",
        "    loss.backward()\n",
        "    optimizer.step()\n",
        "    if i % 100 == 0:\n",
        "      acc = np.mean(np.round(y_pred.detach().numpy())==y.detach().numpy())\n",
        "      print(\"Ep.\", i, \"; Train Acc =\", np.round(100*acc, 1), \"%\")"
      ]
    },
    {
      "cell_type": "code",
      "execution_count": 48,
      "metadata": {
        "id": "7kg5NOD73mj9"
      },
      "outputs": [],
      "source": [
        "import matplotlib.pyplot as plt\n",
        "\n",
        "model.eval()\n",
        "\n",
        "cat_dummy_ft_names = [dummy_ft_names[i] for i in range(len(dummy_ft_names)) if dummy_ft_names[i] not in num_fts]\n",
        "\n",
        "if dummy_ft_names[0] in cat_dummy_ft_names:\n",
        "    X = torch.linspace(0, 1, 100).reshape(-1, 1)\n",
        "else:\n",
        "  ft_mean = X_train.mean()\n",
        "  ft_sd = X_train.std()[0]\n",
        "  X = torch.linspace(ft_mean-3*ft_sd, ft_mean+3*ft_sd, 100).reshape(-1, 1)\n",
        "\n",
        "for i in range(1, len(dummy_ft_names)):\n",
        "  if dummy_ft_names[i] in cat_dummy_ft_names:\n",
        "    x = torch.linspace(0, 1, 100).reshape(-1, 1)\n",
        "  else:\n",
        "    ft_mean = X_train.mean()[i]\n",
        "    ft_sd = X_train.std()[i]\n",
        "    x = torch.linspace(ft_mean-3*ft_sd, ft_mean+3*ft_sd, 100).reshape(-1, 1)\n",
        "  \n",
        "  X = torch.hstack([X, x])\n",
        "\n",
        "for i in range(len(dummy_ft_names)):\n",
        "  plt.plot(\n",
        "      X[:, i].detach().numpy(),\n",
        "      model.get_submodule('lr').weight[0][i].item() * model.get_submodule('features')(X)[:, i].detach().numpy()\n",
        "      )\n",
        "  plt.title(dummy_ft_names[i])\n",
        "  plt.show()"
      ]
    },
    {
      "cell_type": "markdown",
      "metadata": {
        "id": "GNm0kZQz-LU1"
      },
      "source": [
        "## Model Performance"
      ]
    },
    {
      "cell_type": "code",
      "execution_count": 78,
      "metadata": {
        "colab": {
          "base_uri": "https://localhost:8080/",
          "height": 1000
        },
        "id": "1dh8slwy-blv",
        "outputId": "b1b43549-e1cf-41cc-c74b-7f53e13e314c"
      },
      "outputs": [
        {
          "output_type": "stream",
          "name": "stdout",
          "text": [
            "              precision    recall  f1-score   support\n",
            "\n",
            "        HD=0       0.84      0.73      0.78        74\n",
            "        HD=1       0.83      0.91      0.87       110\n",
            "\n",
            "    accuracy                           0.84       184\n",
            "   macro avg       0.84      0.82      0.83       184\n",
            "weighted avg       0.84      0.84      0.83       184\n",
            "\n"
          ]
        },
        {
          "output_type": "execute_result",
          "data": {
            "text/plain": [
              "Text(0, 0.5, 'True Positive Rate')"
            ]
          },
          "metadata": {},
          "execution_count": 78
        },
        {
          "output_type": "display_data",
          "data": {
            "text/plain": [
              "<Figure size 640x480 with 2 Axes>"
            ],
            "image/png": "[encoded data removed]"
          },
          "metadata": {}
        },
        {
          "output_type": "display_data",
          "data": {
            "text/plain": [
              "<Figure size 640x480 with 1 Axes>"
            ],
            "image/png": "[encoded data removed]"
          },
          "metadata": {}
        }
      ],
      "source": [
        "# get predictions\n",
        "y_pred_prob = model(torch.tensor(X_test.values, dtype=torch.float)).detach().numpy()\n",
        "y_pred = np.round(y_pred_prob)\n",
        "\n",
        "# precision, recall, f1, ...\n",
        "print(classification_report(y_true = y_test,\n",
        "                            y_pred = y_pred,\n",
        "                            target_names=[\"HD=0\", \"HD=1\"]))\n",
        "\n",
        "# confusion matrix\n",
        "conf_mat = confusion_matrix(y_true=y_test, y_pred=y_pred)\n",
        "sns.heatmap(conf_mat, annot=True)\n",
        "plt.xlabel(\"Pred. Label\")\n",
        "plt.ylabel(\"True Label\")\n",
        "\n",
        "# ROC curve\n",
        "RocCurveDisplay.from_predictions(\n",
        "    y_true = y_test,\n",
        "    y_pred = y_pred_prob,\n",
        "    color = \"darkorange\",)\n",
        "plt.plot([0, 1], [0, 1], \"k--\")\n",
        "plt.xlabel(\"False Positive Rate\")\n",
        "plt.ylabel(\"True Positive Rate\")"
      ]
    },
    {
      "cell_type": "code",
      "execution_count": null,
      "metadata": {
        "id": "GzHIHdYwTJUY"
      },
      "outputs": [],
      "source": []
    }
  ],
  "metadata": {
    "colab": {
      "provenance": [],
      "include_colab_link": true
    },
    "kernelspec": {
      "display_name": "Python 3",
      "name": "python3"
    },
    "language_info": {
      "codemirror_mode": {
        "name": "ipython",
        "version": 3
      },
      "file_extension": ".py",
      "mimetype": "text/x-python",
      "name": "python",
      "nbconvert_exporter": "python",
      "pygments_lexer": "ipython3",
      "version": "3.9.7"
    }
  },
  "nbformat": 4,
  "nbformat_minor": 0
}