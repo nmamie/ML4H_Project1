{
  "nbformat": 4,
  "nbformat_minor": 0,
  "metadata": {
    "colab": {
      "provenance": [],
      "mount_file_id": "19FJ8nAwBIEtb-jcinl3y4FgqOTrI-hrx",
      "authorship_tag": "ABX9TyPeYxymelOxQencG4ZnVewW",
      "include_colab_link": true
    },
    "kernelspec": {
      "name": "python3",
      "display_name": "Python 3"
    },
    "language_info": {
      "name": "python"
    }
  },
  "cells": [
    {
      "cell_type": "markdown",
      "metadata": {
        "id": "view-in-github",
        "colab_type": "text"
      },
      "source": [
        "<a href=\"https://colab.research.google.com/github/nmamie/ML4H_Project1/blob/master/ML4H_Project1_Task1_Nici.ipynb\" target=\"_parent\"><img src=\"https://colab.research.google.com/assets/colab-badge.svg\" alt=\"Open In Colab\"/></a>"
      ]
    },
    {
      "cell_type": "markdown",
      "source": [
        "# **Part 1: Heart Disease Prediction**"
      ],
      "metadata": {
        "id": "TK2Dt7SVT_8N"
      }
    },
    {
      "cell_type": "markdown",
      "source": [
        "## Preparation"
      ],
      "metadata": {
        "id": "GRVbVTTFTyBH"
      }
    },
    {
      "cell_type": "code",
      "source": [
        "## basic packages\n",
        "import pandas as pd\n",
        "import numpy as np\n",
        "import math\n",
        "from IPython.display import display"
      ],
      "metadata": {
        "id": "xLNTfpfuRWnx"
      },
      "execution_count": 75,
      "outputs": []
    },
    {
      "cell_type": "code",
      "source": [
        "## setup\n",
        "import warnings\n",
        "warnings.filterwarnings(\"ignore\")\n",
        "\n",
        "path = \"/content/drive/MyDrive/1) ETH/3) ML in Healthcare/5) Assignments/Project 1/Data Heart Failure/\""
      ],
      "metadata": {
        "id": "QGJx9k5nRovi"
      },
      "execution_count": 76,
      "outputs": []
    },
    {
      "cell_type": "code",
      "execution_count": 77,
      "metadata": {
        "id": "5TJxcCzHPAcV"
      },
      "outputs": [],
      "source": [
        "## data import\n",
        "train_val_data = pd.read_csv(path + \"train_val_split.csv\")\n",
        "test_data = pd.read_csv(path + \"test_split.csv\")"
      ]
    },
    {
      "cell_type": "markdown",
      "source": [
        "## **Q1: Exploratory Data Analysis**"
      ],
      "metadata": {
        "id": "qG74Ts2UUJjj"
      }
    },
    {
      "cell_type": "markdown",
      "source": [
        "### Basic checks"
      ],
      "metadata": {
        "id": "IIvSw4onXKOy"
      }
    },
    {
      "cell_type": "code",
      "source": [
        "## examine head\n",
        "train_val_data.head()"
      ],
      "metadata": {
        "id": "5I-XFlb8nuCB"
      },
      "execution_count": null,
      "outputs": []
    },
    {
      "cell_type": "code",
      "source": [
        "## check dataset sample size & dimensionality\n",
        "n = len(train_val_data)\n",
        "p = len(train_val_data.columns) - 1\n",
        "print(\"No. of samples:  \", n)\n",
        "print(\"No. of features: \", p)"
      ],
      "metadata": {
        "id": "u8e83pbjfdJS"
      },
      "execution_count": null,
      "outputs": []
    },
    {
      "cell_type": "code",
      "source": [
        "## check for missing data\n",
        "train_val_data.isnull().sum()"
      ],
      "metadata": {
        "id": "BXqOE40SyJk5"
      },
      "execution_count": null,
      "outputs": []
    },
    {
      "cell_type": "markdown",
      "source": [
        "**Conclusions:**\n",
        "*   We have significantly more observations than variables. Hence, no further problems arise.\n",
        "*   There are no missing values.\n",
        "\n",
        "**Implications:**\n",
        "*   None"
      ],
      "metadata": {
        "id": "QrzewBu0yZ6Q"
      }
    },
    {
      "cell_type": "markdown",
      "source": [
        "### Data types and distributions of variables"
      ],
      "metadata": {
        "id": "gNt4CpBFXOFs"
      }
    },
    {
      "cell_type": "code",
      "source": [
        "## explore feature data types\n",
        "train_val_data.dtypes"
      ],
      "metadata": {
        "id": "oqtccc8WWnVi"
      },
      "execution_count": null,
      "outputs": []
    },
    {
      "cell_type": "markdown",
      "source": [
        "*FastingBS* and *HeartDisease* are binary, hence change to data type \"object\""
      ],
      "metadata": {
        "id": "7Bja1Mxfm7GM"
      }
    },
    {
      "cell_type": "code",
      "source": [
        "## change data type of categorical variables to \"object\"\n",
        "train_val_data[\"FastingBS\"] = train_val_data[\"FastingBS\"].astype(\"object\")\n",
        "train_val_data[\"HeartDisease\"] = train_val_data[\"HeartDisease\"].astype(\"object\")"
      ],
      "metadata": {
        "id": "u7rJOKKdivoc"
      },
      "execution_count": 78,
      "outputs": []
    },
    {
      "cell_type": "code",
      "source": [
        "# save variable & names\n",
        "fts = train_val_data.drop(\"HeartDisease\", axis=1).columns.tolist()\n",
        "num_fts = train_val_data.drop(\"HeartDisease\", axis=1).select_dtypes(exclude=\"object\").columns.tolist()\n",
        "cat_fts = train_val_data.drop(\"HeartDisease\", axis=1).select_dtypes(include=\"object\").columns.tolist()\n",
        "num_vars = train_val_data.select_dtypes(include=\"int64\").columns.tolist()\n",
        "cat_vars = train_val_data.select_dtypes(include=\"object\").columns.tolist()"
      ],
      "metadata": {
        "id": "XWFLRWYypA3M"
      },
      "execution_count": 79,
      "outputs": []
    },
    {
      "cell_type": "code",
      "source": [
        "# summary statistics\n",
        "display(train_val_data[num_fts].round(2))\n",
        "display(train_val_data[cat_fts])"
      ],
      "metadata": {
        "id": "xgE5P0hOm1A3"
      },
      "execution_count": null,
      "outputs": []
    },
    {
      "cell_type": "markdown",
      "source": [
        "Dependency plots"
      ],
      "metadata": {
        "id": "y-qC7XHxpKCR"
      }
    },
    {
      "cell_type": "code",
      "source": [
        "import matplotlib.pyplot as plt\n",
        "import seaborn as sns\n",
        "\n",
        "# categorical features\n",
        "fig, axs = plt.subplots(2, math.ceil(len(cat_fts)/2), figsize=(15, 10))\n",
        "fig.suptitle('Categorical Features', fontsize=16)\n",
        "for i, col in enumerate(cat_fts):\n",
        "    ax = axs.reshape(-1)[i]\n",
        "    ax.set_title(col)\n",
        "    sns.countplot(x=col, data=train_val_data, ax=ax)\n",
        "\n",
        "# numerical features\n",
        "fig, axs = plt.subplots(2, math.ceil(len(num_fts)/2), figsize=(15, 10))\n",
        "fig.suptitle('Numerical Features', fontsize=16)\n",
        "for i, col in enumerate(num_fts):\n",
        "    ax = axs.reshape(-1)[i]\n",
        "    ax.set_title(col)\n",
        "    sns.histplot(x=col, data=train_val_data, ax=ax)"
      ],
      "metadata": {
        "id": "qz3Gn7sJX1pp"
      },
      "execution_count": null,
      "outputs": []
    },
    {
      "cell_type": "code",
      "source": [
        "print(\"0s in RestingBP:\")\n",
        "print(\" - Train Data: \", (train_val_data[\"RestingBP\"] == 0).sum())\n",
        "print(\" - Test Data:  \", (test_data[\"RestingBP\"] == 0).sum())\n",
        "\n",
        "print(\"\")\n",
        "print(\"0s in RestingBP:\")\n",
        "print(\" - Train Data: \", (train_val_data[\"Cholesterol\"] == 0).sum())\n",
        "print(\" - Test Data:  \", (test_data[\"Cholesterol\"] == 0).sum())"
      ],
      "metadata": {
        "id": "_MsQ9AOhqBUJ"
      },
      "execution_count": null,
      "outputs": []
    },
    {
      "cell_type": "markdown",
      "source": [
        "**Conclusions:**\n",
        "\n",
        "1.   Some features are categorical, i.e. lack interpretability of differences in or ordering of their values.\n",
        "2.   The dataset is imbalanced w.r.t. a couple of features, incl. *sex*, *chest pain type*, and *fasting blood sugar*. Importantly, however, the dataset is balanced w.r.t. the outcome variable, *heart disease*.\n",
        "3.   *Cholesterol:* Many values of are exactly 0. Since virtually all values above 0 are >100, this seems highly unrealistic. Instead, we interpret this as missing values.\n",
        "4.   *RestingBP:* There exist an observation with resting blood pressure of 0, which seems equally unrealistic. \n",
        "\n",
        "**Implications:**\n",
        "\n",
        "1.   Create dummy variables or use one-hot encoding for the respective features.\n",
        "2.  ...\n",
        "3.   Since there are many observations with this anomaly, create a dummy variable indicating whether a patient's cholesterol measurement is missing or not.\n",
        "4.   Since there is only 1 observation with this anomaly, "
      ],
      "metadata": {
        "id": "dJioDLSVkOGh"
      }
    },
    {
      "cell_type": "markdown",
      "source": [
        "## Preprocessing"
      ],
      "metadata": {
        "id": "PnvfFX0fX569"
      }
    },
    {
      "cell_type": "markdown",
      "source": [
        "For the purpose of empirical data analysis, the preprocessing pipeline consists of the following steps:\n",
        "\n",
        "1.   Create dummy variable for *Cholesterol = 0*\n",
        "2.   Mark *Cholesterol* as *NA* whenever it is 0\n",
        "2.   Create dummy variables for categories"
      ],
      "metadata": {
        "id": "idcV8TkSrYRm"
      }
    },
    {
      "cell_type": "code",
      "source": [
        "## add dummy for cholesterol=0\n",
        "train_val_data[\"Cholesterol\"].replace(0, np.nan, inplace=True)\n",
        "test_data[\"Cholesterol\"].replace(0, np.nan, inplace=True)\n",
        "\n",
        "train_val_data.insert(loc=5, column=\"Chol_NA\", value=train_val_data.loc[:,\"Cholesterol\"].isna()*1)\n",
        "test_data.insert(loc=5, column=\"Chol_NA\", value=test_data.loc[:,\"Cholesterol\"].isna()*1)"
      ],
      "metadata": {
        "id": "D7zZjw3dPRKt"
      },
      "execution_count": 80,
      "outputs": []
    },
    {
      "cell_type": "code",
      "source": [
        "from sklearn.pipeline import Pipeline\n",
        "from sklearn.preprocessing import OneHotEncoder\n",
        "from sklearn.compose import ColumnTransformer\n",
        "\n",
        "# pipeline for categorical features\n",
        "cat_transformer = Pipeline(steps=[(\"encoder\", OneHotEncoder(drop=None))])\n",
        "\n",
        "# preprocessor\n",
        "preprocessing = ColumnTransformer(transformers = [(\"pass\", \"passthrough\", [\"HeartDisease\", \"Chol_NA\"] + num_fts),\n",
        "                                                  (\"drop\", \"drop\", fts),\n",
        "                                                  (\"cat\", cat_transformer, cat_fts)],\n",
        "                                      remainder = \"passthrough\")"
      ],
      "metadata": {
        "id": "66c48lMLXtmi"
      },
      "execution_count": 81,
      "outputs": []
    },
    {
      "cell_type": "code",
      "source": [
        "## apply preprocessing pipeline to data\n",
        "train_val_proc_1 = preprocessing.fit_transform(train_val_data)\n",
        "test_proc_1 = preprocessing.fit_transform(test_data)\n",
        "\n",
        "ft_names = preprocessing.get_feature_names_out().tolist()\n",
        "ft_names = [ft_names[i].replace(\"pass__\", \"\").replace(\"num__\", \"\").replace(\"cat__\", \"\") for i in range(len(ft_names))]\n",
        "\n",
        "train_val_proc_1 = pd.DataFrame(train_val_proc_1, columns=ft_names)\n",
        "test_proc_1 = pd.DataFrame(test_proc_1, columns=ft_names)"
      ],
      "metadata": {
        "id": "Jfo1LzC7vjVW"
      },
      "execution_count": 82,
      "outputs": []
    },
    {
      "cell_type": "code",
      "source": [
        "## set numerical features to float, categorical to int\n",
        "train_val_proc_1[num_fts] = train_val_proc_1[num_fts].astype(\"float64\")\n",
        "test_proc_1[num_fts] = test_proc_1[num_fts].astype(\"float64\")\n",
        "\n",
        "train_val_proc_1.loc[:, ~train_val_proc_1.columns.isin(num_fts + [\"Chol_NA\"])] = train_val_proc_1.loc[:, ~train_val_proc_1.columns.isin(num_fts + [\"Chol_NA\"])].astype(\"int64\")\n",
        "test_proc_1.loc[:, ~test_proc_1.columns.isin(num_fts + [\"Chol_NA\"])] = test_proc_1.loc[:, ~test_proc_1.columns.isin(num_fts + [\"Chol_NA\"])].astype(\"int64\")"
      ],
      "metadata": {
        "id": "ZZIf05oLFhmb"
      },
      "execution_count": 86,
      "outputs": []
    },
    {
      "cell_type": "markdown",
      "source": [
        "Following intermediate data processing for exploratory data analysis only:"
      ],
      "metadata": {
        "id": "mTVAYEfzv13V"
      }
    },
    {
      "cell_type": "code",
      "source": [
        "## for exploratory analysis of training data only:\n",
        "## define default variables and drop their dummy\n",
        "\n",
        "default_vars = [\"Sex_M\",\n",
        "                \"ChestPainType_ASY\",\n",
        "                \"FastingBS_0\",\n",
        "                \"RestingECG_Normal\",\n",
        "                \"ExerciseAngina_N\",\n",
        "                \"ST_Slope_Flat\"]\n",
        "\n",
        "train_val_reduc = train_val_proc_1.drop(default_vars, axis=1, inplace=False)"
      ],
      "metadata": {
        "id": "MVKp4xzoe64M"
      },
      "execution_count": 72,
      "outputs": []
    },
    {
      "cell_type": "markdown",
      "source": [
        "## Dependencies"
      ],
      "metadata": {
        "id": "XR2IjiGfbuDJ"
      }
    },
    {
      "cell_type": "markdown",
      "source": [
        "To examine dependencies, we remove the collinearity and drop one category of each categorical variable. Note the definition of the \"default\" values of categorical features:\n",
        "*   *HeartDisease:* 0\n",
        "*   *Sex*: M\n",
        "*   *ChestPainType:* ASY\n",
        "*   *FastingBS:* 0\n",
        "*   *RestingECG:* Normal\n",
        "*   *ExerciseAngina:* N\n",
        "*   *ST_Slope:* Flat"
      ],
      "metadata": {
        "id": "q4K0s-Ol3Lwc"
      }
    },
    {
      "cell_type": "markdown",
      "source": [
        "We compute rank correlations between non-categorical variables, since these cann capture also non-linear (monotonic) dependence structures. In case of binary variables (which includes the outcome variable *HeartDisease*), it corresponds to linear correlation."
      ],
      "metadata": {
        "id": "MQcx7cLPb6y7"
      }
    },
    {
      "cell_type": "code",
      "source": [
        "## compute rank correlations\n",
        "rk_corr = train_val_reduc.corr(method=\"spearman\")\n",
        "print(\"Rank correlation:\")\n",
        "display(plt.matshow(rk_corr))"
      ],
      "metadata": {
        "colab": {
          "base_uri": "https://localhost:8080/",
          "height": 311
        },
        "id": "Y3cKuVeXzej5",
        "outputId": "90caec37-0c99-4ed6-e439-9f27bd3ee405"
      },
      "execution_count": 73,
      "outputs": [
        {
          "output_type": "stream",
          "name": "stdout",
          "text": [
            "Rank correlation:\n"
          ]
        },
        {
          "output_type": "display_data",
          "data": {
            "text/plain": [
              "<matplotlib.image.AxesImage at 0x7f7689053df0>"
            ]
          },
          "metadata": {}
        },
        {
          "output_type": "display_data",
          "data": {
            "text/plain": [
              "<Figure size 288x288 with 1 Axes>"
            ],
            "image/png": "[encoded data removed]"
          },
          "metadata": {
            "needs_background": "light"
          }
        }
      ]
    },
    {
      "cell_type": "code",
      "source": [
        "## significant rank correlations (|r|>0.4)\n",
        "sig_corr = rk_corr[abs(rk_corr)>0.4]\n",
        "sig_corr.replace(np.nan, \"-\", inplace=True)\n",
        "sig_corr"
      ],
      "metadata": {
        "colab": {
          "base_uri": "https://localhost:8080/",
          "height": 615
        },
        "id": "yA7w9KQu6FcO",
        "outputId": "ce2f273f-42b7-4ed9-a153-2bd135708165"
      },
      "execution_count": 74,
      "outputs": [
        {
          "output_type": "execute_result",
          "data": {
            "text/plain": [
              "                  HeartDisease  Age RestingBP Cholesterol     MaxHR   Oldpeak  \\\n",
              "HeartDisease               1.0    -         -           - -0.413251  0.436762   \n",
              "Age                          -  1.0         -           -         -         -   \n",
              "RestingBP                    -    -       1.0           -         -         -   \n",
              "Cholesterol                  -    -         -         1.0         -         -   \n",
              "MaxHR                -0.413251    -         -           -       1.0         -   \n",
              "Oldpeak               0.436762    -         -           -         -       1.0   \n",
              "Sex_F                        -    -         -           -         -         -   \n",
              "ChestPainType_ATA     -0.42536    -         -           -         -         -   \n",
              "ChestPainType_NAP            -    -         -           -         -         -   \n",
              "ChestPainType_TA             -    -         -           -         -         -   \n",
              "FastingBS                    -    -         -           -         -         -   \n",
              "RestingECG_LVH               -    -         -           -         -         -   \n",
              "RestingECG_ST                -    -         -           -         -         -   \n",
              "ExerciseAngina        0.502205    -         -           - -0.410103  0.417747   \n",
              "ST_Slope_Down                -    -         -           -         -         -   \n",
              "ST_Slope_Up          -0.631526    -         -           -         - -0.502399   \n",
              "\n",
              "                  Sex_F ChestPainType_ATA ChestPainType_NAP ChestPainType_TA  \\\n",
              "HeartDisease          -          -0.42536                 -                -   \n",
              "Age                   -                 -                 -                -   \n",
              "RestingBP             -                 -                 -                -   \n",
              "Cholesterol           -                 -                 -                -   \n",
              "MaxHR                 -                 -                 -                -   \n",
              "Oldpeak               -                 -                 -                -   \n",
              "Sex_F               1.0                 -                 -                -   \n",
              "ChestPainType_ATA     -               1.0                 -                -   \n",
              "ChestPainType_NAP     -                 -               1.0                -   \n",
              "ChestPainType_TA      -                 -                 -              1.0   \n",
              "FastingBS             -                 -                 -                -   \n",
              "RestingECG_LVH        -                 -                 -                -   \n",
              "RestingECG_ST         -                 -                 -                -   \n",
              "ExerciseAngina        -                 -                 -                -   \n",
              "ST_Slope_Down         -                 -                 -                -   \n",
              "ST_Slope_Up           -                 -                 -                -   \n",
              "\n",
              "                  FastingBS RestingECG_LVH RestingECG_ST ExerciseAngina  \\\n",
              "HeartDisease              -              -             -       0.502205   \n",
              "Age                       -              -             -              -   \n",
              "RestingBP                 -              -             -              -   \n",
              "Cholesterol               -              -             -              -   \n",
              "MaxHR                     -              -             -      -0.410103   \n",
              "Oldpeak                   -              -             -       0.417747   \n",
              "Sex_F                     -              -             -              -   \n",
              "ChestPainType_ATA         -              -             -              -   \n",
              "ChestPainType_NAP         -              -             -              -   \n",
              "ChestPainType_TA          -              -             -              -   \n",
              "FastingBS               1.0              -             -              -   \n",
              "RestingECG_LVH            -            1.0             -              -   \n",
              "RestingECG_ST             -              -           1.0              -   \n",
              "ExerciseAngina            -              -             -            1.0   \n",
              "ST_Slope_Down             -              -             -              -   \n",
              "ST_Slope_Up               -              -             -      -0.461507   \n",
              "\n",
              "                  ST_Slope_Down ST_Slope_Up  \n",
              "HeartDisease                  -   -0.631526  \n",
              "Age                           -           -  \n",
              "RestingBP                     -           -  \n",
              "Cholesterol                   -           -  \n",
              "MaxHR                         -           -  \n",
              "Oldpeak                       -   -0.502399  \n",
              "Sex_F                         -           -  \n",
              "ChestPainType_ATA             -           -  \n",
              "ChestPainType_NAP             -           -  \n",
              "ChestPainType_TA              -           -  \n",
              "FastingBS                     -           -  \n",
              "RestingECG_LVH                -           -  \n",
              "RestingECG_ST                 -           -  \n",
              "ExerciseAngina                -   -0.461507  \n",
              "ST_Slope_Down               1.0           -  \n",
              "ST_Slope_Up                   -         1.0  "
            ],
            "text/html": [
              "\n",
              "  <div id=\"df-a9b680dc-9ad5-4863-9854-00861c4e6ff4\">\n",
              "    <div class=\"colab-df-container\">\n",
              "      <div>\n",
              "<style scoped>\n",
              "    .dataframe tbody tr th:only-of-type {\n",
              "        vertical-align: middle;\n",
              "    }\n",
              "\n",
              "    .dataframe tbody tr th {\n",
              "        vertical-align: top;\n",
              "    }\n",
              "\n",
              "    .dataframe thead th {\n",
              "        text-align: right;\n",
              "    }\n",
              "</style>\n",
              "<table border=\"1\" class=\"dataframe\">\n",
              "  <thead>\n",
              "    <tr style=\"text-align: right;\">\n",
              "      <th></th>\n",
              "      <th>HeartDisease</th>\n",
              "      <th>Age</th>\n",
              "      <th>RestingBP</th>\n",
              "      <th>Cholesterol</th>\n",
              "      <th>MaxHR</th>\n",
              "      <th>Oldpeak</th>\n",
              "      <th>Sex_F</th>\n",
              "      <th>ChestPainType_ATA</th>\n",
              "      <th>ChestPainType_NAP</th>\n",
              "      <th>ChestPainType_TA</th>\n",
              "      <th>FastingBS</th>\n",
              "      <th>RestingECG_LVH</th>\n",
              "      <th>RestingECG_ST</th>\n",
              "      <th>ExerciseAngina</th>\n",
              "      <th>ST_Slope_Down</th>\n",
              "      <th>ST_Slope_Up</th>\n",
              "    </tr>\n",
              "  </thead>\n",
              "  <tbody>\n",
              "    <tr>\n",
              "      <th>HeartDisease</th>\n",
              "      <td>1.0</td>\n",
              "      <td>-</td>\n",
              "      <td>-</td>\n",
              "      <td>-</td>\n",
              "      <td>-0.413251</td>\n",
              "      <td>0.436762</td>\n",
              "      <td>-</td>\n",
              "      <td>-0.42536</td>\n",
              "      <td>-</td>\n",
              "      <td>-</td>\n",
              "      <td>-</td>\n",
              "      <td>-</td>\n",
              "      <td>-</td>\n",
              "      <td>0.502205</td>\n",
              "      <td>-</td>\n",
              "      <td>-0.631526</td>\n",
              "    </tr>\n",
              "    <tr>\n",
              "      <th>Age</th>\n",
              "      <td>-</td>\n",
              "      <td>1.0</td>\n",
              "      <td>-</td>\n",
              "      <td>-</td>\n",
              "      <td>-</td>\n",
              "      <td>-</td>\n",
              "      <td>-</td>\n",
              "      <td>-</td>\n",
              "      <td>-</td>\n",
              "      <td>-</td>\n",
              "      <td>-</td>\n",
              "      <td>-</td>\n",
              "      <td>-</td>\n",
              "      <td>-</td>\n",
              "      <td>-</td>\n",
              "      <td>-</td>\n",
              "    </tr>\n",
              "    <tr>\n",
              "      <th>RestingBP</th>\n",
              "      <td>-</td>\n",
              "      <td>-</td>\n",
              "      <td>1.0</td>\n",
              "      <td>-</td>\n",
              "      <td>-</td>\n",
              "      <td>-</td>\n",
              "      <td>-</td>\n",
              "      <td>-</td>\n",
              "      <td>-</td>\n",
              "      <td>-</td>\n",
              "      <td>-</td>\n",
              "      <td>-</td>\n",
              "      <td>-</td>\n",
              "      <td>-</td>\n",
              "      <td>-</td>\n",
              "      <td>-</td>\n",
              "    </tr>\n",
              "    <tr>\n",
              "      <th>Cholesterol</th>\n",
              "      <td>-</td>\n",
              "      <td>-</td>\n",
              "      <td>-</td>\n",
              "      <td>1.0</td>\n",
              "      <td>-</td>\n",
              "      <td>-</td>\n",
              "      <td>-</td>\n",
              "      <td>-</td>\n",
              "      <td>-</td>\n",
              "      <td>-</td>\n",
              "      <td>-</td>\n",
              "      <td>-</td>\n",
              "      <td>-</td>\n",
              "      <td>-</td>\n",
              "      <td>-</td>\n",
              "      <td>-</td>\n",
              "    </tr>\n",
              "    <tr>\n",
              "      <th>MaxHR</th>\n",
              "      <td>-0.413251</td>\n",
              "      <td>-</td>\n",
              "      <td>-</td>\n",
              "      <td>-</td>\n",
              "      <td>1.0</td>\n",
              "      <td>-</td>\n",
              "      <td>-</td>\n",
              "      <td>-</td>\n",
              "      <td>-</td>\n",
              "      <td>-</td>\n",
              "      <td>-</td>\n",
              "      <td>-</td>\n",
              "      <td>-</td>\n",
              "      <td>-0.410103</td>\n",
              "      <td>-</td>\n",
              "      <td>-</td>\n",
              "    </tr>\n",
              "    <tr>\n",
              "      <th>Oldpeak</th>\n",
              "      <td>0.436762</td>\n",
              "      <td>-</td>\n",
              "      <td>-</td>\n",
              "      <td>-</td>\n",
              "      <td>-</td>\n",
              "      <td>1.0</td>\n",
              "      <td>-</td>\n",
              "      <td>-</td>\n",
              "      <td>-</td>\n",
              "      <td>-</td>\n",
              "      <td>-</td>\n",
              "      <td>-</td>\n",
              "      <td>-</td>\n",
              "      <td>0.417747</td>\n",
              "      <td>-</td>\n",
              "      <td>-0.502399</td>\n",
              "    </tr>\n",
              "    <tr>\n",
              "      <th>Sex_F</th>\n",
              "      <td>-</td>\n",
              "      <td>-</td>\n",
              "      <td>-</td>\n",
              "      <td>-</td>\n",
              "      <td>-</td>\n",
              "      <td>-</td>\n",
              "      <td>1.0</td>\n",
              "      <td>-</td>\n",
              "      <td>-</td>\n",
              "      <td>-</td>\n",
              "      <td>-</td>\n",
              "      <td>-</td>\n",
              "      <td>-</td>\n",
              "      <td>-</td>\n",
              "      <td>-</td>\n",
              "      <td>-</td>\n",
              "    </tr>\n",
              "    <tr>\n",
              "      <th>ChestPainType_ATA</th>\n",
              "      <td>-0.42536</td>\n",
              "      <td>-</td>\n",
              "      <td>-</td>\n",
              "      <td>-</td>\n",
              "      <td>-</td>\n",
              "      <td>-</td>\n",
              "      <td>-</td>\n",
              "      <td>1.0</td>\n",
              "      <td>-</td>\n",
              "      <td>-</td>\n",
              "      <td>-</td>\n",
              "      <td>-</td>\n",
              "      <td>-</td>\n",
              "      <td>-</td>\n",
              "      <td>-</td>\n",
              "      <td>-</td>\n",
              "    </tr>\n",
              "    <tr>\n",
              "      <th>ChestPainType_NAP</th>\n",
              "      <td>-</td>\n",
              "      <td>-</td>\n",
              "      <td>-</td>\n",
              "      <td>-</td>\n",
              "      <td>-</td>\n",
              "      <td>-</td>\n",
              "      <td>-</td>\n",
              "      <td>-</td>\n",
              "      <td>1.0</td>\n",
              "      <td>-</td>\n",
              "      <td>-</td>\n",
              "      <td>-</td>\n",
              "      <td>-</td>\n",
              "      <td>-</td>\n",
              "      <td>-</td>\n",
              "      <td>-</td>\n",
              "    </tr>\n",
              "    <tr>\n",
              "      <th>ChestPainType_TA</th>\n",
              "      <td>-</td>\n",
              "      <td>-</td>\n",
              "      <td>-</td>\n",
              "      <td>-</td>\n",
              "      <td>-</td>\n",
              "      <td>-</td>\n",
              "      <td>-</td>\n",
              "      <td>-</td>\n",
              "      <td>-</td>\n",
              "      <td>1.0</td>\n",
              "      <td>-</td>\n",
              "      <td>-</td>\n",
              "      <td>-</td>\n",
              "      <td>-</td>\n",
              "      <td>-</td>\n",
              "      <td>-</td>\n",
              "    </tr>\n",
              "    <tr>\n",
              "      <th>FastingBS</th>\n",
              "      <td>-</td>\n",
              "      <td>-</td>\n",
              "      <td>-</td>\n",
              "      <td>-</td>\n",
              "      <td>-</td>\n",
              "      <td>-</td>\n",
              "      <td>-</td>\n",
              "      <td>-</td>\n",
              "      <td>-</td>\n",
              "      <td>-</td>\n",
              "      <td>1.0</td>\n",
              "      <td>-</td>\n",
              "      <td>-</td>\n",
              "      <td>-</td>\n",
              "      <td>-</td>\n",
              "      <td>-</td>\n",
              "    </tr>\n",
              "    <tr>\n",
              "      <th>RestingECG_LVH</th>\n",
              "      <td>-</td>\n",
              "      <td>-</td>\n",
              "      <td>-</td>\n",
              "      <td>-</td>\n",
              "      <td>-</td>\n",
              "      <td>-</td>\n",
              "      <td>-</td>\n",
              "      <td>-</td>\n",
              "      <td>-</td>\n",
              "      <td>-</td>\n",
              "      <td>-</td>\n",
              "      <td>1.0</td>\n",
              "      <td>-</td>\n",
              "      <td>-</td>\n",
              "      <td>-</td>\n",
              "      <td>-</td>\n",
              "    </tr>\n",
              "    <tr>\n",
              "      <th>RestingECG_ST</th>\n",
              "      <td>-</td>\n",
              "      <td>-</td>\n",
              "      <td>-</td>\n",
              "      <td>-</td>\n",
              "      <td>-</td>\n",
              "      <td>-</td>\n",
              "      <td>-</td>\n",
              "      <td>-</td>\n",
              "      <td>-</td>\n",
              "      <td>-</td>\n",
              "      <td>-</td>\n",
              "      <td>-</td>\n",
              "      <td>1.0</td>\n",
              "      <td>-</td>\n",
              "      <td>-</td>\n",
              "      <td>-</td>\n",
              "    </tr>\n",
              "    <tr>\n",
              "      <th>ExerciseAngina</th>\n",
              "      <td>0.502205</td>\n",
              "      <td>-</td>\n",
              "      <td>-</td>\n",
              "      <td>-</td>\n",
              "      <td>-0.410103</td>\n",
              "      <td>0.417747</td>\n",
              "      <td>-</td>\n",
              "      <td>-</td>\n",
              "      <td>-</td>\n",
              "      <td>-</td>\n",
              "      <td>-</td>\n",
              "      <td>-</td>\n",
              "      <td>-</td>\n",
              "      <td>1.0</td>\n",
              "      <td>-</td>\n",
              "      <td>-0.461507</td>\n",
              "    </tr>\n",
              "    <tr>\n",
              "      <th>ST_Slope_Down</th>\n",
              "      <td>-</td>\n",
              "      <td>-</td>\n",
              "      <td>-</td>\n",
              "      <td>-</td>\n",
              "      <td>-</td>\n",
              "      <td>-</td>\n",
              "      <td>-</td>\n",
              "      <td>-</td>\n",
              "      <td>-</td>\n",
              "      <td>-</td>\n",
              "      <td>-</td>\n",
              "      <td>-</td>\n",
              "      <td>-</td>\n",
              "      <td>-</td>\n",
              "      <td>1.0</td>\n",
              "      <td>-</td>\n",
              "    </tr>\n",
              "    <tr>\n",
              "      <th>ST_Slope_Up</th>\n",
              "      <td>-0.631526</td>\n",
              "      <td>-</td>\n",
              "      <td>-</td>\n",
              "      <td>-</td>\n",
              "      <td>-</td>\n",
              "      <td>-0.502399</td>\n",
              "      <td>-</td>\n",
              "      <td>-</td>\n",
              "      <td>-</td>\n",
              "      <td>-</td>\n",
              "      <td>-</td>\n",
              "      <td>-</td>\n",
              "      <td>-</td>\n",
              "      <td>-0.461507</td>\n",
              "      <td>-</td>\n",
              "      <td>1.0</td>\n",
              "    </tr>\n",
              "  </tbody>\n",
              "</table>\n",
              "</div>\n",
              "      <button class=\"colab-df-convert\" onclick=\"convertToInteractive('df-a9b680dc-9ad5-4863-9854-00861c4e6ff4')\"\n",
              "              title=\"Convert this dataframe to an interactive table.\"\n",
              "              style=\"display:none;\">\n",
              "        \n",
              "  <svg xmlns=\"http://www.w3.org/2000/svg\" height=\"24px\"viewBox=\"0 0 24 24\"\n",
              "       width=\"24px\">\n",
              "    <path d=\"M0 0h24v24H0V0z\" fill=\"none\"/>\n",
              "    <path d=\"M18.56 5.44l.94 2.06.94-2.06 2.06-.94-2.06-.94-.94-2.06-.94 2.06-2.06.94zm-11 1L8.5 8.5l.94-2.06 2.06-.94-2.06-.94L8.5 2.5l-.94 2.06-2.06.94zm10 10l.94 2.06.94-2.06 2.06-.94-2.06-.94-.94-2.06-.94 2.06-2.06.94z\"/><path d=\"M17.41 7.96l-1.37-1.37c-.4-.4-.92-.59-1.43-.59-.52 0-1.04.2-1.43.59L10.3 9.45l-7.72 7.72c-.78.78-.78 2.05 0 2.83L4 21.41c.39.39.9.59 1.41.59.51 0 1.02-.2 1.41-.59l7.78-7.78 2.81-2.81c.8-.78.8-2.07 0-2.86zM5.41 20L4 18.59l7.72-7.72 1.47 1.35L5.41 20z\"/>\n",
              "  </svg>\n",
              "      </button>\n",
              "      \n",
              "  <style>\n",
              "    .colab-df-container {\n",
              "      display:flex;\n",
              "      flex-wrap:wrap;\n",
              "      gap: 12px;\n",
              "    }\n",
              "\n",
              "    .colab-df-convert {\n",
              "      background-color: #E8F0FE;\n",
              "      border: none;\n",
              "      border-radius: 50%;\n",
              "      cursor: pointer;\n",
              "      display: none;\n",
              "      fill: #1967D2;\n",
              "      height: 32px;\n",
              "      padding: 0 0 0 0;\n",
              "      width: 32px;\n",
              "    }\n",
              "\n",
              "    .colab-df-convert:hover {\n",
              "      background-color: #E2EBFA;\n",
              "      box-shadow: 0px 1px 2px rgba(60, 64, 67, 0.3), 0px 1px 3px 1px rgba(60, 64, 67, 0.15);\n",
              "      fill: #174EA6;\n",
              "    }\n",
              "\n",
              "    [theme=dark] .colab-df-convert {\n",
              "      background-color: #3B4455;\n",
              "      fill: #D2E3FC;\n",
              "    }\n",
              "\n",
              "    [theme=dark] .colab-df-convert:hover {\n",
              "      background-color: #434B5C;\n",
              "      box-shadow: 0px 1px 3px 1px rgba(0, 0, 0, 0.15);\n",
              "      filter: drop-shadow(0px 1px 2px rgba(0, 0, 0, 0.3));\n",
              "      fill: #FFFFFF;\n",
              "    }\n",
              "  </style>\n",
              "\n",
              "      <script>\n",
              "        const buttonEl =\n",
              "          document.querySelector('#df-a9b680dc-9ad5-4863-9854-00861c4e6ff4 button.colab-df-convert');\n",
              "        buttonEl.style.display =\n",
              "          google.colab.kernel.accessAllowed ? 'block' : 'none';\n",
              "\n",
              "        async function convertToInteractive(key) {\n",
              "          const element = document.querySelector('#df-a9b680dc-9ad5-4863-9854-00861c4e6ff4');\n",
              "          const dataTable =\n",
              "            await google.colab.kernel.invokeFunction('convertToInteractive',\n",
              "                                                     [key], {});\n",
              "          if (!dataTable) return;\n",
              "\n",
              "          const docLinkHtml = 'Like what you see? Visit the ' +\n",
              "            '<a target=\"_blank\" href=https://colab.research.google.com/notebooks/data_table.ipynb>data table notebook</a>'\n",
              "            + ' to learn more about interactive tables.';\n",
              "          element.innerHTML = '';\n",
              "          dataTable['output_type'] = 'display_data';\n",
              "          await google.colab.output.renderOutput(dataTable, element);\n",
              "          const docLink = document.createElement('div');\n",
              "          docLink.innerHTML = docLinkHtml;\n",
              "          element.appendChild(docLink);\n",
              "        }\n",
              "      </script>\n",
              "    </div>\n",
              "  </div>\n",
              "  "
            ]
          },
          "metadata": {},
          "execution_count": 74
        }
      ]
    },
    {
      "cell_type": "markdown",
      "source": [
        "**Conclusions**:\n",
        "*   *HeartDisease* has a rank correlation of +0.4 or more with *ExerciseAngina* & *Oldpeak*, and of -0.4 or less with *MaxHR*, *ChestPainType_ATA*, and *ST_Slope_Up*.\n",
        "*   Also, *ExerciseAngina* & *Oldpeak* are significantly positively associated. Further, *ExerciseAngina* & *MaxHR*, *Oldpeak* & *ST_Slope_Up*, and *ExerciseAngina* & *ST_Slope_Up* are significantly negatively correlated.\n",
        "*   Hence, among the observed variables, ..."
      ],
      "metadata": {
        "id": "5IzZHDoY4OKQ"
      }
    },
    {
      "cell_type": "markdown",
      "source": [
        "## **Q2: Logistic Lasso Regression**"
      ],
      "metadata": {
        "id": "azYQaxOREGgg"
      }
    },
    {
      "cell_type": "markdown",
      "source": [
        "Standardization usually improves accuracy and variable selection, while only slightly affecting the interpretability of the coefficients. Although thinkable, we do *not* standardize categorical variables, as this would excessively affect interpretability.\n",
        "\n",
        "Hence, for the purposes of modelling, the further preprocessing pipeline consists of the following steps:\n",
        "\n",
        "*   For categorical features:\n",
        "  1.  Get back dummy variables for *each* category (justification later)\n",
        "\n",
        "*  For continuous features\n",
        "  1.   Impute missing values (incl. unrealistic 0 values) with the mean\n",
        "  2.   Standardize to mean 0 and standard deviation 1\n",
        "  3.   Create dummy variable for *Cholesterol = 0*"
      ],
      "metadata": {
        "id": "oK0L3-4IMZ9h"
      }
    },
    {
      "cell_type": "code",
      "source": [
        "from sklearn.preprocessing import StandardScaler\n",
        "from sklearn.impute import SimpleImputer\n",
        "\n",
        "imputer = SimpleImputer(strategy=\"mean\")\n",
        "scaler = StandardScaler()\n",
        "\n",
        "# impute missing values\n",
        "train_val_proc_2 = pd.DataFrame(\n",
        "    imputer.fit_transform(train_val_proc_1),\n",
        "    columns = train_val_proc_1.columns)\n",
        "test_proc_2 = pd.DataFrame(\n",
        "    imputer.fit_transform(test_proc_1),\n",
        "    columns = test_proc_1.columns)\n",
        "\n",
        "# standardize numerical features\n",
        "train_val_proc_2[num_fts] = scaler.fit_transform(train_val_proc_2[num_fts])\n",
        "test_proc_2[num_fts] = scaler.fit_transform(test_proc_2[num_fts])"
      ],
      "metadata": {
        "id": "ptuIIKReMyc0"
      },
      "execution_count": 95,
      "outputs": []
    },
    {
      "cell_type": "code",
      "source": [
        "X_train_val = train_val_proc_2.drop(\"HeartDisease\", axis=1)\n",
        "X_test = test_proc_2.drop(\"HeartDisease\", axis=1)\n",
        "\n",
        "y_train_val = train_val_proc_2[\"HeartDisease\"]\n",
        "y_test = test_proc_2[\"HeartDisease\"]"
      ],
      "metadata": {
        "id": "CnZ9KIluzPsd"
      },
      "execution_count": null,
      "outputs": []
    },
    {
      "cell_type": "markdown",
      "source": [
        "When using regularization, we need to account for the fact that we introduced dummy variables. Specifically, we want to regularize the inclusion of entire variables, e.g. \"Sex\", and not certain categories, e.g. \"Female\", as this would introduce bias depending on the default category. To tackle this, we purposefully introduce all categories of categorical variables again and use **Group Lasso**. Altough this usually introduces multicollinearity, regularization serves to deal with this."
      ],
      "metadata": {
        "id": "5Oag3CSu2Hsz"
      }
    },
    {
      "cell_type": "code",
      "source": [
        "!pip install group-lasso\n",
        "from group_lasso import LogisticGroupLasso\n",
        "\n",
        "group_names = [\"Chol_NA\", \"Age\", \"RestingBP\", \"Cholesterol\", \"MaxHR\", \"Oldpeak\",\n",
        "               \"Sex\", \"ChestPain\", \"FastingBS\", \"RestingECG\", \"ExerciseAngina\",\n",
        "               \"ST_Slope\"]\n",
        "group_sizes = [1, 1, 1, 1, 1, 1,\n",
        "               2, 4, 2, 3, 2, 3]\n",
        "n_groups = len(group_sizes)\n",
        "groups = np.concatenate([size * [i] for i, size in enumerate(group_sizes)])"
      ],
      "metadata": {
        "colab": {
          "base_uri": "https://localhost:8080/"
        },
        "id": "EJqDdBtU5xTC",
        "outputId": "29d4c6cb-5332-4b5f-ebde-055cf4c7c3a7"
      },
      "execution_count": 93,
      "outputs": [
        {
          "output_type": "stream",
          "name": "stdout",
          "text": [
            "Looking in indexes: https://pypi.org/simple, https://us-python.pkg.dev/colab-wheels/public/simple/\n",
            "Collecting group-lasso\n",
            "  Downloading group_lasso-1.5.0-py3-none-any.whl (33 kB)\n",
            "Requirement already satisfied: scikit-learn in /usr/local/lib/python3.9/dist-packages (from group-lasso) (1.2.2)\n",
            "Requirement already satisfied: numpy in /usr/local/lib/python3.9/dist-packages (from group-lasso) (1.22.4)\n",
            "Requirement already satisfied: joblib>=1.1.1 in /usr/local/lib/python3.9/dist-packages (from scikit-learn->group-lasso) (1.1.1)\n",
            "Requirement already satisfied: threadpoolctl>=2.0.0 in /usr/local/lib/python3.9/dist-packages (from scikit-learn->group-lasso) (3.1.0)\n",
            "Requirement already satisfied: scipy>=1.3.2 in /usr/local/lib/python3.9/dist-packages (from scikit-learn->group-lasso) (1.10.1)\n",
            "Installing collected packages: group-lasso\n",
            "Successfully installed group-lasso-1.5.0\n"
          ]
        }
      ]
    },
    {
      "cell_type": "code",
      "source": [
        "from sklearn.model_selection import cross_validate\n",
        "from sklearn.metrics import f1_score\n",
        "\n",
        "p1_vals = 2.0**np.arange(-10, 0)\n",
        "scores = []\n",
        "\n",
        "for i in range(len(p1_vals)):\n",
        "  lgl = LogisticGroupLasso(\n",
        "      groups = groups,\n",
        "      group_reg = p1_vals[i],\n",
        "      l1_reg = 0.0,\n",
        "      scale_reg = \"inverse_group_size\",\n",
        "      subsampling_scheme = 1,\n",
        "      supress_warning = True)\n",
        "\n",
        "  result = cross_validate(lgl, X_train_val, y_train_val, scoring=\"f1\", cv=5)\n",
        "  score = result[\"test_score\"].mean()\n",
        "  scores.append(score)\n",
        "\n",
        "p1_opt = p1_vals[np.argmax(scores)]\n",
        "print(\"Optimal group penalty:\", p1_opt)"
      ],
      "metadata": {
        "colab": {
          "base_uri": "https://localhost:8080/",
          "height": 240
        },
        "id": "Nrd8pAPgM7V3",
        "outputId": "382754ac-aea4-4abc-9dd3-48fad9177f66"
      },
      "execution_count": 94,
      "outputs": [
        {
          "output_type": "error",
          "ename": "NameError",
          "evalue": "ignored",
          "traceback": [
            "\u001b[0;31m---------------------------------------------------------------------------\u001b[0m",
            "\u001b[0;31mNameError\u001b[0m                                 Traceback (most recent call last)",
            "\u001b[0;32m<ipython-input-94-3b32c1cebda6>\u001b[0m in \u001b[0;36m<module>\u001b[0;34m\u001b[0m\n\u001b[1;32m     14\u001b[0m       supress_warning = True)\n\u001b[1;32m     15\u001b[0m \u001b[0;34m\u001b[0m\u001b[0m\n\u001b[0;32m---> 16\u001b[0;31m   \u001b[0mresult\u001b[0m \u001b[0;34m=\u001b[0m \u001b[0mcross_validate\u001b[0m\u001b[0;34m(\u001b[0m\u001b[0mlgl\u001b[0m\u001b[0;34m,\u001b[0m \u001b[0mX_train_val\u001b[0m\u001b[0;34m,\u001b[0m \u001b[0my_train_val\u001b[0m\u001b[0;34m,\u001b[0m \u001b[0mscoring\u001b[0m\u001b[0;34m=\u001b[0m\u001b[0;34m\"f1\"\u001b[0m\u001b[0;34m,\u001b[0m \u001b[0mcv\u001b[0m\u001b[0;34m=\u001b[0m\u001b[0;36m5\u001b[0m\u001b[0;34m)\u001b[0m\u001b[0;34m\u001b[0m\u001b[0;34m\u001b[0m\u001b[0m\n\u001b[0m\u001b[1;32m     17\u001b[0m   \u001b[0mscore\u001b[0m \u001b[0;34m=\u001b[0m \u001b[0mresult\u001b[0m\u001b[0;34m[\u001b[0m\u001b[0;34m\"test_score\"\u001b[0m\u001b[0;34m]\u001b[0m\u001b[0;34m.\u001b[0m\u001b[0mmean\u001b[0m\u001b[0;34m(\u001b[0m\u001b[0;34m)\u001b[0m\u001b[0;34m\u001b[0m\u001b[0;34m\u001b[0m\u001b[0m\n\u001b[1;32m     18\u001b[0m   \u001b[0mscores\u001b[0m\u001b[0;34m.\u001b[0m\u001b[0mappend\u001b[0m\u001b[0;34m(\u001b[0m\u001b[0mscore\u001b[0m\u001b[0;34m)\u001b[0m\u001b[0;34m\u001b[0m\u001b[0;34m\u001b[0m\u001b[0m\n",
            "\u001b[0;31mNameError\u001b[0m: name 'X_train_val' is not defined"
          ]
        }
      ]
    },
    {
      "cell_type": "code",
      "source": [
        "lgl = LogisticGroupLasso(\n",
        "    groups = groups,\n",
        "    group_reg = p1_opt,\n",
        "    l1_reg = p2,\n",
        "    scale_reg = \"inverse_group_size\",\n",
        "    subsampling_scheme = 1,\n",
        "    supress_warning = True)\n",
        "\n",
        "lgl.fit(X_train, y_train)"
      ],
      "metadata": {
        "colab": {
          "base_uri": "https://localhost:8080/",
          "height": 1000
        },
        "id": "BN-fA3BUOo7Y",
        "outputId": "8c9b77d5-66d6-43f2-9452-e65d9df23c85"
      },
      "execution_count": 88,
      "outputs": [
        {
          "output_type": "display_data",
          "data": {
            "text/plain": [
              "                       Coef\n",
              "Age                0.107761\n",
              "RestingBP                 -\n",
              "Cholesterol               -\n",
              "Chol_NA            0.264175\n",
              "MaxHR             -0.069495\n",
              "Oldpeak            0.292538\n",
              "Sex_F             -0.489257\n",
              "Sex_M              0.489257\n",
              "ChestPainType_ASY  1.212086\n",
              "ChestPainType_ATA -0.678103\n",
              "ChestPainType_NAP -0.457334\n",
              "ChestPainType_TA   -0.07665\n",
              "FastingBS_0       -0.350477\n",
              "FastingBS_1        0.350477\n",
              "RestingECG_LVH            -\n",
              "RestingECG_Normal         -\n",
              "RestingECG_ST             -\n",
              "ExerciseAngina_N  -0.259103\n",
              "ExerciseAngina_Y   0.259103\n",
              "ST_Slope_Down       0.17651\n",
              "ST_Slope_Flat      0.850201\n",
              "ST_Slope_Up       -1.026711"
            ],
            "text/html": [
              "\n",
              "  <div id=\"df-be79a0e4-95ba-4480-81b5-335066632706\">\n",
              "    <div class=\"colab-df-container\">\n",
              "      <div>\n",
              "<style scoped>\n",
              "    .dataframe tbody tr th:only-of-type {\n",
              "        vertical-align: middle;\n",
              "    }\n",
              "\n",
              "    .dataframe tbody tr th {\n",
              "        vertical-align: top;\n",
              "    }\n",
              "\n",
              "    .dataframe thead th {\n",
              "        text-align: right;\n",
              "    }\n",
              "</style>\n",
              "<table border=\"1\" class=\"dataframe\">\n",
              "  <thead>\n",
              "    <tr style=\"text-align: right;\">\n",
              "      <th></th>\n",
              "      <th>Coef</th>\n",
              "    </tr>\n",
              "  </thead>\n",
              "  <tbody>\n",
              "    <tr>\n",
              "      <th>Age</th>\n",
              "      <td>0.107761</td>\n",
              "    </tr>\n",
              "    <tr>\n",
              "      <th>RestingBP</th>\n",
              "      <td>-</td>\n",
              "    </tr>\n",
              "    <tr>\n",
              "      <th>Cholesterol</th>\n",
              "      <td>-</td>\n",
              "    </tr>\n",
              "    <tr>\n",
              "      <th>Chol_NA</th>\n",
              "      <td>0.264175</td>\n",
              "    </tr>\n",
              "    <tr>\n",
              "      <th>MaxHR</th>\n",
              "      <td>-0.069495</td>\n",
              "    </tr>\n",
              "    <tr>\n",
              "      <th>Oldpeak</th>\n",
              "      <td>0.292538</td>\n",
              "    </tr>\n",
              "    <tr>\n",
              "      <th>Sex_F</th>\n",
              "      <td>-0.489257</td>\n",
              "    </tr>\n",
              "    <tr>\n",
              "      <th>Sex_M</th>\n",
              "      <td>0.489257</td>\n",
              "    </tr>\n",
              "    <tr>\n",
              "      <th>ChestPainType_ASY</th>\n",
              "      <td>1.212086</td>\n",
              "    </tr>\n",
              "    <tr>\n",
              "      <th>ChestPainType_ATA</th>\n",
              "      <td>-0.678103</td>\n",
              "    </tr>\n",
              "    <tr>\n",
              "      <th>ChestPainType_NAP</th>\n",
              "      <td>-0.457334</td>\n",
              "    </tr>\n",
              "    <tr>\n",
              "      <th>ChestPainType_TA</th>\n",
              "      <td>-0.07665</td>\n",
              "    </tr>\n",
              "    <tr>\n",
              "      <th>FastingBS_0</th>\n",
              "      <td>-0.350477</td>\n",
              "    </tr>\n",
              "    <tr>\n",
              "      <th>FastingBS_1</th>\n",
              "      <td>0.350477</td>\n",
              "    </tr>\n",
              "    <tr>\n",
              "      <th>RestingECG_LVH</th>\n",
              "      <td>-</td>\n",
              "    </tr>\n",
              "    <tr>\n",
              "      <th>RestingECG_Normal</th>\n",
              "      <td>-</td>\n",
              "    </tr>\n",
              "    <tr>\n",
              "      <th>RestingECG_ST</th>\n",
              "      <td>-</td>\n",
              "    </tr>\n",
              "    <tr>\n",
              "      <th>ExerciseAngina_N</th>\n",
              "      <td>-0.259103</td>\n",
              "    </tr>\n",
              "    <tr>\n",
              "      <th>ExerciseAngina_Y</th>\n",
              "      <td>0.259103</td>\n",
              "    </tr>\n",
              "    <tr>\n",
              "      <th>ST_Slope_Down</th>\n",
              "      <td>0.17651</td>\n",
              "    </tr>\n",
              "    <tr>\n",
              "      <th>ST_Slope_Flat</th>\n",
              "      <td>0.850201</td>\n",
              "    </tr>\n",
              "    <tr>\n",
              "      <th>ST_Slope_Up</th>\n",
              "      <td>-1.026711</td>\n",
              "    </tr>\n",
              "  </tbody>\n",
              "</table>\n",
              "</div>\n",
              "      <button class=\"colab-df-convert\" onclick=\"convertToInteractive('df-be79a0e4-95ba-4480-81b5-335066632706')\"\n",
              "              title=\"Convert this dataframe to an interactive table.\"\n",
              "              style=\"display:none;\">\n",
              "        \n",
              "  <svg xmlns=\"http://www.w3.org/2000/svg\" height=\"24px\"viewBox=\"0 0 24 24\"\n",
              "       width=\"24px\">\n",
              "    <path d=\"M0 0h24v24H0V0z\" fill=\"none\"/>\n",
              "    <path d=\"M18.56 5.44l.94 2.06.94-2.06 2.06-.94-2.06-.94-.94-2.06-.94 2.06-2.06.94zm-11 1L8.5 8.5l.94-2.06 2.06-.94-2.06-.94L8.5 2.5l-.94 2.06-2.06.94zm10 10l.94 2.06.94-2.06 2.06-.94-2.06-.94-.94-2.06-.94 2.06-2.06.94z\"/><path d=\"M17.41 7.96l-1.37-1.37c-.4-.4-.92-.59-1.43-.59-.52 0-1.04.2-1.43.59L10.3 9.45l-7.72 7.72c-.78.78-.78 2.05 0 2.83L4 21.41c.39.39.9.59 1.41.59.51 0 1.02-.2 1.41-.59l7.78-7.78 2.81-2.81c.8-.78.8-2.07 0-2.86zM5.41 20L4 18.59l7.72-7.72 1.47 1.35L5.41 20z\"/>\n",
              "  </svg>\n",
              "      </button>\n",
              "      \n",
              "  <style>\n",
              "    .colab-df-container {\n",
              "      display:flex;\n",
              "      flex-wrap:wrap;\n",
              "      gap: 12px;\n",
              "    }\n",
              "\n",
              "    .colab-df-convert {\n",
              "      background-color: #E8F0FE;\n",
              "      border: none;\n",
              "      border-radius: 50%;\n",
              "      cursor: pointer;\n",
              "      display: none;\n",
              "      fill: #1967D2;\n",
              "      height: 32px;\n",
              "      padding: 0 0 0 0;\n",
              "      width: 32px;\n",
              "    }\n",
              "\n",
              "    .colab-df-convert:hover {\n",
              "      background-color: #E2EBFA;\n",
              "      box-shadow: 0px 1px 2px rgba(60, 64, 67, 0.3), 0px 1px 3px 1px rgba(60, 64, 67, 0.15);\n",
              "      fill: #174EA6;\n",
              "    }\n",
              "\n",
              "    [theme=dark] .colab-df-convert {\n",
              "      background-color: #3B4455;\n",
              "      fill: #D2E3FC;\n",
              "    }\n",
              "\n",
              "    [theme=dark] .colab-df-convert:hover {\n",
              "      background-color: #434B5C;\n",
              "      box-shadow: 0px 1px 3px 1px rgba(0, 0, 0, 0.15);\n",
              "      filter: drop-shadow(0px 1px 2px rgba(0, 0, 0, 0.3));\n",
              "      fill: #FFFFFF;\n",
              "    }\n",
              "  </style>\n",
              "\n",
              "      <script>\n",
              "        const buttonEl =\n",
              "          document.querySelector('#df-be79a0e4-95ba-4480-81b5-335066632706 button.colab-df-convert');\n",
              "        buttonEl.style.display =\n",
              "          google.colab.kernel.accessAllowed ? 'block' : 'none';\n",
              "\n",
              "        async function convertToInteractive(key) {\n",
              "          const element = document.querySelector('#df-be79a0e4-95ba-4480-81b5-335066632706');\n",
              "          const dataTable =\n",
              "            await google.colab.kernel.invokeFunction('convertToInteractive',\n",
              "                                                     [key], {});\n",
              "          if (!dataTable) return;\n",
              "\n",
              "          const docLinkHtml = 'Like what you see? Visit the ' +\n",
              "            '<a target=\"_blank\" href=https://colab.research.google.com/notebooks/data_table.ipynb>data table notebook</a>'\n",
              "            + ' to learn more about interactive tables.';\n",
              "          element.innerHTML = '';\n",
              "          dataTable['output_type'] = 'display_data';\n",
              "          await google.colab.output.renderOutput(dataTable, element);\n",
              "          const docLink = document.createElement('div');\n",
              "          docLink.innerHTML = docLinkHtml;\n",
              "          element.appendChild(docLink);\n",
              "        }\n",
              "      </script>\n",
              "    </div>\n",
              "  </div>\n",
              "  "
            ]
          },
          "metadata": {}
        },
        {
          "output_type": "display_data",
          "data": {
            "text/plain": [
              "               Group Norm\n",
              "Age              0.107761\n",
              "RestingBP               -\n",
              "Cholesterol             -\n",
              "Chol_NA          0.264175\n",
              "MaxHR            0.069495\n",
              "Oldpeak          0.292538\n",
              "Sex              0.978514\n",
              "ChestPain        2.424172\n",
              "FastingBS        0.700954\n",
              "RestingECG              -\n",
              "ExerciseAngina   0.518206\n",
              "ST_Slope         2.053422"
            ],
            "text/html": [
              "\n",
              "  <div id=\"df-87a5ef71-73e3-4896-85f0-d49e3f9ab7f3\">\n",
              "    <div class=\"colab-df-container\">\n",
              "      <div>\n",
              "<style scoped>\n",
              "    .dataframe tbody tr th:only-of-type {\n",
              "        vertical-align: middle;\n",
              "    }\n",
              "\n",
              "    .dataframe tbody tr th {\n",
              "        vertical-align: top;\n",
              "    }\n",
              "\n",
              "    .dataframe thead th {\n",
              "        text-align: right;\n",
              "    }\n",
              "</style>\n",
              "<table border=\"1\" class=\"dataframe\">\n",
              "  <thead>\n",
              "    <tr style=\"text-align: right;\">\n",
              "      <th></th>\n",
              "      <th>Group Norm</th>\n",
              "    </tr>\n",
              "  </thead>\n",
              "  <tbody>\n",
              "    <tr>\n",
              "      <th>Age</th>\n",
              "      <td>0.107761</td>\n",
              "    </tr>\n",
              "    <tr>\n",
              "      <th>RestingBP</th>\n",
              "      <td>-</td>\n",
              "    </tr>\n",
              "    <tr>\n",
              "      <th>Cholesterol</th>\n",
              "      <td>-</td>\n",
              "    </tr>\n",
              "    <tr>\n",
              "      <th>Chol_NA</th>\n",
              "      <td>0.264175</td>\n",
              "    </tr>\n",
              "    <tr>\n",
              "      <th>MaxHR</th>\n",
              "      <td>0.069495</td>\n",
              "    </tr>\n",
              "    <tr>\n",
              "      <th>Oldpeak</th>\n",
              "      <td>0.292538</td>\n",
              "    </tr>\n",
              "    <tr>\n",
              "      <th>Sex</th>\n",
              "      <td>0.978514</td>\n",
              "    </tr>\n",
              "    <tr>\n",
              "      <th>ChestPain</th>\n",
              "      <td>2.424172</td>\n",
              "    </tr>\n",
              "    <tr>\n",
              "      <th>FastingBS</th>\n",
              "      <td>0.700954</td>\n",
              "    </tr>\n",
              "    <tr>\n",
              "      <th>RestingECG</th>\n",
              "      <td>-</td>\n",
              "    </tr>\n",
              "    <tr>\n",
              "      <th>ExerciseAngina</th>\n",
              "      <td>0.518206</td>\n",
              "    </tr>\n",
              "    <tr>\n",
              "      <th>ST_Slope</th>\n",
              "      <td>2.053422</td>\n",
              "    </tr>\n",
              "  </tbody>\n",
              "</table>\n",
              "</div>\n",
              "      <button class=\"colab-df-convert\" onclick=\"convertToInteractive('df-87a5ef71-73e3-4896-85f0-d49e3f9ab7f3')\"\n",
              "              title=\"Convert this dataframe to an interactive table.\"\n",
              "              style=\"display:none;\">\n",
              "        \n",
              "  <svg xmlns=\"http://www.w3.org/2000/svg\" height=\"24px\"viewBox=\"0 0 24 24\"\n",
              "       width=\"24px\">\n",
              "    <path d=\"M0 0h24v24H0V0z\" fill=\"none\"/>\n",
              "    <path d=\"M18.56 5.44l.94 2.06.94-2.06 2.06-.94-2.06-.94-.94-2.06-.94 2.06-2.06.94zm-11 1L8.5 8.5l.94-2.06 2.06-.94-2.06-.94L8.5 2.5l-.94 2.06-2.06.94zm10 10l.94 2.06.94-2.06 2.06-.94-2.06-.94-.94-2.06-.94 2.06-2.06.94z\"/><path d=\"M17.41 7.96l-1.37-1.37c-.4-.4-.92-.59-1.43-.59-.52 0-1.04.2-1.43.59L10.3 9.45l-7.72 7.72c-.78.78-.78 2.05 0 2.83L4 21.41c.39.39.9.59 1.41.59.51 0 1.02-.2 1.41-.59l7.78-7.78 2.81-2.81c.8-.78.8-2.07 0-2.86zM5.41 20L4 18.59l7.72-7.72 1.47 1.35L5.41 20z\"/>\n",
              "  </svg>\n",
              "      </button>\n",
              "      \n",
              "  <style>\n",
              "    .colab-df-container {\n",
              "      display:flex;\n",
              "      flex-wrap:wrap;\n",
              "      gap: 12px;\n",
              "    }\n",
              "\n",
              "    .colab-df-convert {\n",
              "      background-color: #E8F0FE;\n",
              "      border: none;\n",
              "      border-radius: 50%;\n",
              "      cursor: pointer;\n",
              "      display: none;\n",
              "      fill: #1967D2;\n",
              "      height: 32px;\n",
              "      padding: 0 0 0 0;\n",
              "      width: 32px;\n",
              "    }\n",
              "\n",
              "    .colab-df-convert:hover {\n",
              "      background-color: #E2EBFA;\n",
              "      box-shadow: 0px 1px 2px rgba(60, 64, 67, 0.3), 0px 1px 3px 1px rgba(60, 64, 67, 0.15);\n",
              "      fill: #174EA6;\n",
              "    }\n",
              "\n",
              "    [theme=dark] .colab-df-convert {\n",
              "      background-color: #3B4455;\n",
              "      fill: #D2E3FC;\n",
              "    }\n",
              "\n",
              "    [theme=dark] .colab-df-convert:hover {\n",
              "      background-color: #434B5C;\n",
              "      box-shadow: 0px 1px 3px 1px rgba(0, 0, 0, 0.15);\n",
              "      filter: drop-shadow(0px 1px 2px rgba(0, 0, 0, 0.3));\n",
              "      fill: #FFFFFF;\n",
              "    }\n",
              "  </style>\n",
              "\n",
              "      <script>\n",
              "        const buttonEl =\n",
              "          document.querySelector('#df-87a5ef71-73e3-4896-85f0-d49e3f9ab7f3 button.colab-df-convert');\n",
              "        buttonEl.style.display =\n",
              "          google.colab.kernel.accessAllowed ? 'block' : 'none';\n",
              "\n",
              "        async function convertToInteractive(key) {\n",
              "          const element = document.querySelector('#df-87a5ef71-73e3-4896-85f0-d49e3f9ab7f3');\n",
              "          const dataTable =\n",
              "            await google.colab.kernel.invokeFunction('convertToInteractive',\n",
              "                                                     [key], {});\n",
              "          if (!dataTable) return;\n",
              "\n",
              "          const docLinkHtml = 'Like what you see? Visit the ' +\n",
              "            '<a target=\"_blank\" href=https://colab.research.google.com/notebooks/data_table.ipynb>data table notebook</a>'\n",
              "            + ' to learn more about interactive tables.';\n",
              "          element.innerHTML = '';\n",
              "          dataTable['output_type'] = 'display_data';\n",
              "          await google.colab.output.renderOutput(dataTable, element);\n",
              "          const docLink = document.createElement('div');\n",
              "          docLink.innerHTML = docLinkHtml;\n",
              "          element.appendChild(docLink);\n",
              "        }\n",
              "      </script>\n",
              "    </div>\n",
              "  </div>\n",
              "  "
            ]
          },
          "metadata": {}
        }
      ]
    },
    {
      "cell_type": "markdown",
      "source": [
        "Model summary"
      ],
      "metadata": {
        "id": "KXLz4b3eXSCZ"
      }
    },
    {
      "cell_type": "code",
      "source": [
        "coeffs = lgl.coef_[:, 1] - lgl.coef_[:, 0]\n",
        "coeffs = pd.DataFrame(coeffs, index=ft_names)\n",
        "coeffs.columns = [\"Coef\"]\n",
        "\n",
        "# examine group norms\n",
        "group_norms = np.array([[np.nan]]*n_groups)\n",
        "for i in range(n_groups):\n",
        "  group_coeffs = coeffs.loc[groups==i,:].values\n",
        "  group_norms[i,:] = np.linalg.norm(group_coeffs, ord=1)\n",
        "\n",
        "group_norms = pd.DataFrame(group_norms,\n",
        "                           index=group_names, columns=[\"Group Norm\"])\n",
        "\n",
        "# print result\n",
        "coeffs.replace(0, \"-\", inplace=True)\n",
        "group_norms.replace(0, \"-\", inplace=True)\n",
        "display(coeffs)\n",
        "display(group_norms)"
      ],
      "metadata": {
        "id": "7tXnJcz1XQlv"
      },
      "execution_count": null,
      "outputs": []
    },
    {
      "cell_type": "markdown",
      "source": [
        "Since continuous predictors have been standardized, their coefficients are to be interpreted as the effect of a 1 standard deviation increase of the variable on the log-odds of having heart disease, which are the following:"
      ],
      "metadata": {
        "id": "Okg2gDbS9MjJ"
      }
    },
    {
      "cell_type": "code",
      "source": [
        "train_val_data.loc[:,cont_fts].std()"
      ],
      "metadata": {
        "colab": {
          "base_uri": "https://localhost:8080/"
        },
        "id": "A000F4Y9Anom",
        "outputId": "0bd7e7b6-77ec-48b0-afe0-18fc05afd282"
      },
      "execution_count": 20,
      "outputs": [
        {
          "output_type": "execute_result",
          "data": {
            "text/plain": [
              "Age             9.421110\n",
              "RestingBP      18.618490\n",
              "Cholesterol    50.802178\n",
              "MaxHR          25.334552\n",
              "Oldpeak         1.082222\n",
              "dtype: float64"
            ]
          },
          "metadata": {},
          "execution_count": 20
        }
      ]
    },
    {
      "cell_type": "markdown",
      "source": [
        "Model performance"
      ],
      "metadata": {
        "id": "QWP-qpsNW7Pn"
      }
    },
    {
      "cell_type": "code",
      "source": [
        "y_pred = lgl.predict(X_test)"
      ],
      "metadata": {
        "id": "tWGxMiSaXrwe"
      },
      "execution_count": 89,
      "outputs": []
    },
    {
      "cell_type": "code",
      "source": [
        "from sklearn.metrics import classification_report\n",
        "from sklearn.metrics import confusion_matrix\n",
        "\n",
        "print(classification_report(y_true=y_test, y_pred=y_pred, target_names=[\"HD=1\", \"HD=0\"]))\n",
        "\n",
        "conf_mat = confusion_matrix(y_true=y_test, y_pred=y_pred)\n",
        "sn.heatmap(conf_mat, annot=True)"
      ],
      "metadata": {
        "colab": {
          "base_uri": "https://localhost:8080/",
          "height": 444
        },
        "id": "TFy-ZHDIXACf",
        "outputId": "d5623a4d-596b-44d4-dd5f-42df9eb35b54"
      },
      "execution_count": 101,
      "outputs": [
        {
          "output_type": "stream",
          "name": "stdout",
          "text": [
            "              precision    recall  f1-score   support\n",
            "\n",
            "        HD=1       0.85      0.88      0.87       100\n",
            "        HD=0       0.90      0.88      0.89       121\n",
            "\n",
            "    accuracy                           0.88       221\n",
            "   macro avg       0.88      0.88      0.88       221\n",
            "weighted avg       0.88      0.88      0.88       221\n",
            "\n"
          ]
        },
        {
          "output_type": "execute_result",
          "data": {
            "text/plain": [
              "<AxesSubplot:>"
            ]
          },
          "metadata": {},
          "execution_count": 101
        },
        {
          "output_type": "display_data",
          "data": {
            "text/plain": [
              "<Figure size 432x288 with 2 Axes>"
            ],
            "image/png": "[encoded data removed]"
          },
          "metadata": {
            "needs_background": "light"
          }
        }
      ]
    },
    {
      "cell_type": "markdown",
      "source": [
        "Lastly, we note that Lasso selects only variables which are relevant for prediction, but that there is no guarantee of it identifying the *causal* variables. In our case, ..."
      ],
      "metadata": {
        "id": "Et9LFzxh2xTi"
      }
    },
    {
      "cell_type": "code",
      "source": [],
      "metadata": {
        "id": "7u0LE0NjukYe"
      },
      "execution_count": null,
      "outputs": []
    }
  ]
}