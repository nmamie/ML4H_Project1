{
  "nbformat": 4,
  "nbformat_minor": 0,
  "metadata": {
    "colab": {
      "provenance": [],
      "mount_file_id": "19FJ8nAwBIEtb-jcinl3y4FgqOTrI-hrx",
      "authorship_tag": "ABX9TyNkWu6lN4Z0p7IqKOADIb+Y",
      "include_colab_link": true
    },
    "kernelspec": {
      "name": "python3",
      "display_name": "Python 3"
    },
    "language_info": {
      "name": "python"
    }
  },
  "cells": [
    {
      "cell_type": "markdown",
      "metadata": {
        "id": "view-in-github",
        "colab_type": "text"
      },
      "source": [
        "<a href=\"https://colab.research.google.com/github/nmamie/ML4H_Project1/blob/master/ML4H_Project1_Task1.ipynb\" target=\"_parent\"><img src=\"https://colab.research.google.com/assets/colab-badge.svg\" alt=\"Open In Colab\"/></a>"
      ]
    },
    {
      "cell_type": "markdown",
      "source": [
        "# **Part 1: Heart Disease Prediction**"
      ],
      "metadata": {
        "id": "TK2Dt7SVT_8N"
      }
    },
    {
      "cell_type": "markdown",
      "source": [
        "## **Preparation**"
      ],
      "metadata": {
        "id": "GRVbVTTFTyBH"
      }
    },
    {
      "cell_type": "code",
      "source": [
        "## basic packages\n",
        "import pandas as pd\n",
        "import numpy as np\n",
        "from IPython.display import display"
      ],
      "metadata": {
        "id": "xLNTfpfuRWnx"
      },
      "execution_count": 1,
      "outputs": []
    },
    {
      "cell_type": "code",
      "source": [
        "## setup\n",
        "import warnings\n",
        "warnings.filterwarnings(\"ignore\")\n",
        "\n",
        "path = \"/content/drive/MyDrive/1) ETH/3) ML in Healthcare/5) Assignments/Project 1/Data Heart Failure/\""
      ],
      "metadata": {
        "id": "QGJx9k5nRovi"
      },
      "execution_count": 2,
      "outputs": []
    },
    {
      "cell_type": "code",
      "execution_count": 3,
      "metadata": {
        "id": "5TJxcCzHPAcV"
      },
      "outputs": [],
      "source": [
        "## data import\n",
        "train_val_data = pd.read_csv(path + \"train_val_split.csv\")\n",
        "test_data = pd.read_csv(path + \"test_split.csv\")"
      ]
    },
    {
      "cell_type": "markdown",
      "source": [
        "## **Q1: Exploratory Data Analysis**"
      ],
      "metadata": {
        "id": "qG74Ts2UUJjj"
      }
    },
    {
      "cell_type": "code",
      "source": [
        "## check dataset sample size & dimensionality\n",
        "n = len(train_val_data)\n",
        "p = len(train_val_data.columns)\n",
        "print(\"No. of samples:  \", n)\n",
        "print(\"No. of features: \", p)"
      ],
      "metadata": {
        "colab": {
          "base_uri": "https://localhost:8080/"
        },
        "id": "u8e83pbjfdJS",
        "outputId": "776c100c-f07e-49ef-8c77-9c49223e06ee"
      },
      "execution_count": 4,
      "outputs": [
        {
          "output_type": "stream",
          "name": "stdout",
          "text": [
            "No. of samples:   734\n",
            "No. of features:  12\n"
          ]
        }
      ]
    },
    {
      "cell_type": "code",
      "source": [
        "## check for missing data\n",
        "train_val_data.isnull().sum()"
      ],
      "metadata": {
        "colab": {
          "base_uri": "https://localhost:8080/"
        },
        "id": "BXqOE40SyJk5",
        "outputId": "4f053f23-773d-4002-c991-efce385f7c60"
      },
      "execution_count": 5,
      "outputs": [
        {
          "output_type": "execute_result",
          "data": {
            "text/plain": [
              "Age               0\n",
              "Sex               0\n",
              "ChestPainType     0\n",
              "RestingBP         0\n",
              "Cholesterol       0\n",
              "FastingBS         0\n",
              "RestingECG        0\n",
              "MaxHR             0\n",
              "ExerciseAngina    0\n",
              "Oldpeak           0\n",
              "ST_Slope          0\n",
              "HeartDisease      0\n",
              "dtype: int64"
            ]
          },
          "metadata": {},
          "execution_count": 5
        }
      ]
    },
    {
      "cell_type": "markdown",
      "source": [
        "**Conclusions:**\n",
        "*   We have significantly more observations than variables. Hence, no further problems arise.\n",
        "*   There are no missing values.\n",
        "\n",
        "**Implications:**\n",
        "*   None"
      ],
      "metadata": {
        "id": "QrzewBu0yZ6Q"
      }
    },
    {
      "cell_type": "code",
      "source": [
        "## explore feature data types\n",
        "train_val_data.dtypes"
      ],
      "metadata": {
        "colab": {
          "base_uri": "https://localhost:8080/"
        },
        "id": "oqtccc8WWnVi",
        "outputId": "131105ad-a86e-490d-867d-494c782182ad"
      },
      "execution_count": 6,
      "outputs": [
        {
          "output_type": "execute_result",
          "data": {
            "text/plain": [
              "Age                 int64\n",
              "Sex                object\n",
              "ChestPainType      object\n",
              "RestingBP           int64\n",
              "Cholesterol         int64\n",
              "FastingBS           int64\n",
              "RestingECG         object\n",
              "MaxHR               int64\n",
              "ExerciseAngina     object\n",
              "Oldpeak           float64\n",
              "ST_Slope           object\n",
              "HeartDisease        int64\n",
              "dtype: object"
            ]
          },
          "metadata": {},
          "execution_count": 6
        }
      ]
    },
    {
      "cell_type": "markdown",
      "source": [
        "Purely for plotting, we change the types of *FastingBS* and *HeartDisease* from \"integer\" to \"object\" in the following. This is changed back later."
      ],
      "metadata": {
        "id": "Sw4QF0LUy6_x"
      }
    },
    {
      "cell_type": "code",
      "source": [
        "train_val_data.loc[:,\"FastingBS\"] = train_val_data.loc[:,\"FastingBS\"].astype(\"object\")\n",
        "train_val_data.loc[:,\"HeartDisease\"] = train_val_data.loc[:,\"HeartDisease\"].astype(\"object\")"
      ],
      "metadata": {
        "id": "u7rJOKKdivoc"
      },
      "execution_count": 7,
      "outputs": []
    },
    {
      "cell_type": "code",
      "source": [
        "## explore distributions of continuous & categorical features\n",
        "import seaborn as sn\n",
        "import matplotlib.pyplot as plt\n",
        "\n",
        "for ft in range(p):\n",
        "  plt.figure()\n",
        "  values = train_val_data.iloc[:,ft]\n",
        "  if train_val_data.dtypes[ft]==\"object\":\n",
        "    # histogram\n",
        "    distr = sn.countplot(values)\n",
        "    print(distr)\n",
        "  else:\n",
        "    # histogram\n",
        "    distr = sn.histplot(values)\n",
        "    print(distr)\n",
        "\n",
        "    # boxplot\n",
        "    plt.figure()\n",
        "    boxplt = sn.boxplot(values)\n",
        "    print(boxplt)"
      ],
      "metadata": {
        "colab": {
          "base_uri": "https://localhost:8080/",
          "height": 1000
        },
        "id": "qz3Gn7sJX1pp",
        "outputId": "7629c3f0-8f9a-4d26-ed44-e640b0bdfdb3"
      },
      "execution_count": 8,
      "outputs": [
        {
          "output_type": "stream",
          "name": "stdout",
          "text": [
            "AxesSubplot(0.125,0.125;0.775x0.755)\n",
            "AxesSubplot(0.125,0.125;0.775x0.755)\n",
            "AxesSubplot(0.125,0.125;0.775x0.755)\n",
            "AxesSubplot(0.125,0.125;0.775x0.755)\n",
            "AxesSubplot(0.125,0.125;0.775x0.755)\n",
            "AxesSubplot(0.125,0.125;0.775x0.755)\n",
            "AxesSubplot(0.125,0.125;0.775x0.755)\n",
            "AxesSubplot(0.125,0.125;0.775x0.755)\n",
            "AxesSubplot(0.125,0.125;0.775x0.755)\n",
            "AxesSubplot(0.125,0.125;0.775x0.755)\n",
            "AxesSubplot(0.125,0.125;0.775x0.755)\n",
            "AxesSubplot(0.125,0.125;0.775x0.755)\n",
            "AxesSubplot(0.125,0.125;0.775x0.755)\n",
            "AxesSubplot(0.125,0.125;0.775x0.755)\n",
            "AxesSubplot(0.125,0.125;0.775x0.755)\n",
            "AxesSubplot(0.125,0.125;0.775x0.755)\n",
            "AxesSubplot(0.125,0.125;0.775x0.755)\n"
          ]
        },
        {
          "output_type": "display_data",
          "data": {
            "text/plain": [
              "<Figure size 432x288 with 1 Axes>"
            ],
            "image/png": "[encoded data removed]"
          },
          "metadata": {
            "needs_background": "light"
          }
        },
        {
          "output_type": "display_data",
          "data": {
            "text/plain": [
              "<Figure size 432x288 with 1 Axes>"
            ],
            "image/png": "[encoded data removed]"
          },
          "metadata": {
            "needs_background": "light"
          }
        },
        {
          "output_type": "display_data",
          "data": {
            "text/plain": [
              "<Figure size 432x288 with 1 Axes>"
            ],
            "image/png": "[encoded data removed]"
          },
          "metadata": {
            "needs_background": "light"
          }
        },
        {
          "output_type": "display_data",
          "data": {
            "text/plain": [
              "<Figure size 432x288 with 1 Axes>"
            ],
            "image/png": "[encoded data removed]"
          },
          "metadata": {
            "needs_background": "light"
          }
        },
        {
          "output_type": "display_data",
          "data": {
            "text/plain": [
              "<Figure size 432x288 with 1 Axes>"
            ],
            "image/png": "[encoded data removed]"
          },
          "metadata": {
            "needs_background": "light"
          }
        },
        {
          "output_type": "display_data",
          "data": {
            "text/plain": [
              "<Figure size 432x288 with 1 Axes>"
            ],
            "image/png": "[encoded data removed]"
          },
          "metadata": {
            "needs_background": "light"
          }
        },
        {
          "output_type": "display_data",
          "data": {
            "text/plain": [
              "<Figure size 432x288 with 1 Axes>"
            ],
            "image/png": "[encoded data removed]"
          },
          "metadata": {
            "needs_background": "light"
          }
        },
        {
          "output_type": "display_data",
          "data": {
            "text/plain": [
              "<Figure size 432x288 with 1 Axes>"
            ],
            "image/png": "[encoded data removed]"
          },
          "metadata": {
            "needs_background": "light"
          }
        },
        {
          "output_type": "display_data",
          "data": {
            "text/plain": [
              "<Figure size 432x288 with 1 Axes>"
            ],
            "image/png": "[encoded data removed]"
          },
          "metadata": {
            "needs_background": "light"
          }
        },
        {
          "output_type": "display_data",
          "data": {
            "text/plain": [
              "<Figure size 432x288 with 1 Axes>"
            ],
            "image/png": "[encoded data removed]"
          },
          "metadata": {
            "needs_background": "light"
          }
        },
        {
          "output_type": "display_data",
          "data": {
            "text/plain": [
              "<Figure size 432x288 with 1 Axes>"
            ],
            "image/png": "[encoded data removed]"
          },
          "metadata": {
            "needs_background": "light"
          }
        },
        {
          "output_type": "display_data",
          "data": {
            "text/plain": [
              "<Figure size 432x288 with 1 Axes>"
            ],
            "image/png": "[encoded data removed]"
          },
          "metadata": {
            "needs_background": "light"
          }
        },
        {
          "output_type": "display_data",
          "data": {
            "text/plain": [
              "<Figure size 432x288 with 1 Axes>"
            ],
            "image/png": "[encoded data removed]"
          },
          "metadata": {
            "needs_background": "light"
          }
        },
        {
          "output_type": "display_data",
          "data": {
            "text/plain": [
              "<Figure size 432x288 with 1 Axes>"
            ],
            "image/png": "[encoded data removed]"
          },
          "metadata": {
            "needs_background": "light"
          }
        },
        {
          "output_type": "display_data",
          "data": {
            "text/plain": [
              "<Figure size 432x288 with 1 Axes>"
            ],
            "image/png": "[encoded data removed]"
          },
          "metadata": {
            "needs_background": "light"
          }
        },
        {
          "output_type": "display_data",
          "data": {
            "text/plain": [
              "<Figure size 432x288 with 1 Axes>"
            ],
            "image/png": "[encoded data removed]"
          },
          "metadata": {
            "needs_background": "light"
          }
        },
        {
          "output_type": "display_data",
          "data": {
            "text/plain": [
              "<Figure size 432x288 with 1 Axes>"
            ],
            "image/png": "[encoded data removed]"
          },
          "metadata": {
            "needs_background": "light"
          }
        }
      ]
    },
    {
      "cell_type": "markdown",
      "source": [
        "**Conclusions:**\n",
        "\n",
        "1.   Some features are categorical, i.e. lack interpretability of differences in or ordering of their values.\n",
        "2.   The dataset is imbalanced w.r.t. a couple of features, incl. *sex*, *chest pain type*, and *fasting blood sugar*. Importantly, however, the dataset is balanced w.r.t. the outcome variable, *heart disease*.\n",
        "3.   *Cholesterol:* Many values of are exactly 0. Since virtually all values above 0 are >100, this seems highly unrealistic. Instead, we interpret this as missing values.\n",
        "4.   *RestingBP:* There exist an observation with resting blood pressure of 0, which seems equally unrealistic. \n",
        "\n",
        "**Implications:**\n",
        "\n",
        "1.   Create dummy variables or use one-hot encoding for the respective features.\n",
        "2.  ...\n",
        "3.   Since there are many observations with this anomaly, create a dummy variable indicating whether a patient's cholesterol measurement is missing or not.\n",
        "4.   Since there is only 1 observation with this anomaly, "
      ],
      "metadata": {
        "id": "dJioDLSVkOGh"
      }
    },
    {
      "cell_type": "markdown",
      "source": [
        "## Analysis of Dependencies"
      ],
      "metadata": {
        "id": "XR2IjiGfbuDJ"
      }
    },
    {
      "cell_type": "markdown",
      "source": [
        "To examine dependencies, we convert binary & categorical variables to dummy variables, and mark cholesterol levels of 0 as missing. Note the definition of the \"default\" values of categorical features:\n",
        "*   *HeartDisease:* 0\n",
        "*   *Sex*: M\n",
        "*   *ChestPainType:* ASY\n",
        "*   *FastingBS:* 0\n",
        "*   *RestingECG:* Normal\n",
        "*   *ExerciseAngina:* N\n",
        "*   *ST_Slope:* Flat"
      ],
      "metadata": {
        "id": "q4K0s-Ol3Lwc"
      }
    },
    {
      "cell_type": "code",
      "source": [
        "## turn non-numerical variables into dummy variables\n",
        "from sklearn.preprocessing import OneHotEncoder\n",
        "\n",
        "cat_fts = train_val_data.select_dtypes(include=['object'])\n",
        "cat_fts.drop([\"HeartDisease\"], axis=1, inplace=True)\n",
        "cont_fts = train_val_data.select_dtypes(exclude=['object'])\n",
        "\n",
        "enc = OneHotEncoder(drop=None, sparse=False)\n",
        "cat_fts_trans = enc.fit_transform(cat_fts)\n",
        "cat_fts_trans = pd.DataFrame(cat_fts_trans)\n",
        "cat_fts_names = enc.get_feature_names_out()\n",
        "cat_fts_trans.set_axis(cat_fts_names, axis=1, inplace=True)\n",
        "\n",
        "train_val_data = pd.concat([train_val_data.loc[:,\"HeartDisease\"], cont_fts, cat_fts_trans], axis=1)"
      ],
      "metadata": {
        "id": "msl17fVzlZk3"
      },
      "execution_count": 9,
      "outputs": []
    },
    {
      "cell_type": "code",
      "source": [
        "## if cholesterol = 0, then impute mean and set dummy to 1\n",
        "train_val_data.loc[:,\"Cholesterol\"].replace(to_replace=0, value=np.nan, inplace=True)\n",
        "train_val_data.insert(loc=4, column=\"Chol_NA\", value=train_val_data.loc[:,\"Cholesterol\"].isna()*1)\n",
        "\n",
        "from sklearn.impute import SimpleImputer\n",
        "imputer = SimpleImputer(strategy=\"mean\")\n",
        "train_val_data = pd.DataFrame(\n",
        "    imputer.fit_transform(train_val_data),\n",
        "    columns = train_val_data.columns)"
      ],
      "metadata": {
        "id": "EfoR5M6x1lmT"
      },
      "execution_count": 10,
      "outputs": []
    },
    {
      "cell_type": "code",
      "source": [
        "# df w/o default variable values (reduced)\n",
        "default_vars = [\"Sex_M\",\n",
        "                \"ChestPainType_ASY\",\n",
        "                \"FastingBS_0\",\n",
        "                \"RestingECG_Normal\",\n",
        "                \"ExerciseAngina_N\",\n",
        "                \"ST_Slope_Flat\"]\n",
        "train_val_data_red = train_val_data.drop(default_vars, axis=1, inplace=False)\n",
        "\n",
        "## rename self-explanatory binary features\n",
        "train_val_data_red.rename(columns={\"FastingBS_1\": \"FastingBS\",\n",
        "                                   \"ExerciseAngina_Y\": \"ExerciseAngina\"}, inplace=True)"
      ],
      "metadata": {
        "id": "MVKp4xzoe64M"
      },
      "execution_count": 11,
      "outputs": []
    },
    {
      "cell_type": "markdown",
      "source": [
        "We compute rank correlations between non-categorical variables, since these cann capture also non-linear (monotonic) dependence structures. In case of binary variables (which includes the outcome variable *HeartDisease*), it corresponds to linear correlation."
      ],
      "metadata": {
        "id": "MQcx7cLPb6y7"
      }
    },
    {
      "cell_type": "code",
      "source": [
        "## compute rank correlations\n",
        "rk_corr = train_val_data_red.corr(method=\"spearman\")\n",
        "print(\"Rank correlation:\")\n",
        "display(plt.matshow(rk_corr))"
      ],
      "metadata": {
        "colab": {
          "base_uri": "https://localhost:8080/",
          "height": 311
        },
        "id": "Y3cKuVeXzej5",
        "outputId": "07e924fe-cc3a-4d59-ce84-d8e12aa7a6de"
      },
      "execution_count": 12,
      "outputs": [
        {
          "output_type": "stream",
          "name": "stdout",
          "text": [
            "Rank correlation:\n"
          ]
        },
        {
          "output_type": "display_data",
          "data": {
            "text/plain": [
              "<matplotlib.image.AxesImage at 0x7f904fd9f160>"
            ]
          },
          "metadata": {}
        },
        {
          "output_type": "display_data",
          "data": {
            "text/plain": [
              "<Figure size 288x288 with 1 Axes>"
            ],
            "image/png": "[encoded data removed]"
          },
          "metadata": {
            "needs_background": "light"
          }
        }
      ]
    },
    {
      "cell_type": "code",
      "source": [
        "## significant rank correlations (|r|>0.4)\n",
        "sig_corr = rk_corr[abs(rk_corr)>0.4]\n",
        "sig_corr.replace(np.nan, \"-\", inplace=True)\n",
        "sig_corr"
      ],
      "metadata": {
        "colab": {
          "base_uri": "https://localhost:8080/",
          "height": 646
        },
        "id": "yA7w9KQu6FcO",
        "outputId": "3bc94e63-cde9-4e03-96a2-486fda121088"
      },
      "execution_count": 13,
      "outputs": [
        {
          "output_type": "execute_result",
          "data": {
            "text/plain": [
              "                  HeartDisease  Age RestingBP Cholesterol Chol_NA     MaxHR  \\\n",
              "HeartDisease               1.0    -         -           -       - -0.413251   \n",
              "Age                          -  1.0         -           -       -         -   \n",
              "RestingBP                    -    -       1.0           -       -         -   \n",
              "Cholesterol                  -    -         -         1.0       -         -   \n",
              "Chol_NA                      -    -         -           -     1.0         -   \n",
              "MaxHR                -0.413251    -         -           -       -       1.0   \n",
              "Oldpeak               0.436762    -         -           -       -         -   \n",
              "Sex_F                        -    -         -           -       -         -   \n",
              "ChestPainType_ATA     -0.42536    -         -           -       -         -   \n",
              "ChestPainType_NAP            -    -         -           -       -         -   \n",
              "ChestPainType_TA             -    -         -           -       -         -   \n",
              "FastingBS                    -    -         -           -       -         -   \n",
              "RestingECG_LVH               -    -         -           -       -         -   \n",
              "RestingECG_ST                -    -         -           -       -         -   \n",
              "ExerciseAngina        0.502205    -         -           -       - -0.410103   \n",
              "ST_Slope_Down                -    -         -           -       -         -   \n",
              "ST_Slope_Up          -0.631526    -         -           -       -         -   \n",
              "\n",
              "                    Oldpeak Sex_F ChestPainType_ATA ChestPainType_NAP  \\\n",
              "HeartDisease       0.436762     -          -0.42536                 -   \n",
              "Age                       -     -                 -                 -   \n",
              "RestingBP                 -     -                 -                 -   \n",
              "Cholesterol               -     -                 -                 -   \n",
              "Chol_NA                   -     -                 -                 -   \n",
              "MaxHR                     -     -                 -                 -   \n",
              "Oldpeak                 1.0     -                 -                 -   \n",
              "Sex_F                     -   1.0                 -                 -   \n",
              "ChestPainType_ATA         -     -               1.0                 -   \n",
              "ChestPainType_NAP         -     -                 -               1.0   \n",
              "ChestPainType_TA          -     -                 -                 -   \n",
              "FastingBS                 -     -                 -                 -   \n",
              "RestingECG_LVH            -     -                 -                 -   \n",
              "RestingECG_ST             -     -                 -                 -   \n",
              "ExerciseAngina     0.417747     -                 -                 -   \n",
              "ST_Slope_Down             -     -                 -                 -   \n",
              "ST_Slope_Up       -0.502399     -                 -                 -   \n",
              "\n",
              "                  ChestPainType_TA FastingBS RestingECG_LVH RestingECG_ST  \\\n",
              "HeartDisease                     -         -              -             -   \n",
              "Age                              -         -              -             -   \n",
              "RestingBP                        -         -              -             -   \n",
              "Cholesterol                      -         -              -             -   \n",
              "Chol_NA                          -         -              -             -   \n",
              "MaxHR                            -         -              -             -   \n",
              "Oldpeak                          -         -              -             -   \n",
              "Sex_F                            -         -              -             -   \n",
              "ChestPainType_ATA                -         -              -             -   \n",
              "ChestPainType_NAP                -         -              -             -   \n",
              "ChestPainType_TA               1.0         -              -             -   \n",
              "FastingBS                        -       1.0              -             -   \n",
              "RestingECG_LVH                   -         -            1.0             -   \n",
              "RestingECG_ST                    -         -              -           1.0   \n",
              "ExerciseAngina                   -         -              -             -   \n",
              "ST_Slope_Down                    -         -              -             -   \n",
              "ST_Slope_Up                      -         -              -             -   \n",
              "\n",
              "                  ExerciseAngina ST_Slope_Down ST_Slope_Up  \n",
              "HeartDisease            0.502205             -   -0.631526  \n",
              "Age                            -             -           -  \n",
              "RestingBP                      -             -           -  \n",
              "Cholesterol                    -             -           -  \n",
              "Chol_NA                        -             -           -  \n",
              "MaxHR                  -0.410103             -           -  \n",
              "Oldpeak                 0.417747             -   -0.502399  \n",
              "Sex_F                          -             -           -  \n",
              "ChestPainType_ATA              -             -           -  \n",
              "ChestPainType_NAP              -             -           -  \n",
              "ChestPainType_TA               -             -           -  \n",
              "FastingBS                      -             -           -  \n",
              "RestingECG_LVH                 -             -           -  \n",
              "RestingECG_ST                  -             -           -  \n",
              "ExerciseAngina               1.0             -   -0.461507  \n",
              "ST_Slope_Down                  -           1.0           -  \n",
              "ST_Slope_Up            -0.461507             -         1.0  "
            ],
            "text/html": [
              "\n",
              "  <div id=\"df-cdde9d85-81ab-4b9c-a9c1-4c74d6ed9cf3\">\n",
              "    <div class=\"colab-df-container\">\n",
              "      <div>\n",
              "<style scoped>\n",
              "    .dataframe tbody tr th:only-of-type {\n",
              "        vertical-align: middle;\n",
              "    }\n",
              "\n",
              "    .dataframe tbody tr th {\n",
              "        vertical-align: top;\n",
              "    }\n",
              "\n",
              "    .dataframe thead th {\n",
              "        text-align: right;\n",
              "    }\n",
              "</style>\n",
              "<table border=\"1\" class=\"dataframe\">\n",
              "  <thead>\n",
              "    <tr style=\"text-align: right;\">\n",
              "      <th></th>\n",
              "      <th>HeartDisease</th>\n",
              "      <th>Age</th>\n",
              "      <th>RestingBP</th>\n",
              "      <th>Cholesterol</th>\n",
              "      <th>Chol_NA</th>\n",
              "      <th>MaxHR</th>\n",
              "      <th>Oldpeak</th>\n",
              "      <th>Sex_F</th>\n",
              "      <th>ChestPainType_ATA</th>\n",
              "      <th>ChestPainType_NAP</th>\n",
              "      <th>ChestPainType_TA</th>\n",
              "      <th>FastingBS</th>\n",
              "      <th>RestingECG_LVH</th>\n",
              "      <th>RestingECG_ST</th>\n",
              "      <th>ExerciseAngina</th>\n",
              "      <th>ST_Slope_Down</th>\n",
              "      <th>ST_Slope_Up</th>\n",
              "    </tr>\n",
              "  </thead>\n",
              "  <tbody>\n",
              "    <tr>\n",
              "      <th>HeartDisease</th>\n",
              "      <td>1.0</td>\n",
              "      <td>-</td>\n",
              "      <td>-</td>\n",
              "      <td>-</td>\n",
              "      <td>-</td>\n",
              "      <td>-0.413251</td>\n",
              "      <td>0.436762</td>\n",
              "      <td>-</td>\n",
              "      <td>-0.42536</td>\n",
              "      <td>-</td>\n",
              "      <td>-</td>\n",
              "      <td>-</td>\n",
              "      <td>-</td>\n",
              "      <td>-</td>\n",
              "      <td>0.502205</td>\n",
              "      <td>-</td>\n",
              "      <td>-0.631526</td>\n",
              "    </tr>\n",
              "    <tr>\n",
              "      <th>Age</th>\n",
              "      <td>-</td>\n",
              "      <td>1.0</td>\n",
              "      <td>-</td>\n",
              "      <td>-</td>\n",
              "      <td>-</td>\n",
              "      <td>-</td>\n",
              "      <td>-</td>\n",
              "      <td>-</td>\n",
              "      <td>-</td>\n",
              "      <td>-</td>\n",
              "      <td>-</td>\n",
              "      <td>-</td>\n",
              "      <td>-</td>\n",
              "      <td>-</td>\n",
              "      <td>-</td>\n",
              "      <td>-</td>\n",
              "      <td>-</td>\n",
              "    </tr>\n",
              "    <tr>\n",
              "      <th>RestingBP</th>\n",
              "      <td>-</td>\n",
              "      <td>-</td>\n",
              "      <td>1.0</td>\n",
              "      <td>-</td>\n",
              "      <td>-</td>\n",
              "      <td>-</td>\n",
              "      <td>-</td>\n",
              "      <td>-</td>\n",
              "      <td>-</td>\n",
              "      <td>-</td>\n",
              "      <td>-</td>\n",
              "      <td>-</td>\n",
              "      <td>-</td>\n",
              "      <td>-</td>\n",
              "      <td>-</td>\n",
              "      <td>-</td>\n",
              "      <td>-</td>\n",
              "    </tr>\n",
              "    <tr>\n",
              "      <th>Cholesterol</th>\n",
              "      <td>-</td>\n",
              "      <td>-</td>\n",
              "      <td>-</td>\n",
              "      <td>1.0</td>\n",
              "      <td>-</td>\n",
              "      <td>-</td>\n",
              "      <td>-</td>\n",
              "      <td>-</td>\n",
              "      <td>-</td>\n",
              "      <td>-</td>\n",
              "      <td>-</td>\n",
              "      <td>-</td>\n",
              "      <td>-</td>\n",
              "      <td>-</td>\n",
              "      <td>-</td>\n",
              "      <td>-</td>\n",
              "      <td>-</td>\n",
              "    </tr>\n",
              "    <tr>\n",
              "      <th>Chol_NA</th>\n",
              "      <td>-</td>\n",
              "      <td>-</td>\n",
              "      <td>-</td>\n",
              "      <td>-</td>\n",
              "      <td>1.0</td>\n",
              "      <td>-</td>\n",
              "      <td>-</td>\n",
              "      <td>-</td>\n",
              "      <td>-</td>\n",
              "      <td>-</td>\n",
              "      <td>-</td>\n",
              "      <td>-</td>\n",
              "      <td>-</td>\n",
              "      <td>-</td>\n",
              "      <td>-</td>\n",
              "      <td>-</td>\n",
              "      <td>-</td>\n",
              "    </tr>\n",
              "    <tr>\n",
              "      <th>MaxHR</th>\n",
              "      <td>-0.413251</td>\n",
              "      <td>-</td>\n",
              "      <td>-</td>\n",
              "      <td>-</td>\n",
              "      <td>-</td>\n",
              "      <td>1.0</td>\n",
              "      <td>-</td>\n",
              "      <td>-</td>\n",
              "      <td>-</td>\n",
              "      <td>-</td>\n",
              "      <td>-</td>\n",
              "      <td>-</td>\n",
              "      <td>-</td>\n",
              "      <td>-</td>\n",
              "      <td>-0.410103</td>\n",
              "      <td>-</td>\n",
              "      <td>-</td>\n",
              "    </tr>\n",
              "    <tr>\n",
              "      <th>Oldpeak</th>\n",
              "      <td>0.436762</td>\n",
              "      <td>-</td>\n",
              "      <td>-</td>\n",
              "      <td>-</td>\n",
              "      <td>-</td>\n",
              "      <td>-</td>\n",
              "      <td>1.0</td>\n",
              "      <td>-</td>\n",
              "      <td>-</td>\n",
              "      <td>-</td>\n",
              "      <td>-</td>\n",
              "      <td>-</td>\n",
              "      <td>-</td>\n",
              "      <td>-</td>\n",
              "      <td>0.417747</td>\n",
              "      <td>-</td>\n",
              "      <td>-0.502399</td>\n",
              "    </tr>\n",
              "    <tr>\n",
              "      <th>Sex_F</th>\n",
              "      <td>-</td>\n",
              "      <td>-</td>\n",
              "      <td>-</td>\n",
              "      <td>-</td>\n",
              "      <td>-</td>\n",
              "      <td>-</td>\n",
              "      <td>-</td>\n",
              "      <td>1.0</td>\n",
              "      <td>-</td>\n",
              "      <td>-</td>\n",
              "      <td>-</td>\n",
              "      <td>-</td>\n",
              "      <td>-</td>\n",
              "      <td>-</td>\n",
              "      <td>-</td>\n",
              "      <td>-</td>\n",
              "      <td>-</td>\n",
              "    </tr>\n",
              "    <tr>\n",
              "      <th>ChestPainType_ATA</th>\n",
              "      <td>-0.42536</td>\n",
              "      <td>-</td>\n",
              "      <td>-</td>\n",
              "      <td>-</td>\n",
              "      <td>-</td>\n",
              "      <td>-</td>\n",
              "      <td>-</td>\n",
              "      <td>-</td>\n",
              "      <td>1.0</td>\n",
              "      <td>-</td>\n",
              "      <td>-</td>\n",
              "      <td>-</td>\n",
              "      <td>-</td>\n",
              "      <td>-</td>\n",
              "      <td>-</td>\n",
              "      <td>-</td>\n",
              "      <td>-</td>\n",
              "    </tr>\n",
              "    <tr>\n",
              "      <th>ChestPainType_NAP</th>\n",
              "      <td>-</td>\n",
              "      <td>-</td>\n",
              "      <td>-</td>\n",
              "      <td>-</td>\n",
              "      <td>-</td>\n",
              "      <td>-</td>\n",
              "      <td>-</td>\n",
              "      <td>-</td>\n",
              "      <td>-</td>\n",
              "      <td>1.0</td>\n",
              "      <td>-</td>\n",
              "      <td>-</td>\n",
              "      <td>-</td>\n",
              "      <td>-</td>\n",
              "      <td>-</td>\n",
              "      <td>-</td>\n",
              "      <td>-</td>\n",
              "    </tr>\n",
              "    <tr>\n",
              "      <th>ChestPainType_TA</th>\n",
              "      <td>-</td>\n",
              "      <td>-</td>\n",
              "      <td>-</td>\n",
              "      <td>-</td>\n",
              "      <td>-</td>\n",
              "      <td>-</td>\n",
              "      <td>-</td>\n",
              "      <td>-</td>\n",
              "      <td>-</td>\n",
              "      <td>-</td>\n",
              "      <td>1.0</td>\n",
              "      <td>-</td>\n",
              "      <td>-</td>\n",
              "      <td>-</td>\n",
              "      <td>-</td>\n",
              "      <td>-</td>\n",
              "      <td>-</td>\n",
              "    </tr>\n",
              "    <tr>\n",
              "      <th>FastingBS</th>\n",
              "      <td>-</td>\n",
              "      <td>-</td>\n",
              "      <td>-</td>\n",
              "      <td>-</td>\n",
              "      <td>-</td>\n",
              "      <td>-</td>\n",
              "      <td>-</td>\n",
              "      <td>-</td>\n",
              "      <td>-</td>\n",
              "      <td>-</td>\n",
              "      <td>-</td>\n",
              "      <td>1.0</td>\n",
              "      <td>-</td>\n",
              "      <td>-</td>\n",
              "      <td>-</td>\n",
              "      <td>-</td>\n",
              "      <td>-</td>\n",
              "    </tr>\n",
              "    <tr>\n",
              "      <th>RestingECG_LVH</th>\n",
              "      <td>-</td>\n",
              "      <td>-</td>\n",
              "      <td>-</td>\n",
              "      <td>-</td>\n",
              "      <td>-</td>\n",
              "      <td>-</td>\n",
              "      <td>-</td>\n",
              "      <td>-</td>\n",
              "      <td>-</td>\n",
              "      <td>-</td>\n",
              "      <td>-</td>\n",
              "      <td>-</td>\n",
              "      <td>1.0</td>\n",
              "      <td>-</td>\n",
              "      <td>-</td>\n",
              "      <td>-</td>\n",
              "      <td>-</td>\n",
              "    </tr>\n",
              "    <tr>\n",
              "      <th>RestingECG_ST</th>\n",
              "      <td>-</td>\n",
              "      <td>-</td>\n",
              "      <td>-</td>\n",
              "      <td>-</td>\n",
              "      <td>-</td>\n",
              "      <td>-</td>\n",
              "      <td>-</td>\n",
              "      <td>-</td>\n",
              "      <td>-</td>\n",
              "      <td>-</td>\n",
              "      <td>-</td>\n",
              "      <td>-</td>\n",
              "      <td>-</td>\n",
              "      <td>1.0</td>\n",
              "      <td>-</td>\n",
              "      <td>-</td>\n",
              "      <td>-</td>\n",
              "    </tr>\n",
              "    <tr>\n",
              "      <th>ExerciseAngina</th>\n",
              "      <td>0.502205</td>\n",
              "      <td>-</td>\n",
              "      <td>-</td>\n",
              "      <td>-</td>\n",
              "      <td>-</td>\n",
              "      <td>-0.410103</td>\n",
              "      <td>0.417747</td>\n",
              "      <td>-</td>\n",
              "      <td>-</td>\n",
              "      <td>-</td>\n",
              "      <td>-</td>\n",
              "      <td>-</td>\n",
              "      <td>-</td>\n",
              "      <td>-</td>\n",
              "      <td>1.0</td>\n",
              "      <td>-</td>\n",
              "      <td>-0.461507</td>\n",
              "    </tr>\n",
              "    <tr>\n",
              "      <th>ST_Slope_Down</th>\n",
              "      <td>-</td>\n",
              "      <td>-</td>\n",
              "      <td>-</td>\n",
              "      <td>-</td>\n",
              "      <td>-</td>\n",
              "      <td>-</td>\n",
              "      <td>-</td>\n",
              "      <td>-</td>\n",
              "      <td>-</td>\n",
              "      <td>-</td>\n",
              "      <td>-</td>\n",
              "      <td>-</td>\n",
              "      <td>-</td>\n",
              "      <td>-</td>\n",
              "      <td>-</td>\n",
              "      <td>1.0</td>\n",
              "      <td>-</td>\n",
              "    </tr>\n",
              "    <tr>\n",
              "      <th>ST_Slope_Up</th>\n",
              "      <td>-0.631526</td>\n",
              "      <td>-</td>\n",
              "      <td>-</td>\n",
              "      <td>-</td>\n",
              "      <td>-</td>\n",
              "      <td>-</td>\n",
              "      <td>-0.502399</td>\n",
              "      <td>-</td>\n",
              "      <td>-</td>\n",
              "      <td>-</td>\n",
              "      <td>-</td>\n",
              "      <td>-</td>\n",
              "      <td>-</td>\n",
              "      <td>-</td>\n",
              "      <td>-0.461507</td>\n",
              "      <td>-</td>\n",
              "      <td>1.0</td>\n",
              "    </tr>\n",
              "  </tbody>\n",
              "</table>\n",
              "</div>\n",
              "      <button class=\"colab-df-convert\" onclick=\"convertToInteractive('df-cdde9d85-81ab-4b9c-a9c1-4c74d6ed9cf3')\"\n",
              "              title=\"Convert this dataframe to an interactive table.\"\n",
              "              style=\"display:none;\">\n",
              "        \n",
              "  <svg xmlns=\"http://www.w3.org/2000/svg\" height=\"24px\"viewBox=\"0 0 24 24\"\n",
              "       width=\"24px\">\n",
              "    <path d=\"M0 0h24v24H0V0z\" fill=\"none\"/>\n",
              "    <path d=\"M18.56 5.44l.94 2.06.94-2.06 2.06-.94-2.06-.94-.94-2.06-.94 2.06-2.06.94zm-11 1L8.5 8.5l.94-2.06 2.06-.94-2.06-.94L8.5 2.5l-.94 2.06-2.06.94zm10 10l.94 2.06.94-2.06 2.06-.94-2.06-.94-.94-2.06-.94 2.06-2.06.94z\"/><path d=\"M17.41 7.96l-1.37-1.37c-.4-.4-.92-.59-1.43-.59-.52 0-1.04.2-1.43.59L10.3 9.45l-7.72 7.72c-.78.78-.78 2.05 0 2.83L4 21.41c.39.39.9.59 1.41.59.51 0 1.02-.2 1.41-.59l7.78-7.78 2.81-2.81c.8-.78.8-2.07 0-2.86zM5.41 20L4 18.59l7.72-7.72 1.47 1.35L5.41 20z\"/>\n",
              "  </svg>\n",
              "      </button>\n",
              "      \n",
              "  <style>\n",
              "    .colab-df-container {\n",
              "      display:flex;\n",
              "      flex-wrap:wrap;\n",
              "      gap: 12px;\n",
              "    }\n",
              "\n",
              "    .colab-df-convert {\n",
              "      background-color: #E8F0FE;\n",
              "      border: none;\n",
              "      border-radius: 50%;\n",
              "      cursor: pointer;\n",
              "      display: none;\n",
              "      fill: #1967D2;\n",
              "      height: 32px;\n",
              "      padding: 0 0 0 0;\n",
              "      width: 32px;\n",
              "    }\n",
              "\n",
              "    .colab-df-convert:hover {\n",
              "      background-color: #E2EBFA;\n",
              "      box-shadow: 0px 1px 2px rgba(60, 64, 67, 0.3), 0px 1px 3px 1px rgba(60, 64, 67, 0.15);\n",
              "      fill: #174EA6;\n",
              "    }\n",
              "\n",
              "    [theme=dark] .colab-df-convert {\n",
              "      background-color: #3B4455;\n",
              "      fill: #D2E3FC;\n",
              "    }\n",
              "\n",
              "    [theme=dark] .colab-df-convert:hover {\n",
              "      background-color: #434B5C;\n",
              "      box-shadow: 0px 1px 3px 1px rgba(0, 0, 0, 0.15);\n",
              "      filter: drop-shadow(0px 1px 2px rgba(0, 0, 0, 0.3));\n",
              "      fill: #FFFFFF;\n",
              "    }\n",
              "  </style>\n",
              "\n",
              "      <script>\n",
              "        const buttonEl =\n",
              "          document.querySelector('#df-cdde9d85-81ab-4b9c-a9c1-4c74d6ed9cf3 button.colab-df-convert');\n",
              "        buttonEl.style.display =\n",
              "          google.colab.kernel.accessAllowed ? 'block' : 'none';\n",
              "\n",
              "        async function convertToInteractive(key) {\n",
              "          const element = document.querySelector('#df-cdde9d85-81ab-4b9c-a9c1-4c74d6ed9cf3');\n",
              "          const dataTable =\n",
              "            await google.colab.kernel.invokeFunction('convertToInteractive',\n",
              "                                                     [key], {});\n",
              "          if (!dataTable) return;\n",
              "\n",
              "          const docLinkHtml = 'Like what you see? Visit the ' +\n",
              "            '<a target=\"_blank\" href=https://colab.research.google.com/notebooks/data_table.ipynb>data table notebook</a>'\n",
              "            + ' to learn more about interactive tables.';\n",
              "          element.innerHTML = '';\n",
              "          dataTable['output_type'] = 'display_data';\n",
              "          await google.colab.output.renderOutput(dataTable, element);\n",
              "          const docLink = document.createElement('div');\n",
              "          docLink.innerHTML = docLinkHtml;\n",
              "          element.appendChild(docLink);\n",
              "        }\n",
              "      </script>\n",
              "    </div>\n",
              "  </div>\n",
              "  "
            ]
          },
          "metadata": {},
          "execution_count": 13
        }
      ]
    },
    {
      "cell_type": "markdown",
      "source": [
        "**Conclusions**:\n",
        "*   *HeartDisease* has a rank correlation of +0.4 or more with *ExerciseAngina* & *Oldpeak*, and of -0.4 or less with *MaxHR*, *ChestPainType_ATA*, and *ST_Slope_Up*.\n",
        "*   Also, *ExerciseAngina* & *Oldpeak* are significantly positively associated. Further, *ExerciseAngina* & *MaxHR*, *Oldpeak* & *ST_Slope_Up*, and *ExerciseAngina* & *ST_Slope_Up* are significantly negatively correlated.\n",
        "*   Hence, among the observed variables, ..."
      ],
      "metadata": {
        "id": "5IzZHDoY4OKQ"
      }
    },
    {
      "cell_type": "markdown",
      "source": [
        "## **Q2: Logistic Lasso Regression**"
      ],
      "metadata": {
        "id": "azYQaxOREGgg"
      }
    },
    {
      "cell_type": "markdown",
      "source": [
        "When using regularization, we need to account for the fact that we introduced dummy variables. Specifically, we want to regularize the inclusion of entire variables, e.g. \"Sex\", and not certain categories, e.g. \"Female\", as this would introduce bias depending on the default category. To tackle this, we purposefully introduce all categories of categorical variables again and use Group Lasso. Altough this usually introduces multicollinearity, regularization serves to deal with this."
      ],
      "metadata": {
        "id": "5Oag3CSu2Hsz"
      }
    },
    {
      "cell_type": "code",
      "source": [
        "y_train_val = train_val_data.loc[:,\"HeartDisease\"]\n",
        "X_train_val = train_val_data.drop(\"HeartDisease\", axis=1)"
      ],
      "metadata": {
        "id": "6iBQtzMC77Sc"
      },
      "execution_count": 14,
      "outputs": []
    },
    {
      "cell_type": "markdown",
      "source": [
        "Prior to the Lasso regression, we standardize continuous predictors. This usually improves accuracy and adequate variable selection, while only slightly affecting the interpretability of the coefficients."
      ],
      "metadata": {
        "id": "K7nvgId47sCI"
      }
    },
    {
      "cell_type": "code",
      "source": [
        "## standardize continuous variables\n",
        "from sklearn.preprocessing import StandardScaler\n",
        "scaler = StandardScaler()\n",
        "\n",
        "cont_fts = [\"Age\", \"RestingBP\", \"Cholesterol\", \"MaxHR\", \"Oldpeak\"]\n",
        "\n",
        "X_train_val.loc[:,cont_fts] = pd.DataFrame(\n",
        "    scaler.fit_transform(X_train_val.loc[:,cont_fts]),\n",
        "    columns = cont_fts)"
      ],
      "metadata": {
        "id": "ta_r5R9J1n3v"
      },
      "execution_count": 15,
      "outputs": []
    },
    {
      "cell_type": "code",
      "source": [
        "## train/validation-split\n",
        "from sklearn.model_selection import train_test_split\n",
        "\n",
        "train_size = 0.7\n",
        "X_train, X_test, y_train, y_test = train_test_split(X_train_val, y_train_val, train_size=train_size, random_state=1)\n",
        "\n",
        "ft_names = X_train.columns"
      ],
      "metadata": {
        "id": "Z-IHw_RpFT3U"
      },
      "execution_count": 17,
      "outputs": []
    },
    {
      "cell_type": "code",
      "source": [
        "#!pip install group-lasso\n",
        "from group_lasso import LogisticGroupLasso\n",
        "\n",
        "group_names = [\"Age\", \"RestingBP\", \"Cholesterol\", \"Chol_NA\", \"MaxHR\", \"Oldpeak\",\n",
        "               \"Sex\", \"ChestPain\", \"FastingBS\", \"RestingECG\", \"ExerciseAngina\",\n",
        "               \"ST_Slope\"]\n",
        "group_sizes = [1, 1, 1, 1, 1, 1,\n",
        "               2, 4, 2, 3, 2, 3]\n",
        "n_groups = len(group_sizes)\n",
        "groups = np.concatenate([size * [i] for i, size in enumerate(group_sizes)])\n",
        "\n",
        "lgl = LogisticGroupLasso(\n",
        "    groups = groups,\n",
        "    group_reg = 0.1,\n",
        "    l1_reg = 0.0,\n",
        "    scale_reg = \"inverse_group_size\",\n",
        "    subsampling_scheme = 1,\n",
        "    supress_warning = True,\n",
        ")\n",
        "\n",
        "# estimate coefficients\n",
        "lgl.fit(X_train, y_train)\n",
        "coeffs = lgl.coef_[:, 1] - lgl.coef_[:, 0]\n",
        "coeffs = pd.DataFrame(coeffs, index=ft_names)\n",
        "coeffs.columns = [\"Coef\"]\n",
        "\n",
        "# examine group norms\n",
        "group_norms = np.array([[np.nan]]*n_groups)\n",
        "for i in range(n_groups):\n",
        "  group_coeffs = coeffs.loc[groups==i,:].values\n",
        "  group_norms[i,:] = np.linalg.norm(group_coeffs, ord=1)\n",
        "\n",
        "group_norms = pd.DataFrame(group_norms, index=group_names, columns=[\"Group Norm\"])\n",
        "\n",
        "# print result\n",
        "coeffs.replace(0, \"-\", inplace=True)\n",
        "group_norms.replace(0, \"-\", inplace=True)\n",
        "display(coeffs)\n",
        "display(group_norms)"
      ],
      "metadata": {
        "colab": {
          "base_uri": "https://localhost:8080/",
          "height": 1000
        },
        "id": "EJqDdBtU5xTC",
        "outputId": "3dd33675-5a67-44cf-ba2d-292975b43e93"
      },
      "execution_count": 19,
      "outputs": [
        {
          "output_type": "stream",
          "name": "stdout",
          "text": [
            "Looking in indexes: https://pypi.org/simple, https://us-python.pkg.dev/colab-wheels/public/simple/\n",
            "Collecting group-lasso\n",
            "  Downloading group_lasso-1.5.0-py3-none-any.whl (33 kB)\n",
            "Requirement already satisfied: numpy in /usr/local/lib/python3.9/dist-packages (from group-lasso) (1.22.4)\n",
            "Requirement already satisfied: scikit-learn in /usr/local/lib/python3.9/dist-packages (from group-lasso) (1.2.2)\n",
            "Requirement already satisfied: scipy>=1.3.2 in /usr/local/lib/python3.9/dist-packages (from scikit-learn->group-lasso) (1.10.1)\n",
            "Requirement already satisfied: joblib>=1.1.1 in /usr/local/lib/python3.9/dist-packages (from scikit-learn->group-lasso) (1.1.1)\n",
            "Requirement already satisfied: threadpoolctl>=2.0.0 in /usr/local/lib/python3.9/dist-packages (from scikit-learn->group-lasso) (3.1.0)\n",
            "Installing collected packages: group-lasso\n",
            "Successfully installed group-lasso-1.5.0\n"
          ]
        },
        {
          "output_type": "display_data",
          "data": {
            "text/plain": [
              "                       Coef\n",
              "Age                       -\n",
              "RestingBP                 -\n",
              "Cholesterol               -\n",
              "Chol_NA                   -\n",
              "MaxHR                     -\n",
              "Oldpeak                   -\n",
              "Sex_F                     -\n",
              "Sex_M                     -\n",
              "ChestPainType_ASY   0.78326\n",
              "ChestPainType_ATA -0.462616\n",
              "ChestPainType_NAP -0.290058\n",
              "ChestPainType_TA  -0.030586\n",
              "FastingBS_0               -\n",
              "FastingBS_1               -\n",
              "RestingECG_LVH            -\n",
              "RestingECG_Normal         -\n",
              "RestingECG_ST             -\n",
              "ExerciseAngina_N          -\n",
              "ExerciseAngina_Y          -\n",
              "ST_Slope_Down       0.12126\n",
              "ST_Slope_Flat      0.530903\n",
              "ST_Slope_Up       -0.652162"
            ],
            "text/html": [
              "\n",
              "  <div id=\"df-8577cca5-dd87-43fc-ab08-7225ca310585\">\n",
              "    <div class=\"colab-df-container\">\n",
              "      <div>\n",
              "<style scoped>\n",
              "    .dataframe tbody tr th:only-of-type {\n",
              "        vertical-align: middle;\n",
              "    }\n",
              "\n",
              "    .dataframe tbody tr th {\n",
              "        vertical-align: top;\n",
              "    }\n",
              "\n",
              "    .dataframe thead th {\n",
              "        text-align: right;\n",
              "    }\n",
              "</style>\n",
              "<table border=\"1\" class=\"dataframe\">\n",
              "  <thead>\n",
              "    <tr style=\"text-align: right;\">\n",
              "      <th></th>\n",
              "      <th>Coef</th>\n",
              "    </tr>\n",
              "  </thead>\n",
              "  <tbody>\n",
              "    <tr>\n",
              "      <th>Age</th>\n",
              "      <td>-</td>\n",
              "    </tr>\n",
              "    <tr>\n",
              "      <th>RestingBP</th>\n",
              "      <td>-</td>\n",
              "    </tr>\n",
              "    <tr>\n",
              "      <th>Cholesterol</th>\n",
              "      <td>-</td>\n",
              "    </tr>\n",
              "    <tr>\n",
              "      <th>Chol_NA</th>\n",
              "      <td>-</td>\n",
              "    </tr>\n",
              "    <tr>\n",
              "      <th>MaxHR</th>\n",
              "      <td>-</td>\n",
              "    </tr>\n",
              "    <tr>\n",
              "      <th>Oldpeak</th>\n",
              "      <td>-</td>\n",
              "    </tr>\n",
              "    <tr>\n",
              "      <th>Sex_F</th>\n",
              "      <td>-</td>\n",
              "    </tr>\n",
              "    <tr>\n",
              "      <th>Sex_M</th>\n",
              "      <td>-</td>\n",
              "    </tr>\n",
              "    <tr>\n",
              "      <th>ChestPainType_ASY</th>\n",
              "      <td>0.78326</td>\n",
              "    </tr>\n",
              "    <tr>\n",
              "      <th>ChestPainType_ATA</th>\n",
              "      <td>-0.462616</td>\n",
              "    </tr>\n",
              "    <tr>\n",
              "      <th>ChestPainType_NAP</th>\n",
              "      <td>-0.290058</td>\n",
              "    </tr>\n",
              "    <tr>\n",
              "      <th>ChestPainType_TA</th>\n",
              "      <td>-0.030586</td>\n",
              "    </tr>\n",
              "    <tr>\n",
              "      <th>FastingBS_0</th>\n",
              "      <td>-</td>\n",
              "    </tr>\n",
              "    <tr>\n",
              "      <th>FastingBS_1</th>\n",
              "      <td>-</td>\n",
              "    </tr>\n",
              "    <tr>\n",
              "      <th>RestingECG_LVH</th>\n",
              "      <td>-</td>\n",
              "    </tr>\n",
              "    <tr>\n",
              "      <th>RestingECG_Normal</th>\n",
              "      <td>-</td>\n",
              "    </tr>\n",
              "    <tr>\n",
              "      <th>RestingECG_ST</th>\n",
              "      <td>-</td>\n",
              "    </tr>\n",
              "    <tr>\n",
              "      <th>ExerciseAngina_N</th>\n",
              "      <td>-</td>\n",
              "    </tr>\n",
              "    <tr>\n",
              "      <th>ExerciseAngina_Y</th>\n",
              "      <td>-</td>\n",
              "    </tr>\n",
              "    <tr>\n",
              "      <th>ST_Slope_Down</th>\n",
              "      <td>0.12126</td>\n",
              "    </tr>\n",
              "    <tr>\n",
              "      <th>ST_Slope_Flat</th>\n",
              "      <td>0.530903</td>\n",
              "    </tr>\n",
              "    <tr>\n",
              "      <th>ST_Slope_Up</th>\n",
              "      <td>-0.652162</td>\n",
              "    </tr>\n",
              "  </tbody>\n",
              "</table>\n",
              "</div>\n",
              "      <button class=\"colab-df-convert\" onclick=\"convertToInteractive('df-8577cca5-dd87-43fc-ab08-7225ca310585')\"\n",
              "              title=\"Convert this dataframe to an interactive table.\"\n",
              "              style=\"display:none;\">\n",
              "        \n",
              "  <svg xmlns=\"http://www.w3.org/2000/svg\" height=\"24px\"viewBox=\"0 0 24 24\"\n",
              "       width=\"24px\">\n",
              "    <path d=\"M0 0h24v24H0V0z\" fill=\"none\"/>\n",
              "    <path d=\"M18.56 5.44l.94 2.06.94-2.06 2.06-.94-2.06-.94-.94-2.06-.94 2.06-2.06.94zm-11 1L8.5 8.5l.94-2.06 2.06-.94-2.06-.94L8.5 2.5l-.94 2.06-2.06.94zm10 10l.94 2.06.94-2.06 2.06-.94-2.06-.94-.94-2.06-.94 2.06-2.06.94z\"/><path d=\"M17.41 7.96l-1.37-1.37c-.4-.4-.92-.59-1.43-.59-.52 0-1.04.2-1.43.59L10.3 9.45l-7.72 7.72c-.78.78-.78 2.05 0 2.83L4 21.41c.39.39.9.59 1.41.59.51 0 1.02-.2 1.41-.59l7.78-7.78 2.81-2.81c.8-.78.8-2.07 0-2.86zM5.41 20L4 18.59l7.72-7.72 1.47 1.35L5.41 20z\"/>\n",
              "  </svg>\n",
              "      </button>\n",
              "      \n",
              "  <style>\n",
              "    .colab-df-container {\n",
              "      display:flex;\n",
              "      flex-wrap:wrap;\n",
              "      gap: 12px;\n",
              "    }\n",
              "\n",
              "    .colab-df-convert {\n",
              "      background-color: #E8F0FE;\n",
              "      border: none;\n",
              "      border-radius: 50%;\n",
              "      cursor: pointer;\n",
              "      display: none;\n",
              "      fill: #1967D2;\n",
              "      height: 32px;\n",
              "      padding: 0 0 0 0;\n",
              "      width: 32px;\n",
              "    }\n",
              "\n",
              "    .colab-df-convert:hover {\n",
              "      background-color: #E2EBFA;\n",
              "      box-shadow: 0px 1px 2px rgba(60, 64, 67, 0.3), 0px 1px 3px 1px rgba(60, 64, 67, 0.15);\n",
              "      fill: #174EA6;\n",
              "    }\n",
              "\n",
              "    [theme=dark] .colab-df-convert {\n",
              "      background-color: #3B4455;\n",
              "      fill: #D2E3FC;\n",
              "    }\n",
              "\n",
              "    [theme=dark] .colab-df-convert:hover {\n",
              "      background-color: #434B5C;\n",
              "      box-shadow: 0px 1px 3px 1px rgba(0, 0, 0, 0.15);\n",
              "      filter: drop-shadow(0px 1px 2px rgba(0, 0, 0, 0.3));\n",
              "      fill: #FFFFFF;\n",
              "    }\n",
              "  </style>\n",
              "\n",
              "      <script>\n",
              "        const buttonEl =\n",
              "          document.querySelector('#df-8577cca5-dd87-43fc-ab08-7225ca310585 button.colab-df-convert');\n",
              "        buttonEl.style.display =\n",
              "          google.colab.kernel.accessAllowed ? 'block' : 'none';\n",
              "\n",
              "        async function convertToInteractive(key) {\n",
              "          const element = document.querySelector('#df-8577cca5-dd87-43fc-ab08-7225ca310585');\n",
              "          const dataTable =\n",
              "            await google.colab.kernel.invokeFunction('convertToInteractive',\n",
              "                                                     [key], {});\n",
              "          if (!dataTable) return;\n",
              "\n",
              "          const docLinkHtml = 'Like what you see? Visit the ' +\n",
              "            '<a target=\"_blank\" href=https://colab.research.google.com/notebooks/data_table.ipynb>data table notebook</a>'\n",
              "            + ' to learn more about interactive tables.';\n",
              "          element.innerHTML = '';\n",
              "          dataTable['output_type'] = 'display_data';\n",
              "          await google.colab.output.renderOutput(dataTable, element);\n",
              "          const docLink = document.createElement('div');\n",
              "          docLink.innerHTML = docLinkHtml;\n",
              "          element.appendChild(docLink);\n",
              "        }\n",
              "      </script>\n",
              "    </div>\n",
              "  </div>\n",
              "  "
            ]
          },
          "metadata": {}
        },
        {
          "output_type": "display_data",
          "data": {
            "text/plain": [
              "               Group Norm\n",
              "Age                     -\n",
              "RestingBP               -\n",
              "Cholesterol             -\n",
              "Chol_NA                 -\n",
              "MaxHR                   -\n",
              "Oldpeak                 -\n",
              "Sex                     -\n",
              "ChestPain         1.56652\n",
              "FastingBS               -\n",
              "RestingECG              -\n",
              "ExerciseAngina          -\n",
              "ST_Slope         1.304325"
            ],
            "text/html": [
              "\n",
              "  <div id=\"df-a7e45015-b4d3-4e41-b006-23a0eaff9045\">\n",
              "    <div class=\"colab-df-container\">\n",
              "      <div>\n",
              "<style scoped>\n",
              "    .dataframe tbody tr th:only-of-type {\n",
              "        vertical-align: middle;\n",
              "    }\n",
              "\n",
              "    .dataframe tbody tr th {\n",
              "        vertical-align: top;\n",
              "    }\n",
              "\n",
              "    .dataframe thead th {\n",
              "        text-align: right;\n",
              "    }\n",
              "</style>\n",
              "<table border=\"1\" class=\"dataframe\">\n",
              "  <thead>\n",
              "    <tr style=\"text-align: right;\">\n",
              "      <th></th>\n",
              "      <th>Group Norm</th>\n",
              "    </tr>\n",
              "  </thead>\n",
              "  <tbody>\n",
              "    <tr>\n",
              "      <th>Age</th>\n",
              "      <td>-</td>\n",
              "    </tr>\n",
              "    <tr>\n",
              "      <th>RestingBP</th>\n",
              "      <td>-</td>\n",
              "    </tr>\n",
              "    <tr>\n",
              "      <th>Cholesterol</th>\n",
              "      <td>-</td>\n",
              "    </tr>\n",
              "    <tr>\n",
              "      <th>Chol_NA</th>\n",
              "      <td>-</td>\n",
              "    </tr>\n",
              "    <tr>\n",
              "      <th>MaxHR</th>\n",
              "      <td>-</td>\n",
              "    </tr>\n",
              "    <tr>\n",
              "      <th>Oldpeak</th>\n",
              "      <td>-</td>\n",
              "    </tr>\n",
              "    <tr>\n",
              "      <th>Sex</th>\n",
              "      <td>-</td>\n",
              "    </tr>\n",
              "    <tr>\n",
              "      <th>ChestPain</th>\n",
              "      <td>1.56652</td>\n",
              "    </tr>\n",
              "    <tr>\n",
              "      <th>FastingBS</th>\n",
              "      <td>-</td>\n",
              "    </tr>\n",
              "    <tr>\n",
              "      <th>RestingECG</th>\n",
              "      <td>-</td>\n",
              "    </tr>\n",
              "    <tr>\n",
              "      <th>ExerciseAngina</th>\n",
              "      <td>-</td>\n",
              "    </tr>\n",
              "    <tr>\n",
              "      <th>ST_Slope</th>\n",
              "      <td>1.304325</td>\n",
              "    </tr>\n",
              "  </tbody>\n",
              "</table>\n",
              "</div>\n",
              "      <button class=\"colab-df-convert\" onclick=\"convertToInteractive('df-a7e45015-b4d3-4e41-b006-23a0eaff9045')\"\n",
              "              title=\"Convert this dataframe to an interactive table.\"\n",
              "              style=\"display:none;\">\n",
              "        \n",
              "  <svg xmlns=\"http://www.w3.org/2000/svg\" height=\"24px\"viewBox=\"0 0 24 24\"\n",
              "       width=\"24px\">\n",
              "    <path d=\"M0 0h24v24H0V0z\" fill=\"none\"/>\n",
              "    <path d=\"M18.56 5.44l.94 2.06.94-2.06 2.06-.94-2.06-.94-.94-2.06-.94 2.06-2.06.94zm-11 1L8.5 8.5l.94-2.06 2.06-.94-2.06-.94L8.5 2.5l-.94 2.06-2.06.94zm10 10l.94 2.06.94-2.06 2.06-.94-2.06-.94-.94-2.06-.94 2.06-2.06.94z\"/><path d=\"M17.41 7.96l-1.37-1.37c-.4-.4-.92-.59-1.43-.59-.52 0-1.04.2-1.43.59L10.3 9.45l-7.72 7.72c-.78.78-.78 2.05 0 2.83L4 21.41c.39.39.9.59 1.41.59.51 0 1.02-.2 1.41-.59l7.78-7.78 2.81-2.81c.8-.78.8-2.07 0-2.86zM5.41 20L4 18.59l7.72-7.72 1.47 1.35L5.41 20z\"/>\n",
              "  </svg>\n",
              "      </button>\n",
              "      \n",
              "  <style>\n",
              "    .colab-df-container {\n",
              "      display:flex;\n",
              "      flex-wrap:wrap;\n",
              "      gap: 12px;\n",
              "    }\n",
              "\n",
              "    .colab-df-convert {\n",
              "      background-color: #E8F0FE;\n",
              "      border: none;\n",
              "      border-radius: 50%;\n",
              "      cursor: pointer;\n",
              "      display: none;\n",
              "      fill: #1967D2;\n",
              "      height: 32px;\n",
              "      padding: 0 0 0 0;\n",
              "      width: 32px;\n",
              "    }\n",
              "\n",
              "    .colab-df-convert:hover {\n",
              "      background-color: #E2EBFA;\n",
              "      box-shadow: 0px 1px 2px rgba(60, 64, 67, 0.3), 0px 1px 3px 1px rgba(60, 64, 67, 0.15);\n",
              "      fill: #174EA6;\n",
              "    }\n",
              "\n",
              "    [theme=dark] .colab-df-convert {\n",
              "      background-color: #3B4455;\n",
              "      fill: #D2E3FC;\n",
              "    }\n",
              "\n",
              "    [theme=dark] .colab-df-convert:hover {\n",
              "      background-color: #434B5C;\n",
              "      box-shadow: 0px 1px 3px 1px rgba(0, 0, 0, 0.15);\n",
              "      filter: drop-shadow(0px 1px 2px rgba(0, 0, 0, 0.3));\n",
              "      fill: #FFFFFF;\n",
              "    }\n",
              "  </style>\n",
              "\n",
              "      <script>\n",
              "        const buttonEl =\n",
              "          document.querySelector('#df-a7e45015-b4d3-4e41-b006-23a0eaff9045 button.colab-df-convert');\n",
              "        buttonEl.style.display =\n",
              "          google.colab.kernel.accessAllowed ? 'block' : 'none';\n",
              "\n",
              "        async function convertToInteractive(key) {\n",
              "          const element = document.querySelector('#df-a7e45015-b4d3-4e41-b006-23a0eaff9045');\n",
              "          const dataTable =\n",
              "            await google.colab.kernel.invokeFunction('convertToInteractive',\n",
              "                                                     [key], {});\n",
              "          if (!dataTable) return;\n",
              "\n",
              "          const docLinkHtml = 'Like what you see? Visit the ' +\n",
              "            '<a target=\"_blank\" href=https://colab.research.google.com/notebooks/data_table.ipynb>data table notebook</a>'\n",
              "            + ' to learn more about interactive tables.';\n",
              "          element.innerHTML = '';\n",
              "          dataTable['output_type'] = 'display_data';\n",
              "          await google.colab.output.renderOutput(dataTable, element);\n",
              "          const docLink = document.createElement('div');\n",
              "          docLink.innerHTML = docLinkHtml;\n",
              "          element.appendChild(docLink);\n",
              "        }\n",
              "      </script>\n",
              "    </div>\n",
              "  </div>\n",
              "  "
            ]
          },
          "metadata": {}
        }
      ]
    },
    {
      "cell_type": "markdown",
      "source": [
        "Since continuous predictors have been standardized, their coefficients are to be interpreted as the effect of a 1 standard deviation increase of the variable on the log-odds of having heart disease. For the respective variables, these are the following:"
      ],
      "metadata": {
        "id": "Okg2gDbS9MjJ"
      }
    },
    {
      "cell_type": "code",
      "source": [
        "train_val_data.loc[:,cont_fts].std()"
      ],
      "metadata": {
        "colab": {
          "base_uri": "https://localhost:8080/"
        },
        "id": "A000F4Y9Anom",
        "outputId": "0bd7e7b6-77ec-48b0-afe0-18fc05afd282"
      },
      "execution_count": 20,
      "outputs": [
        {
          "output_type": "execute_result",
          "data": {
            "text/plain": [
              "Age             9.421110\n",
              "RestingBP      18.618490\n",
              "Cholesterol    50.802178\n",
              "MaxHR          25.334552\n",
              "Oldpeak         1.082222\n",
              "dtype: float64"
            ]
          },
          "metadata": {},
          "execution_count": 20
        }
      ]
    },
    {
      "cell_type": "markdown",
      "source": [
        "We note that Lasso selects only variables which are relevant for prediction, but that there is no guarantee of it identifying the *causal* variables. In our case, ..."
      ],
      "metadata": {
        "id": "Et9LFzxh2xTi"
      }
    },
    {
      "cell_type": "code",
      "source": [],
      "metadata": {
        "id": "7u0LE0NjukYe"
      },
      "execution_count": null,
      "outputs": []
    }
  ]
}